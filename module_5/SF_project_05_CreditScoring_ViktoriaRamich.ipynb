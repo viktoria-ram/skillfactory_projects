{
 "cells": [
  {
   "cell_type": "code",
   "execution_count": 1,
   "metadata": {
    "_cell_guid": "b1076dfc-b9ad-4769-8c92-a6c4dae69d19",
    "_uuid": "8f2839f25d086af736a60e9eeb907d3b93b6e0e5",
    "execution": {
     "iopub.execute_input": "2021-03-01T11:38:15.115487Z",
     "iopub.status.busy": "2021-03-01T11:38:15.114839Z",
     "iopub.status.idle": "2021-03-01T11:38:16.444697Z",
     "shell.execute_reply": "2021-03-01T11:38:16.443926Z"
    },
    "papermill": {
     "duration": 1.379089,
     "end_time": "2021-03-01T11:38:16.444883",
     "exception": false,
     "start_time": "2021-03-01T11:38:15.065794",
     "status": "completed"
    },
    "tags": []
   },
   "outputs": [
    {
     "ename": "NameError",
     "evalue": "name 'pltmutual' is not defined",
     "output_type": "error",
     "traceback": [
      "\u001b[0;31m---------------------------------------------------------------------------\u001b[0m",
      "\u001b[0;31mNameError\u001b[0m                                 Traceback (most recent call last)",
      "\u001b[0;32m<ipython-input-1-ecd95d9b82b1>\u001b[0m in \u001b[0;36m<module>\u001b[0;34m\u001b[0m\n\u001b[1;32m     24\u001b[0m \u001b[0;34m\u001b[0m\u001b[0m\n\u001b[1;32m     25\u001b[0m \u001b[0;32mimport\u001b[0m \u001b[0mmatplotlib\u001b[0m\u001b[0;34m\u001b[0m\u001b[0;34m\u001b[0m\u001b[0m\n\u001b[0;32m---> 26\u001b[0;31m \u001b[0mpltmutual\u001b[0m\u001b[0;34m.\u001b[0m\u001b[0mstyle\u001b[0m\u001b[0;34m.\u001b[0m\u001b[0muse\u001b[0m\u001b[0;34m(\u001b[0m\u001b[0;34m'ggplot'\u001b[0m\u001b[0;34m)\u001b[0m\u001b[0;34m\u001b[0m\u001b[0;34m\u001b[0m\u001b[0m\n\u001b[0m\u001b[1;32m     27\u001b[0m \u001b[0mget_ipython\u001b[0m\u001b[0;34m(\u001b[0m\u001b[0;34m)\u001b[0m\u001b[0;34m.\u001b[0m\u001b[0mrun_line_magic\u001b[0m\u001b[0;34m(\u001b[0m\u001b[0;34m'matplotlib'\u001b[0m\u001b[0;34m,\u001b[0m \u001b[0;34m'inline'\u001b[0m\u001b[0;34m)\u001b[0m\u001b[0;34m\u001b[0m\u001b[0;34m\u001b[0m\u001b[0m\n\u001b[1;32m     28\u001b[0m \u001b[0mmatplotlib\u001b[0m\u001b[0;34m.\u001b[0m\u001b[0mrcParams\u001b[0m\u001b[0;34m[\u001b[0m\u001b[0;34m'figure.figsize'\u001b[0m\u001b[0;34m]\u001b[0m \u001b[0;34m=\u001b[0m \u001b[0;34m(\u001b[0m\u001b[0;36m12\u001b[0m\u001b[0;34m,\u001b[0m \u001b[0;36m8\u001b[0m\u001b[0;34m)\u001b[0m\u001b[0;34m\u001b[0m\u001b[0;34m\u001b[0m\u001b[0m\n",
      "\u001b[0;31mNameError\u001b[0m: name 'pltmutual' is not defined"
     ]
    }
   ],
   "source": [
    "import warnings\n",
    "from pandas import Series\n",
    "import pandas as pd\n",
    "import numpy as np\n",
    "import collections\n",
    "\n",
    "import matplotlib.pyplot as plt\n",
    "import seaborn as sns\n",
    "\n",
    "from sklearn.feature_selection import f_classif, mutual_info_classif\n",
    "from sklearn.preprocessing import LabelEncoder, OneHotEncoder, StandardScaler\n",
    "from sklearn.preprocessing import PolynomialFeatures\n",
    "\n",
    "from sklearn.model_selection import train_test_split\n",
    "from sklearn.linear_model import LogisticRegression\n",
    "\n",
    "from sklearn.model_selection import GridSearchCV\n",
    "\n",
    "from sklearn.metrics import confusion_matrix\n",
    "from sklearn.metrics import auc, roc_auc_score, roc_curve\n",
    "from sklearn.metrics import recall_score, precision_score, f1_score, log_loss\n",
    "from sklearn.metrics import accuracy_score\n",
    "\n",
    "\n",
    "import matplotlib\n",
    "pltmutual.style.use('ggplot')\n",
    "%matplotlib inline\n",
    "matplotlib.rcParams['figure.figsize'] = (12, 8)\n",
    "\n",
    "pd.set_option('display.max_rows', 50)  # показывать больше строк\n",
    "pd.set_option('display.max_columns', 50)  # показывать больше колонок\n",
    "\n",
    "import os\n",
    "for dirname, _, filenames in os.walk('/kaggle/input'):\n",
    "    for filename in filenames:\n",
    "        print(os.path.join(dirname, filename))\n",
    "\n",
    "warnings.filterwarnings(\"ignore\")  # Убирает некритические сообщения\n",
    "from sklearn.linear_model import LogisticRegressionCV"
   ]
  },
  {
   "cell_type": "code",
   "execution_count": 2,
   "metadata": {
    "execution": {
     "iopub.execute_input": "2021-03-01T11:38:16.537382Z",
     "iopub.status.busy": "2021-03-01T11:38:16.536663Z",
     "iopub.status.idle": "2021-03-01T11:38:16.955793Z",
     "shell.execute_reply": "2021-03-01T11:38:16.955225Z"
    },
    "papermill": {
     "duration": 0.466985,
     "end_time": "2021-03-01T11:38:16.955928",
     "exception": false,
     "start_time": "2021-03-01T11:38:16.488943",
     "status": "completed"
    },
    "tags": []
   },
   "outputs": [],
   "source": [
    "# read data\n",
    "train = pd.read_csv('/kaggle/input/sf-dst-scoring/train.csv')\n",
    "test= pd.read_csv('/kaggle/input/sf-dst-scoring/test.csv')\n",
    "sample_submission = pd.read_csv('/kaggle/input/sf-dst-scoring/sample_submission.csv')"
   ]
  },
  {
   "cell_type": "code",
   "execution_count": 3,
   "metadata": {
    "execution": {
     "iopub.execute_input": "2021-03-01T11:38:17.057201Z",
     "iopub.status.busy": "2021-03-01T11:38:17.054070Z",
     "iopub.status.idle": "2021-03-01T11:38:17.116908Z",
     "shell.execute_reply": "2021-03-01T11:38:17.116359Z"
    },
    "papermill": {
     "duration": 0.116822,
     "end_time": "2021-03-01T11:38:17.117077",
     "exception": false,
     "start_time": "2021-03-01T11:38:17.000255",
     "status": "completed"
    },
    "tags": []
   },
   "outputs": [],
   "source": [
    "# put all data into one data set and makt target in train and validation dataset\n",
    "train['Sample'] = 1 \n",
    "test['Sample'] = 0 \n",
    "data = test.append(train, sort=False).reset_index(drop=True)"
   ]
  },
  {
   "cell_type": "markdown",
   "metadata": {
    "papermill": {
     "duration": 0.042919,
     "end_time": "2021-03-01T11:38:17.203551",
     "exception": false,
     "start_time": "2021-03-01T11:38:17.160632",
     "status": "completed"
    },
    "tags": []
   },
   "source": [
    "# data description\n",
    "client_id - идентификатор клиента\n",
    "\n",
    "education - уровень образования\n",
    "\n",
    "sex - пол заемщика\n",
    "\n",
    "age - возраст заемщика\n",
    "\n",
    "car - флаг наличия автомобиля\n",
    "\n",
    "car_type - флаг автомобиля иномарки\n",
    "\n",
    "decline_app_cnt - количество отказанных прошлых заявок\n",
    "\n",
    "good_work - флаг наличия “хорошей” работы\n",
    "\n",
    "bki_request_cnt - количество запросов в БКИ\n",
    "\n",
    "home_address - категоризатор домашнего адреса\n",
    "\n",
    "work_address - категоризатор рабочего адреса\n",
    "\n",
    "income - доход заемщика\n",
    "\n",
    "foreign_passport - наличие загранпаспорта\n",
    "\n",
    "sna - связь заемщика с клиентами банка\n",
    "\n",
    "first_time - давность наличия информации о заемщике\n",
    "\n",
    "score_bki - скоринговый балл по данным из БКИ\n",
    "\n",
    "region_rating - рейтинг региона\n",
    "\n",
    "app_date - дата подачи заявки\n",
    "\n",
    "default - флаг дефолта по кредиту"
   ]
  },
  {
   "cell_type": "markdown",
   "metadata": {
    "papermill": {
     "duration": 0.042385,
     "end_time": "2021-03-01T11:38:17.289373",
     "exception": false,
     "start_time": "2021-03-01T11:38:17.246988",
     "status": "completed"
    },
    "tags": []
   },
   "source": [
    "# **first check**"
   ]
  },
  {
   "cell_type": "code",
   "execution_count": 4,
   "metadata": {
    "execution": {
     "iopub.execute_input": "2021-03-01T11:38:17.383627Z",
     "iopub.status.busy": "2021-03-01T11:38:17.383023Z",
     "iopub.status.idle": "2021-03-01T11:38:17.406213Z",
     "shell.execute_reply": "2021-03-01T11:38:17.405700Z"
    },
    "papermill": {
     "duration": 0.073453,
     "end_time": "2021-03-01T11:38:17.406349",
     "exception": false,
     "start_time": "2021-03-01T11:38:17.332896",
     "status": "completed"
    },
    "tags": []
   },
   "outputs": [
    {
     "data": {
      "text/html": [
       "<div>\n",
       "<style scoped>\n",
       "    .dataframe tbody tr th:only-of-type {\n",
       "        vertical-align: middle;\n",
       "    }\n",
       "\n",
       "    .dataframe tbody tr th {\n",
       "        vertical-align: top;\n",
       "    }\n",
       "\n",
       "    .dataframe thead th {\n",
       "        text-align: right;\n",
       "    }\n",
       "</style>\n",
       "<table border=\"1\" class=\"dataframe\">\n",
       "  <thead>\n",
       "    <tr style=\"text-align: right;\">\n",
       "      <th></th>\n",
       "      <th>client_id</th>\n",
       "      <th>app_date</th>\n",
       "      <th>education</th>\n",
       "      <th>sex</th>\n",
       "      <th>age</th>\n",
       "      <th>car</th>\n",
       "      <th>car_type</th>\n",
       "      <th>decline_app_cnt</th>\n",
       "      <th>good_work</th>\n",
       "      <th>score_bki</th>\n",
       "      <th>bki_request_cnt</th>\n",
       "      <th>region_rating</th>\n",
       "      <th>home_address</th>\n",
       "      <th>work_address</th>\n",
       "      <th>income</th>\n",
       "      <th>sna</th>\n",
       "      <th>first_time</th>\n",
       "      <th>foreign_passport</th>\n",
       "      <th>Sample</th>\n",
       "      <th>default</th>\n",
       "    </tr>\n",
       "  </thead>\n",
       "  <tbody>\n",
       "    <tr>\n",
       "      <th>0</th>\n",
       "      <td>74835</td>\n",
       "      <td>22MAR2014</td>\n",
       "      <td>GRD</td>\n",
       "      <td>M</td>\n",
       "      <td>29</td>\n",
       "      <td>Y</td>\n",
       "      <td>Y</td>\n",
       "      <td>0</td>\n",
       "      <td>0</td>\n",
       "      <td>-2.271884</td>\n",
       "      <td>3</td>\n",
       "      <td>50</td>\n",
       "      <td>1</td>\n",
       "      <td>2</td>\n",
       "      <td>50000</td>\n",
       "      <td>1</td>\n",
       "      <td>4</td>\n",
       "      <td>N</td>\n",
       "      <td>0</td>\n",
       "      <td>NaN</td>\n",
       "    </tr>\n",
       "    <tr>\n",
       "      <th>1</th>\n",
       "      <td>17527</td>\n",
       "      <td>24JAN2014</td>\n",
       "      <td>SCH</td>\n",
       "      <td>F</td>\n",
       "      <td>39</td>\n",
       "      <td>N</td>\n",
       "      <td>N</td>\n",
       "      <td>5</td>\n",
       "      <td>0</td>\n",
       "      <td>-1.504999</td>\n",
       "      <td>2</td>\n",
       "      <td>50</td>\n",
       "      <td>1</td>\n",
       "      <td>2</td>\n",
       "      <td>5000</td>\n",
       "      <td>4</td>\n",
       "      <td>3</td>\n",
       "      <td>N</td>\n",
       "      <td>0</td>\n",
       "      <td>NaN</td>\n",
       "    </tr>\n",
       "    <tr>\n",
       "      <th>2</th>\n",
       "      <td>75683</td>\n",
       "      <td>23MAR2014</td>\n",
       "      <td>UGR</td>\n",
       "      <td>M</td>\n",
       "      <td>50</td>\n",
       "      <td>Y</td>\n",
       "      <td>Y</td>\n",
       "      <td>0</td>\n",
       "      <td>0</td>\n",
       "      <td>-1.691339</td>\n",
       "      <td>1</td>\n",
       "      <td>50</td>\n",
       "      <td>1</td>\n",
       "      <td>2</td>\n",
       "      <td>30000</td>\n",
       "      <td>1</td>\n",
       "      <td>3</td>\n",
       "      <td>Y</td>\n",
       "      <td>0</td>\n",
       "      <td>NaN</td>\n",
       "    </tr>\n",
       "    <tr>\n",
       "      <th>3</th>\n",
       "      <td>26883</td>\n",
       "      <td>03FEB2014</td>\n",
       "      <td>SCH</td>\n",
       "      <td>M</td>\n",
       "      <td>56</td>\n",
       "      <td>N</td>\n",
       "      <td>N</td>\n",
       "      <td>0</td>\n",
       "      <td>0</td>\n",
       "      <td>-2.374182</td>\n",
       "      <td>1</td>\n",
       "      <td>40</td>\n",
       "      <td>1</td>\n",
       "      <td>2</td>\n",
       "      <td>17000</td>\n",
       "      <td>1</td>\n",
       "      <td>3</td>\n",
       "      <td>N</td>\n",
       "      <td>0</td>\n",
       "      <td>NaN</td>\n",
       "    </tr>\n",
       "    <tr>\n",
       "      <th>4</th>\n",
       "      <td>28862</td>\n",
       "      <td>04FEB2014</td>\n",
       "      <td>GRD</td>\n",
       "      <td>F</td>\n",
       "      <td>38</td>\n",
       "      <td>N</td>\n",
       "      <td>N</td>\n",
       "      <td>0</td>\n",
       "      <td>0</td>\n",
       "      <td>-2.487502</td>\n",
       "      <td>0</td>\n",
       "      <td>80</td>\n",
       "      <td>2</td>\n",
       "      <td>3</td>\n",
       "      <td>120000</td>\n",
       "      <td>1</td>\n",
       "      <td>3</td>\n",
       "      <td>N</td>\n",
       "      <td>0</td>\n",
       "      <td>NaN</td>\n",
       "    </tr>\n",
       "  </tbody>\n",
       "</table>\n",
       "</div>"
      ],
      "text/plain": [
       "   client_id   app_date education sex  age car car_type  decline_app_cnt  \\\n",
       "0      74835  22MAR2014       GRD   M   29   Y        Y                0   \n",
       "1      17527  24JAN2014       SCH   F   39   N        N                5   \n",
       "2      75683  23MAR2014       UGR   M   50   Y        Y                0   \n",
       "3      26883  03FEB2014       SCH   M   56   N        N                0   \n",
       "4      28862  04FEB2014       GRD   F   38   N        N                0   \n",
       "\n",
       "   good_work  score_bki  bki_request_cnt  region_rating  home_address  \\\n",
       "0          0  -2.271884                3             50             1   \n",
       "1          0  -1.504999                2             50             1   \n",
       "2          0  -1.691339                1             50             1   \n",
       "3          0  -2.374182                1             40             1   \n",
       "4          0  -2.487502                0             80             2   \n",
       "\n",
       "   work_address  income  sna  first_time foreign_passport  Sample  default  \n",
       "0             2   50000    1           4                N       0      NaN  \n",
       "1             2    5000    4           3                N       0      NaN  \n",
       "2             2   30000    1           3                Y       0      NaN  \n",
       "3             2   17000    1           3                N       0      NaN  \n",
       "4             3  120000    1           3                N       0      NaN  "
      ]
     },
     "execution_count": 4,
     "metadata": {},
     "output_type": "execute_result"
    }
   ],
   "source": [
    "data.head()"
   ]
  },
  {
   "cell_type": "code",
   "execution_count": 5,
   "metadata": {
    "execution": {
     "iopub.execute_input": "2021-03-01T11:38:17.501180Z",
     "iopub.status.busy": "2021-03-01T11:38:17.500537Z",
     "iopub.status.idle": "2021-03-01T11:38:17.607752Z",
     "shell.execute_reply": "2021-03-01T11:38:17.607260Z"
    },
    "papermill": {
     "duration": 0.157467,
     "end_time": "2021-03-01T11:38:17.607893",
     "exception": false,
     "start_time": "2021-03-01T11:38:17.450426",
     "status": "completed"
    },
    "tags": []
   },
   "outputs": [
    {
     "data": {
      "text/html": [
       "<div>\n",
       "<style scoped>\n",
       "    .dataframe tbody tr th:only-of-type {\n",
       "        vertical-align: middle;\n",
       "    }\n",
       "\n",
       "    .dataframe tbody tr th {\n",
       "        vertical-align: top;\n",
       "    }\n",
       "\n",
       "    .dataframe thead th {\n",
       "        text-align: right;\n",
       "    }\n",
       "</style>\n",
       "<table border=\"1\" class=\"dataframe\">\n",
       "  <thead>\n",
       "    <tr style=\"text-align: right;\">\n",
       "      <th></th>\n",
       "      <th>count</th>\n",
       "      <th>mean</th>\n",
       "      <th>std</th>\n",
       "      <th>min</th>\n",
       "      <th>25%</th>\n",
       "      <th>50%</th>\n",
       "      <th>75%</th>\n",
       "      <th>max</th>\n",
       "    </tr>\n",
       "  </thead>\n",
       "  <tbody>\n",
       "    <tr>\n",
       "      <th>client_id</th>\n",
       "      <td>110148.0</td>\n",
       "      <td>55074.500000</td>\n",
       "      <td>31797.133063</td>\n",
       "      <td>1.000000</td>\n",
       "      <td>27537.750000</td>\n",
       "      <td>55074.500000</td>\n",
       "      <td>82611.250000</td>\n",
       "      <td>110148.000000</td>\n",
       "    </tr>\n",
       "    <tr>\n",
       "      <th>age</th>\n",
       "      <td>110148.0</td>\n",
       "      <td>39.249410</td>\n",
       "      <td>11.518063</td>\n",
       "      <td>21.000000</td>\n",
       "      <td>30.000000</td>\n",
       "      <td>37.000000</td>\n",
       "      <td>48.000000</td>\n",
       "      <td>72.000000</td>\n",
       "    </tr>\n",
       "    <tr>\n",
       "      <th>decline_app_cnt</th>\n",
       "      <td>110148.0</td>\n",
       "      <td>0.273205</td>\n",
       "      <td>0.799099</td>\n",
       "      <td>0.000000</td>\n",
       "      <td>0.000000</td>\n",
       "      <td>0.000000</td>\n",
       "      <td>0.000000</td>\n",
       "      <td>33.000000</td>\n",
       "    </tr>\n",
       "    <tr>\n",
       "      <th>good_work</th>\n",
       "      <td>110148.0</td>\n",
       "      <td>0.165514</td>\n",
       "      <td>0.371645</td>\n",
       "      <td>0.000000</td>\n",
       "      <td>0.000000</td>\n",
       "      <td>0.000000</td>\n",
       "      <td>0.000000</td>\n",
       "      <td>1.000000</td>\n",
       "    </tr>\n",
       "    <tr>\n",
       "      <th>score_bki</th>\n",
       "      <td>110148.0</td>\n",
       "      <td>-1.904535</td>\n",
       "      <td>0.499397</td>\n",
       "      <td>-3.624586</td>\n",
       "      <td>-2.260434</td>\n",
       "      <td>-1.920823</td>\n",
       "      <td>-1.567888</td>\n",
       "      <td>0.199773</td>\n",
       "    </tr>\n",
       "    <tr>\n",
       "      <th>bki_request_cnt</th>\n",
       "      <td>110148.0</td>\n",
       "      <td>2.005002</td>\n",
       "      <td>2.266926</td>\n",
       "      <td>0.000000</td>\n",
       "      <td>0.000000</td>\n",
       "      <td>1.000000</td>\n",
       "      <td>3.000000</td>\n",
       "      <td>53.000000</td>\n",
       "    </tr>\n",
       "    <tr>\n",
       "      <th>region_rating</th>\n",
       "      <td>110148.0</td>\n",
       "      <td>56.751189</td>\n",
       "      <td>13.065923</td>\n",
       "      <td>20.000000</td>\n",
       "      <td>50.000000</td>\n",
       "      <td>50.000000</td>\n",
       "      <td>60.000000</td>\n",
       "      <td>80.000000</td>\n",
       "    </tr>\n",
       "    <tr>\n",
       "      <th>home_address</th>\n",
       "      <td>110148.0</td>\n",
       "      <td>1.574945</td>\n",
       "      <td>0.527562</td>\n",
       "      <td>1.000000</td>\n",
       "      <td>1.000000</td>\n",
       "      <td>2.000000</td>\n",
       "      <td>2.000000</td>\n",
       "      <td>3.000000</td>\n",
       "    </tr>\n",
       "    <tr>\n",
       "      <th>work_address</th>\n",
       "      <td>110148.0</td>\n",
       "      <td>2.497867</td>\n",
       "      <td>0.687651</td>\n",
       "      <td>1.000000</td>\n",
       "      <td>2.000000</td>\n",
       "      <td>3.000000</td>\n",
       "      <td>3.000000</td>\n",
       "      <td>3.000000</td>\n",
       "    </tr>\n",
       "    <tr>\n",
       "      <th>income</th>\n",
       "      <td>110148.0</td>\n",
       "      <td>41012.648537</td>\n",
       "      <td>45399.735051</td>\n",
       "      <td>1000.000000</td>\n",
       "      <td>20000.000000</td>\n",
       "      <td>30000.000000</td>\n",
       "      <td>48000.000000</td>\n",
       "      <td>1000000.000000</td>\n",
       "    </tr>\n",
       "    <tr>\n",
       "      <th>sna</th>\n",
       "      <td>110148.0</td>\n",
       "      <td>1.731588</td>\n",
       "      <td>1.122652</td>\n",
       "      <td>1.000000</td>\n",
       "      <td>1.000000</td>\n",
       "      <td>1.000000</td>\n",
       "      <td>2.000000</td>\n",
       "      <td>4.000000</td>\n",
       "    </tr>\n",
       "    <tr>\n",
       "      <th>first_time</th>\n",
       "      <td>110148.0</td>\n",
       "      <td>2.765570</td>\n",
       "      <td>1.010151</td>\n",
       "      <td>1.000000</td>\n",
       "      <td>2.000000</td>\n",
       "      <td>3.000000</td>\n",
       "      <td>4.000000</td>\n",
       "      <td>4.000000</td>\n",
       "    </tr>\n",
       "    <tr>\n",
       "      <th>Sample</th>\n",
       "      <td>110148.0</td>\n",
       "      <td>0.669999</td>\n",
       "      <td>0.470215</td>\n",
       "      <td>0.000000</td>\n",
       "      <td>0.000000</td>\n",
       "      <td>1.000000</td>\n",
       "      <td>1.000000</td>\n",
       "      <td>1.000000</td>\n",
       "    </tr>\n",
       "    <tr>\n",
       "      <th>default</th>\n",
       "      <td>73799.0</td>\n",
       "      <td>0.126994</td>\n",
       "      <td>0.332968</td>\n",
       "      <td>0.000000</td>\n",
       "      <td>0.000000</td>\n",
       "      <td>0.000000</td>\n",
       "      <td>0.000000</td>\n",
       "      <td>1.000000</td>\n",
       "    </tr>\n",
       "  </tbody>\n",
       "</table>\n",
       "</div>"
      ],
      "text/plain": [
       "                    count          mean           std          min  \\\n",
       "client_id        110148.0  55074.500000  31797.133063     1.000000   \n",
       "age              110148.0     39.249410     11.518063    21.000000   \n",
       "decline_app_cnt  110148.0      0.273205      0.799099     0.000000   \n",
       "good_work        110148.0      0.165514      0.371645     0.000000   \n",
       "score_bki        110148.0     -1.904535      0.499397    -3.624586   \n",
       "bki_request_cnt  110148.0      2.005002      2.266926     0.000000   \n",
       "region_rating    110148.0     56.751189     13.065923    20.000000   \n",
       "home_address     110148.0      1.574945      0.527562     1.000000   \n",
       "work_address     110148.0      2.497867      0.687651     1.000000   \n",
       "income           110148.0  41012.648537  45399.735051  1000.000000   \n",
       "sna              110148.0      1.731588      1.122652     1.000000   \n",
       "first_time       110148.0      2.765570      1.010151     1.000000   \n",
       "Sample           110148.0      0.669999      0.470215     0.000000   \n",
       "default           73799.0      0.126994      0.332968     0.000000   \n",
       "\n",
       "                          25%           50%           75%             max  \n",
       "client_id        27537.750000  55074.500000  82611.250000   110148.000000  \n",
       "age                 30.000000     37.000000     48.000000       72.000000  \n",
       "decline_app_cnt      0.000000      0.000000      0.000000       33.000000  \n",
       "good_work            0.000000      0.000000      0.000000        1.000000  \n",
       "score_bki           -2.260434     -1.920823     -1.567888        0.199773  \n",
       "bki_request_cnt      0.000000      1.000000      3.000000       53.000000  \n",
       "region_rating       50.000000     50.000000     60.000000       80.000000  \n",
       "home_address         1.000000      2.000000      2.000000        3.000000  \n",
       "work_address         2.000000      3.000000      3.000000        3.000000  \n",
       "income           20000.000000  30000.000000  48000.000000  1000000.000000  \n",
       "sna                  1.000000      1.000000      2.000000        4.000000  \n",
       "first_time           2.000000      3.000000      4.000000        4.000000  \n",
       "Sample               0.000000      1.000000      1.000000        1.000000  \n",
       "default              0.000000      0.000000      0.000000        1.000000  "
      ]
     },
     "execution_count": 5,
     "metadata": {},
     "output_type": "execute_result"
    }
   ],
   "source": [
    "data.describe().T"
   ]
  },
  {
   "cell_type": "code",
   "execution_count": 6,
   "metadata": {
    "execution": {
     "iopub.execute_input": "2021-03-01T11:38:17.770344Z",
     "iopub.status.busy": "2021-03-01T11:38:17.703558Z",
     "iopub.status.idle": "2021-03-01T11:38:17.788034Z",
     "shell.execute_reply": "2021-03-01T11:38:17.788642Z"
    },
    "papermill": {
     "duration": 0.135724,
     "end_time": "2021-03-01T11:38:17.788852",
     "exception": false,
     "start_time": "2021-03-01T11:38:17.653128",
     "status": "completed"
    },
    "tags": []
   },
   "outputs": [
    {
     "name": "stdout",
     "output_type": "stream",
     "text": [
      "<class 'pandas.core.frame.DataFrame'>\n",
      "RangeIndex: 110148 entries, 0 to 110147\n",
      "Data columns (total 20 columns):\n",
      " #   Column            Non-Null Count   Dtype  \n",
      "---  ------            --------------   -----  \n",
      " 0   client_id         110148 non-null  int64  \n",
      " 1   app_date          110148 non-null  object \n",
      " 2   education         109670 non-null  object \n",
      " 3   sex               110148 non-null  object \n",
      " 4   age               110148 non-null  int64  \n",
      " 5   car               110148 non-null  object \n",
      " 6   car_type          110148 non-null  object \n",
      " 7   decline_app_cnt   110148 non-null  int64  \n",
      " 8   good_work         110148 non-null  int64  \n",
      " 9   score_bki         110148 non-null  float64\n",
      " 10  bki_request_cnt   110148 non-null  int64  \n",
      " 11  region_rating     110148 non-null  int64  \n",
      " 12  home_address      110148 non-null  int64  \n",
      " 13  work_address      110148 non-null  int64  \n",
      " 14  income            110148 non-null  int64  \n",
      " 15  sna               110148 non-null  int64  \n",
      " 16  first_time        110148 non-null  int64  \n",
      " 17  foreign_passport  110148 non-null  object \n",
      " 18  Sample            110148 non-null  int64  \n",
      " 19  default           73799 non-null   float64\n",
      "dtypes: float64(2), int64(12), object(6)\n",
      "memory usage: 16.8+ MB\n"
     ]
    }
   ],
   "source": [
    "data.info()"
   ]
  },
  {
   "cell_type": "code",
   "execution_count": 7,
   "metadata": {
    "execution": {
     "iopub.execute_input": "2021-03-01T11:38:17.886513Z",
     "iopub.status.busy": "2021-03-01T11:38:17.885634Z",
     "iopub.status.idle": "2021-03-01T11:38:17.962005Z",
     "shell.execute_reply": "2021-03-01T11:38:17.961356Z"
    },
    "papermill": {
     "duration": 0.127981,
     "end_time": "2021-03-01T11:38:17.962145",
     "exception": false,
     "start_time": "2021-03-01T11:38:17.834164",
     "status": "completed"
    },
    "tags": []
   },
   "outputs": [
    {
     "data": {
      "text/plain": [
       "client_id               0\n",
       "app_date                0\n",
       "education             478\n",
       "sex                     0\n",
       "age                     0\n",
       "car                     0\n",
       "car_type                0\n",
       "decline_app_cnt         0\n",
       "good_work               0\n",
       "score_bki               0\n",
       "bki_request_cnt         0\n",
       "region_rating           0\n",
       "home_address            0\n",
       "work_address            0\n",
       "income                  0\n",
       "sna                     0\n",
       "first_time              0\n",
       "foreign_passport        0\n",
       "Sample                  0\n",
       "default             36349\n",
       "dtype: int64"
      ]
     },
     "execution_count": 7,
     "metadata": {},
     "output_type": "execute_result"
    }
   ],
   "source": [
    "data.isnull().sum()"
   ]
  },
  {
   "cell_type": "code",
   "execution_count": 8,
   "metadata": {
    "execution": {
     "iopub.execute_input": "2021-03-01T11:38:18.075448Z",
     "iopub.status.busy": "2021-03-01T11:38:18.074375Z",
     "iopub.status.idle": "2021-03-01T11:38:20.405607Z",
     "shell.execute_reply": "2021-03-01T11:38:20.406113Z"
    },
    "papermill": {
     "duration": 2.398386,
     "end_time": "2021-03-01T11:38:20.406289",
     "exception": false,
     "start_time": "2021-03-01T11:38:18.007903",
     "status": "completed"
    },
    "tags": []
   },
   "outputs": [
    {
     "data": {
      "image/png": "[encoded data removed]",
      "text/plain": [
       "<Figure size 1440x864 with 1 Axes>"
      ]
     },
     "metadata": {
      "needs_background": "light"
     },
     "output_type": "display_data"
    }
   ],
   "source": [
    "fig, ax = plt.subplots(figsize=(20,12))\n",
    "sns_heatmap = sns.heatmap(data.isnull(), yticklabels=False, cbar=False, cmap='viridis')"
   ]
  },
  {
   "cell_type": "markdown",
   "metadata": {
    "papermill": {
     "duration": 0.047827,
     "end_time": "2021-03-01T11:38:20.501278",
     "exception": false,
     "start_time": "2021-03-01T11:38:20.453451",
     "status": "completed"
    },
    "tags": []
   },
   "source": [
    "## COMMENTS:\n",
    "dataset contains:\n",
    "- binary/numeric/categorical/datetime feautres -> recode/prepare for modeling with LabelEncoder & OneHotEncoder\n",
    "- education contain NaN's -> see how to deal with them\n",
    "\n",
    "# 1. Preprocessing data\n",
    "## 1.1 split features into numeric/categorical & binary"
   ]
  },
  {
   "cell_type": "code",
   "execution_count": 9,
   "metadata": {
    "execution": {
     "iopub.execute_input": "2021-03-01T11:38:20.600698Z",
     "iopub.status.busy": "2021-03-01T11:38:20.599845Z",
     "iopub.status.idle": "2021-03-01T11:38:20.602769Z",
     "shell.execute_reply": "2021-03-01T11:38:20.602244Z"
    },
    "papermill": {
     "duration": 0.05496,
     "end_time": "2021-03-01T11:38:20.602895",
     "exception": false,
     "start_time": "2021-03-01T11:38:20.547935",
     "status": "completed"
    },
    "tags": []
   },
   "outputs": [],
   "source": [
    "bin_cols = ['sex', 'car', 'car_type', 'foreign_passport', 'good_work']\n",
    "cat_cols = ['education', 'home_address', 'work_address', 'region_rating', 'sna', 'first_time', ]\n",
    "num_cols = ['age', 'decline_app_cnt', 'bki_request_cnt', 'income', 'score_bki']\n",
    "date_cols = ['app_date']"
   ]
  },
  {
   "cell_type": "markdown",
   "metadata": {
    "papermill": {
     "duration": 0.047133,
     "end_time": "2021-03-01T11:38:20.697169",
     "exception": false,
     "start_time": "2021-03-01T11:38:20.650036",
     "status": "completed"
    },
    "tags": []
   },
   "source": [
    "> ****\n",
    "# 1.1 target"
   ]
  },
  {
   "cell_type": "code",
   "execution_count": 10,
   "metadata": {
    "execution": {
     "iopub.execute_input": "2021-03-01T11:38:20.796684Z",
     "iopub.status.busy": "2021-03-01T11:38:20.796114Z",
     "iopub.status.idle": "2021-03-01T11:38:20.818157Z",
     "shell.execute_reply": "2021-03-01T11:38:20.817613Z"
    },
    "papermill": {
     "duration": 0.074131,
     "end_time": "2021-03-01T11:38:20.818296",
     "exception": false,
     "start_time": "2021-03-01T11:38:20.744165",
     "status": "completed"
    },
    "tags": []
   },
   "outputs": [
    {
     "data": {
      "text/plain": [
       "0.0    0.873006\n",
       "1.0    0.126994\n",
       "Name: default, dtype: float64"
      ]
     },
     "execution_count": 10,
     "metadata": {},
     "output_type": "execute_result"
    }
   ],
   "source": [
    "data.default.value_counts(normalize=True)"
   ]
  },
  {
   "cell_type": "code",
   "execution_count": 11,
   "metadata": {
    "execution": {
     "iopub.execute_input": "2021-03-01T11:38:20.919327Z",
     "iopub.status.busy": "2021-03-01T11:38:20.918370Z",
     "iopub.status.idle": "2021-03-01T11:38:21.039370Z",
     "shell.execute_reply": "2021-03-01T11:38:21.038812Z"
    },
    "papermill": {
     "duration": 0.173584,
     "end_time": "2021-03-01T11:38:21.039509",
     "exception": false,
     "start_time": "2021-03-01T11:38:20.865925",
     "status": "completed"
    },
    "tags": []
   },
   "outputs": [
    {
     "data": {
      "text/plain": [
       "<AxesSubplot:xlabel='default', ylabel='count'>"
      ]
     },
     "execution_count": 11,
     "metadata": {},
     "output_type": "execute_result"
    },
    {
     "data": {
      "image/png": "[encoded data removed]",
      "text/plain": [
       "<Figure size 432x288 with 1 Axes>"
      ]
     },
     "metadata": {
      "needs_background": "light"
     },
     "output_type": "display_data"
    }
   ],
   "source": [
    "sns.countplot(x='default', data=data)"
   ]
  },
  {
   "cell_type": "markdown",
   "metadata": {
    "papermill": {
     "duration": 0.049045,
     "end_time": "2021-03-01T11:38:21.137263",
     "exception": false,
     "start_time": "2021-03-01T11:38:21.088218",
     "status": "completed"
    },
    "tags": []
   },
   "source": [
    "### COMMENT:\n",
    "as we can see, the target destribution is unbalanced. \n",
    "* -> accuracy is not a good choice to check the model quality\n",
    "* -> precision, recall, roc-auc & f1-score!\n",
    "\n",
    "# 1.2 categorical features\n",
    "## 1.2.1 education\n",
    "- education fillna with most common value\n",
    "- OneHotEncoding for categorical features"
   ]
  },
  {
   "cell_type": "code",
   "execution_count": 12,
   "metadata": {
    "execution": {
     "iopub.execute_input": "2021-03-01T11:38:21.268605Z",
     "iopub.status.busy": "2021-03-01T11:38:21.266282Z",
     "iopub.status.idle": "2021-03-01T11:38:21.273102Z",
     "shell.execute_reply": "2021-03-01T11:38:21.272473Z"
    },
    "papermill": {
     "duration": 0.086644,
     "end_time": "2021-03-01T11:38:21.273244",
     "exception": false,
     "start_time": "2021-03-01T11:38:21.186600",
     "status": "completed"
    },
    "tags": []
   },
   "outputs": [
    {
     "data": {
      "text/plain": [
       "SCH    57998\n",
       "GRD    34768\n",
       "UGR    14748\n",
       "PGR     1865\n",
       "ACD      291\n",
       "Name: education, dtype: int64"
      ]
     },
     "execution_count": 12,
     "metadata": {},
     "output_type": "execute_result"
    }
   ],
   "source": [
    "#check values frequency and replace Nan's\n",
    "data.education.value_counts()"
   ]
  },
  {
   "cell_type": "code",
   "execution_count": 13,
   "metadata": {
    "execution": {
     "iopub.execute_input": "2021-03-01T11:38:21.404304Z",
     "iopub.status.busy": "2021-03-01T11:38:21.403660Z",
     "iopub.status.idle": "2021-03-01T11:38:21.550405Z",
     "shell.execute_reply": "2021-03-01T11:38:21.549735Z"
    },
    "papermill": {
     "duration": 0.227866,
     "end_time": "2021-03-01T11:38:21.550541",
     "exception": false,
     "start_time": "2021-03-01T11:38:21.322675",
     "status": "completed"
    },
    "tags": []
   },
   "outputs": [
    {
     "data": {
      "text/plain": [
       "<AxesSubplot:>"
      ]
     },
     "execution_count": 13,
     "metadata": {},
     "output_type": "execute_result"
    },
    {
     "data": {
      "image/png": "[encoded data removed]",
      "text/plain": [
       "<Figure size 432x288 with 1 Axes>"
      ]
     },
     "metadata": {
      "needs_background": "light"
     },
     "output_type": "display_data"
    }
   ],
   "source": [
    "data['education'].value_counts().plot.barh()"
   ]
  },
  {
   "cell_type": "markdown",
   "metadata": {
    "papermill": {
     "duration": 0.049909,
     "end_time": "2021-03-01T11:38:21.650897",
     "exception": false,
     "start_time": "2021-03-01T11:38:21.600988",
     "status": "completed"
    },
    "tags": []
   },
   "source": [
    "SCH education level is most common value \n",
    "* -> put missing to SCH\n",
    "* -> check default distibution within education levels"
   ]
  },
  {
   "cell_type": "code",
   "execution_count": 14,
   "metadata": {
    "execution": {
     "iopub.execute_input": "2021-03-01T11:38:21.770124Z",
     "iopub.status.busy": "2021-03-01T11:38:21.760106Z",
     "iopub.status.idle": "2021-03-01T11:38:21.993110Z",
     "shell.execute_reply": "2021-03-01T11:38:21.992602Z"
    },
    "papermill": {
     "duration": 0.291745,
     "end_time": "2021-03-01T11:38:21.993250",
     "exception": false,
     "start_time": "2021-03-01T11:38:21.701505",
     "status": "completed"
    },
    "tags": []
   },
   "outputs": [
    {
     "data": {
      "text/plain": [
       "<AxesSubplot:xlabel='education', ylabel='count'>"
      ]
     },
     "execution_count": 14,
     "metadata": {},
     "output_type": "execute_result"
    },
    {
     "data": {
      "image/png": "[encoded data removed]",
      "text/plain": [
       "<Figure size 432x288 with 1 Axes>"
      ]
     },
     "metadata": {
      "needs_background": "light"
     },
     "output_type": "display_data"
    }
   ],
   "source": [
    " sns.barplot(x=\"education\", \n",
    "                 y=\"count\",\n",
    "                 hue=\"default\",\n",
    "                 data=data.groupby(['education', 'default'])['education'].count().reset_index(name='count'))"
   ]
  },
  {
   "cell_type": "markdown",
   "metadata": {
    "papermill": {
     "duration": 0.051097,
     "end_time": "2021-03-01T11:38:22.096472",
     "exception": false,
     "start_time": "2021-03-01T11:38:22.045375",
     "status": "completed"
    },
    "tags": []
   },
   "source": [
    "### COMMENT:\n",
    "as we can see, there are some differences in education level for default and non-default client! \n",
    "it make sence to take this feature into the model\n",
    "\n",
    "## 1.2.2 home address / work address"
   ]
  },
  {
   "cell_type": "code",
   "execution_count": 15,
   "metadata": {
    "execution": {
     "iopub.execute_input": "2021-03-01T11:38:22.207356Z",
     "iopub.status.busy": "2021-03-01T11:38:22.206259Z",
     "iopub.status.idle": "2021-03-01T11:38:22.392808Z",
     "shell.execute_reply": "2021-03-01T11:38:22.392315Z"
    },
    "papermill": {
     "duration": 0.244603,
     "end_time": "2021-03-01T11:38:22.392964",
     "exception": false,
     "start_time": "2021-03-01T11:38:22.148361",
     "status": "completed"
    },
    "tags": []
   },
   "outputs": [
    {
     "data": {
      "text/plain": [
       "<AxesSubplot:xlabel='home_address', ylabel='count'>"
      ]
     },
     "execution_count": 15,
     "metadata": {},
     "output_type": "execute_result"
    },
    {
     "data": {
      "image/png": "[encoded data removed]",
      "text/plain": [
       "<Figure size 432x288 with 1 Axes>"
      ]
     },
     "metadata": {
      "needs_background": "light"
     },
     "output_type": "display_data"
    }
   ],
   "source": [
    "sns.barplot(x=\"home_address\", \n",
    "                 y=\"count\",\n",
    "                 hue=\"default\",\n",
    "                 data=data.groupby(['home_address', 'default'])['home_address'].count().reset_index(name='count'))"
   ]
  },
  {
   "cell_type": "code",
   "execution_count": 16,
   "metadata": {
    "execution": {
     "iopub.execute_input": "2021-03-01T11:38:22.506907Z",
     "iopub.status.busy": "2021-03-01T11:38:22.505987Z",
     "iopub.status.idle": "2021-03-01T11:38:22.700603Z",
     "shell.execute_reply": "2021-03-01T11:38:22.700047Z"
    },
    "papermill": {
     "duration": 0.254556,
     "end_time": "2021-03-01T11:38:22.700737",
     "exception": false,
     "start_time": "2021-03-01T11:38:22.446181",
     "status": "completed"
    },
    "tags": []
   },
   "outputs": [
    {
     "data": {
      "text/plain": [
       "<AxesSubplot:xlabel='work_address', ylabel='count'>"
      ]
     },
     "execution_count": 16,
     "metadata": {},
     "output_type": "execute_result"
    },
    {
     "data": {
      "image/png": "[encoded data removed]",
      "text/plain": [
       "<Figure size 432x288 with 1 Axes>"
      ]
     },
     "metadata": {
      "needs_background": "light"
     },
     "output_type": "display_data"
    }
   ],
   "source": [
    "sns.barplot(x=\"work_address\", \n",
    "                 y=\"count\",\n",
    "                 hue=\"default\",\n",
    "                 data=data.groupby(['work_address', 'default'])['work_address'].count().reset_index(name='count'))"
   ]
  },
  {
   "cell_type": "markdown",
   "metadata": {
    "papermill": {
     "duration": 0.05363,
     "end_time": "2021-03-01T11:38:22.808630",
     "exception": false,
     "start_time": "2021-03-01T11:38:22.755000",
     "status": "completed"
    },
    "tags": []
   },
   "source": [
    "### COMMENT:\n",
    "- the figures above shows that campared to home_addreess default clients have higher work_address flag \n",
    "- check correlation between both features and correlation with target feature. maybe it make sense to drop one of them to avoid multicollinearity "
   ]
  },
  {
   "cell_type": "markdown",
   "metadata": {
    "papermill": {
     "duration": 0.053937,
     "end_time": "2021-03-01T11:38:22.916785",
     "exception": false,
     "start_time": "2021-03-01T11:38:22.862848",
     "status": "completed"
    },
    "tags": []
   },
   "source": [
    "## 1.2.3 region rating"
   ]
  },
  {
   "cell_type": "code",
   "execution_count": 17,
   "metadata": {
    "execution": {
     "iopub.execute_input": "2021-03-01T11:38:23.032670Z",
     "iopub.status.busy": "2021-03-01T11:38:23.032009Z",
     "iopub.status.idle": "2021-03-01T11:38:23.258402Z",
     "shell.execute_reply": "2021-03-01T11:38:23.258842Z"
    },
    "papermill": {
     "duration": 0.286954,
     "end_time": "2021-03-01T11:38:23.259034",
     "exception": false,
     "start_time": "2021-03-01T11:38:22.972080",
     "status": "completed"
    },
    "tags": []
   },
   "outputs": [
    {
     "data": {
      "text/plain": [
       "<AxesSubplot:xlabel='region_rating', ylabel='count'>"
      ]
     },
     "execution_count": 17,
     "metadata": {},
     "output_type": "execute_result"
    },
    {
     "data": {
      "image/png": "[encoded data removed]",
      "text/plain": [
       "<Figure size 432x288 with 1 Axes>"
      ]
     },
     "metadata": {
      "needs_background": "light"
     },
     "output_type": "display_data"
    }
   ],
   "source": [
    "sns.barplot(x=\"region_rating\", \n",
    "                 y=\"count\",\n",
    "                 hue=\"default\",\n",
    "                 data=data.groupby(['region_rating', 'default'])['region_rating'].count().reset_index(name='count'))"
   ]
  },
  {
   "cell_type": "markdown",
   "metadata": {
    "papermill": {
     "duration": 0.056031,
     "end_time": "2021-03-01T11:38:23.370212",
     "exception": false,
     "start_time": "2021-03-01T11:38:23.314181",
     "status": "completed"
    },
    "tags": []
   },
   "source": [
    "### COMMENT:\n",
    "very low number of cases for region rating between 20 and 30. We can see that the region rating by default and non default client changing in the same direction\n",
    "## 1.2.4 sna"
   ]
  },
  {
   "cell_type": "code",
   "execution_count": 18,
   "metadata": {
    "execution": {
     "iopub.execute_input": "2021-03-01T11:38:23.485935Z",
     "iopub.status.busy": "2021-03-01T11:38:23.485371Z",
     "iopub.status.idle": "2021-03-01T11:38:23.688594Z",
     "shell.execute_reply": "2021-03-01T11:38:23.688033Z"
    },
    "papermill": {
     "duration": 0.263572,
     "end_time": "2021-03-01T11:38:23.688732",
     "exception": false,
     "start_time": "2021-03-01T11:38:23.425160",
     "status": "completed"
    },
    "tags": []
   },
   "outputs": [
    {
     "data": {
      "text/plain": [
       "<AxesSubplot:xlabel='sna', ylabel='count'>"
      ]
     },
     "execution_count": 18,
     "metadata": {},
     "output_type": "execute_result"
    },
    {
     "data": {
      "image/png": "[encoded data removed]",
      "text/plain": [
       "<Figure size 432x288 with 1 Axes>"
      ]
     },
     "metadata": {
      "needs_background": "light"
     },
     "output_type": "display_data"
    }
   ],
   "source": [
    "sns.barplot(x=\"sna\", \n",
    "                 y=\"count\",\n",
    "                 hue=\"default\",\n",
    "                 data=data.groupby(['sna', 'default'])['sna'].count().reset_index(name='count'))"
   ]
  },
  {
   "cell_type": "markdown",
   "metadata": {
    "papermill": {
     "duration": 0.055695,
     "end_time": "2021-03-01T11:38:23.801492",
     "exception": false,
     "start_time": "2021-03-01T11:38:23.745797",
     "status": "completed"
    },
    "tags": []
   },
   "source": [
    "### COMMENT:\n",
    "look very similar to region rating. default and non default client are changing in the same direction. The higherst number of contact with bank custimers lies by 1.\n",
    "## 1.2.5 first time"
   ]
  },
  {
   "cell_type": "code",
   "execution_count": 19,
   "metadata": {
    "execution": {
     "iopub.execute_input": "2021-03-01T11:38:23.920537Z",
     "iopub.status.busy": "2021-03-01T11:38:23.919768Z",
     "iopub.status.idle": "2021-03-01T11:38:24.110713Z",
     "shell.execute_reply": "2021-03-01T11:38:24.110091Z"
    },
    "papermill": {
     "duration": 0.252363,
     "end_time": "2021-03-01T11:38:24.110847",
     "exception": false,
     "start_time": "2021-03-01T11:38:23.858484",
     "status": "completed"
    },
    "tags": []
   },
   "outputs": [
    {
     "data": {
      "text/plain": [
       "<AxesSubplot:xlabel='first_time', ylabel='count'>"
      ]
     },
     "execution_count": 19,
     "metadata": {},
     "output_type": "execute_result"
    },
    {
     "data": {
      "image/png": "[encoded data removed]",
      "text/plain": [
       "<Figure size 432x288 with 1 Axes>"
      ]
     },
     "metadata": {
      "needs_background": "light"
     },
     "output_type": "display_data"
    }
   ],
   "source": [
    "sns.barplot(x=\"first_time\", \n",
    "                 y=\"count\",\n",
    "                 hue=\"default\",\n",
    "                 data=data.groupby(['first_time', 'default'])['first_time'].count().reset_index(name='count'))"
   ]
  },
  {
   "cell_type": "markdown",
   "metadata": {
    "papermill": {
     "duration": 0.057315,
     "end_time": "2021-03-01T11:38:24.225754",
     "exception": false,
     "start_time": "2021-03-01T11:38:24.168439",
     "status": "completed"
    },
    "tags": []
   },
   "source": [
    "### COMMETS:\n",
    "the highest number of information about the bank clients lies by 3 both for default and non default clients\n",
    "\n",
    "## 1.3 numerical columns\n",
    "### 1.3.1 overview"
   ]
  },
  {
   "cell_type": "code",
   "execution_count": 20,
   "metadata": {
    "execution": {
     "iopub.execute_input": "2021-03-01T11:38:24.365143Z",
     "iopub.status.busy": "2021-03-01T11:38:24.363044Z",
     "iopub.status.idle": "2021-03-01T11:38:25.163604Z",
     "shell.execute_reply": "2021-03-01T11:38:25.163121Z"
    },
    "papermill": {
     "duration": 0.880293,
     "end_time": "2021-03-01T11:38:25.163754",
     "exception": false,
     "start_time": "2021-03-01T11:38:24.283461",
     "status": "completed"
    },
    "tags": []
   },
   "outputs": [
    {
     "data": {
      "image/png": "[encoded data removed]",
      "text/plain": [
       "<Figure size 1080x432 with 6 Axes>"
      ]
     },
     "metadata": {
      "needs_background": "light"
     },
     "output_type": "display_data"
    }
   ],
   "source": [
    "fig, axes = plt.subplots(2,3, figsize=(15,6))\n",
    "plt.subplots_adjust(wspace=0.5)\n",
    "axes = axes.flatten()\n",
    "\n",
    "for i in range(len(num_cols)):\n",
    "    sns.boxplot(x='default', y=num_cols[i], data=data, orient='v', ax=axes[i])"
   ]
  },
  {
   "cell_type": "code",
   "execution_count": 21,
   "metadata": {
    "execution": {
     "iopub.execute_input": "2021-03-01T11:38:25.305955Z",
     "iopub.status.busy": "2021-03-01T11:38:25.304933Z",
     "iopub.status.idle": "2021-03-01T11:38:25.969877Z",
     "shell.execute_reply": "2021-03-01T11:38:25.969331Z"
    },
    "papermill": {
     "duration": 0.746701,
     "end_time": "2021-03-01T11:38:25.970033",
     "exception": false,
     "start_time": "2021-03-01T11:38:25.223332",
     "status": "completed"
    },
    "tags": []
   },
   "outputs": [
    {
     "data": {
      "image/png": "[encoded data removed]",
      "text/plain": [
       "<Figure size 1080x432 with 6 Axes>"
      ]
     },
     "metadata": {
      "needs_background": "light"
     },
     "output_type": "display_data"
    }
   ],
   "source": [
    "fig, axes = plt.subplots(2,3, figsize=(15,6))\n",
    "plt.subplots_adjust(wspace=0.5)\n",
    "axes = axes.flatten()\n",
    "\n",
    "for i in range(len(num_cols)):\n",
    "    sns.boxplot(x='default', y=num_cols[i], data=data, orient='v', ax=axes[i], showfliers=False)\n"
   ]
  },
  {
   "cell_type": "markdown",
   "metadata": {
    "papermill": {
     "duration": 0.060575,
     "end_time": "2021-03-01T11:38:26.091031",
     "exception": false,
     "start_time": "2021-03-01T11:38:26.030456",
     "status": "completed"
    },
    "tags": []
   },
   "source": [
    "### COMMENT:\n",
    "- the first figure shows that only age feature has no outliers, all other features have outliers\n",
    "- AGE: there are not much differences berween default and non default client in age category. default clients are a little big younger\n",
    "- DECLINE_APP_CNT: default clients have higher number of rejected applications in past\n",
    "- default clints have higher number of bki request, lower salary and higher bki score. \n",
    "\n",
    "- -> check outliers for following features: 'decline_app_cnt', 'bki_request_cnt', 'income', 'score_bki'\n",
    "- -> first idea is to build the logarithm of features and check outliers again\n",
    "\n"
   ]
  },
  {
   "cell_type": "code",
   "execution_count": 22,
   "metadata": {
    "execution": {
     "iopub.execute_input": "2021-03-01T11:38:26.216535Z",
     "iopub.status.busy": "2021-03-01T11:38:26.215773Z",
     "iopub.status.idle": "2021-03-01T11:38:26.218755Z",
     "shell.execute_reply": "2021-03-01T11:38:26.218160Z"
    },
    "papermill": {
     "duration": 0.067867,
     "end_time": "2021-03-01T11:38:26.218882",
     "exception": false,
     "start_time": "2021-03-01T11:38:26.151015",
     "status": "completed"
    },
    "tags": []
   },
   "outputs": [],
   "source": [
    "#build function to build log of numeric features\n",
    "cols_with_outliers =['decline_app_cnt', 'bki_request_cnt', 'income']\n",
    "def log_func(df):\n",
    "    for col in cols_with_outliers:\n",
    "        df[col] = np.log(df[col] + 1)\n",
    "    return df"
   ]
  },
  {
   "cell_type": "code",
   "execution_count": 23,
   "metadata": {
    "execution": {
     "iopub.execute_input": "2021-03-01T11:38:26.362927Z",
     "iopub.status.busy": "2021-03-01T11:38:26.362306Z",
     "iopub.status.idle": "2021-03-01T11:38:27.070135Z",
     "shell.execute_reply": "2021-03-01T11:38:27.069635Z"
    },
    "papermill": {
     "duration": 0.791604,
     "end_time": "2021-03-01T11:38:27.070284",
     "exception": false,
     "start_time": "2021-03-01T11:38:26.278680",
     "status": "completed"
    },
    "tags": []
   },
   "outputs": [
    {
     "data": {
      "image/png": "[encoded data removed]",
      "text/plain": [
       "<Figure size 1080x432 with 6 Axes>"
      ]
     },
     "metadata": {
      "needs_background": "light"
     },
     "output_type": "display_data"
    }
   ],
   "source": [
    "fig, axes = plt.subplots(2,3, figsize=(15,6))\n",
    "plt.subplots_adjust(wspace=0.5)\n",
    "axes = axes.flatten()\n",
    "\n",
    "for i in range(len(num_cols)):\n",
    "    sns.boxplot(x='default', y=num_cols[i], data=data, orient='v', ax=axes[i])"
   ]
  },
  {
   "cell_type": "markdown",
   "metadata": {
    "papermill": {
     "duration": 0.061889,
     "end_time": "2021-03-01T11:38:27.193888",
     "exception": false,
     "start_time": "2021-03-01T11:38:27.131999",
     "status": "completed"
    },
    "tags": []
   },
   "source": [
    "### COMMENT:\n",
    "logarithm helped, but the data still have outliers\n",
    "* delete outliers from score_bki and decline_app_cnt\n",
    "\n"
   ]
  },
  {
   "cell_type": "code",
   "execution_count": 24,
   "metadata": {
    "execution": {
     "iopub.execute_input": "2021-03-01T11:38:27.328980Z",
     "iopub.status.busy": "2021-03-01T11:38:27.327794Z",
     "iopub.status.idle": "2021-03-01T11:38:27.402747Z",
     "shell.execute_reply": "2021-03-01T11:38:27.403313Z"
    },
    "papermill": {
     "duration": 0.147265,
     "end_time": "2021-03-01T11:38:27.403500",
     "exception": false,
     "start_time": "2021-03-01T11:38:27.256235",
     "status": "completed"
    },
    "tags": []
   },
   "outputs": [],
   "source": [
    "train = data[data['Sample']==1]\n",
    "test = data[data['Sample']==0]\n",
    "# delete outliers\n",
    "outl_cols = ['bki_request_cnt', 'score_bki']\n",
    "for i in outl_cols:\n",
    "    q1 = data[i].quantile(0.75)\n",
    "    q3 = data[i].quantile(0.25)\n",
    "    iqr = q1-q3\n",
    "    train = train[(train[i] <= q1+1.5*iqr) & (train[i] >= q3-1.5*iqr)]\n",
    "\n",
    "data = pd.concat([train, test], )"
   ]
  },
  {
   "cell_type": "markdown",
   "metadata": {
    "papermill": {
     "duration": 0.060876,
     "end_time": "2021-03-01T11:38:27.526201",
     "exception": false,
     "start_time": "2021-03-01T11:38:27.465325",
     "status": "completed"
    },
    "tags": []
   },
   "source": [
    "### 1.4 binary features"
   ]
  },
  {
   "cell_type": "code",
   "execution_count": 25,
   "metadata": {
    "execution": {
     "iopub.execute_input": "2021-03-01T11:38:27.651876Z",
     "iopub.status.busy": "2021-03-01T11:38:27.651253Z",
     "iopub.status.idle": "2021-03-01T11:38:27.833793Z",
     "shell.execute_reply": "2021-03-01T11:38:27.834241Z"
    },
    "papermill": {
     "duration": 0.24743,
     "end_time": "2021-03-01T11:38:27.834405",
     "exception": false,
     "start_time": "2021-03-01T11:38:27.586975",
     "status": "completed"
    },
    "tags": []
   },
   "outputs": [
    {
     "data": {
      "text/plain": [
       "<AxesSubplot:xlabel='sex', ylabel='count'>"
      ]
     },
     "execution_count": 25,
     "metadata": {},
     "output_type": "execute_result"
    },
    {
     "data": {
      "image/png": "[encoded data removed]",
      "text/plain": [
       "<Figure size 432x288 with 1 Axes>"
      ]
     },
     "metadata": {
      "needs_background": "light"
     },
     "output_type": "display_data"
    }
   ],
   "source": [
    "sns.barplot(x=\"sex\", \n",
    "                 y=\"count\",\n",
    "                 hue=\"default\",\n",
    "                 data=data.groupby(['sex', 'default'])['sex'].count().reset_index(name='count'))"
   ]
  },
  {
   "cell_type": "code",
   "execution_count": 26,
   "metadata": {
    "execution": {
     "iopub.execute_input": "2021-03-01T11:38:27.962530Z",
     "iopub.status.busy": "2021-03-01T11:38:27.961963Z",
     "iopub.status.idle": "2021-03-01T11:38:28.154108Z",
     "shell.execute_reply": "2021-03-01T11:38:28.153542Z"
    },
    "papermill": {
     "duration": 0.257883,
     "end_time": "2021-03-01T11:38:28.154246",
     "exception": false,
     "start_time": "2021-03-01T11:38:27.896363",
     "status": "completed"
    },
    "tags": []
   },
   "outputs": [
    {
     "data": {
      "text/plain": [
       "<AxesSubplot:xlabel='car', ylabel='count'>"
      ]
     },
     "execution_count": 26,
     "metadata": {},
     "output_type": "execute_result"
    },
    {
     "data": {
      "image/png": "[encoded data removed]",
      "text/plain": [
       "<Figure size 432x288 with 1 Axes>"
      ]
     },
     "metadata": {
      "needs_background": "light"
     },
     "output_type": "display_data"
    }
   ],
   "source": [
    "sns.barplot(x=\"car\", \n",
    "                 y=\"count\",\n",
    "                 hue=\"default\",\n",
    "                 data=data.groupby(['car', 'default'])['car'].count().reset_index(name='count'))"
   ]
  },
  {
   "cell_type": "code",
   "execution_count": 27,
   "metadata": {
    "execution": {
     "iopub.execute_input": "2021-03-01T11:38:28.294143Z",
     "iopub.status.busy": "2021-03-01T11:38:28.293427Z",
     "iopub.status.idle": "2021-03-01T11:38:28.462327Z",
     "shell.execute_reply": "2021-03-01T11:38:28.461386Z"
    },
    "papermill": {
     "duration": 0.244566,
     "end_time": "2021-03-01T11:38:28.462469",
     "exception": false,
     "start_time": "2021-03-01T11:38:28.217903",
     "status": "completed"
    },
    "tags": []
   },
   "outputs": [
    {
     "data": {
      "text/plain": [
       "<AxesSubplot:xlabel='car_type', ylabel='count'>"
      ]
     },
     "execution_count": 27,
     "metadata": {},
     "output_type": "execute_result"
    },
    {
     "data": {
      "image/png": "[encoded data removed]",
      "text/plain": [
       "<Figure size 432x288 with 1 Axes>"
      ]
     },
     "metadata": {
      "needs_background": "light"
     },
     "output_type": "display_data"
    }
   ],
   "source": [
    "sns.barplot(x=\"car_type\", \n",
    "                 y=\"count\",\n",
    "                 hue=\"default\",\n",
    "                 data=data.groupby(['car_type', 'default'])['car_type'].count().reset_index(name='count'))"
   ]
  },
  {
   "cell_type": "code",
   "execution_count": 28,
   "metadata": {
    "execution": {
     "iopub.execute_input": "2021-03-01T11:38:28.602089Z",
     "iopub.status.busy": "2021-03-01T11:38:28.601477Z",
     "iopub.status.idle": "2021-03-01T11:38:28.769942Z",
     "shell.execute_reply": "2021-03-01T11:38:28.770452Z"
    },
    "papermill": {
     "duration": 0.244126,
     "end_time": "2021-03-01T11:38:28.770617",
     "exception": false,
     "start_time": "2021-03-01T11:38:28.526491",
     "status": "completed"
    },
    "tags": []
   },
   "outputs": [
    {
     "data": {
      "text/plain": [
       "<AxesSubplot:xlabel='foreign_passport', ylabel='count'>"
      ]
     },
     "execution_count": 28,
     "metadata": {},
     "output_type": "execute_result"
    },
    {
     "data": {
      "image/png": "[encoded data removed]",
      "text/plain": [
       "<Figure size 432x288 with 1 Axes>"
      ]
     },
     "metadata": {
      "needs_background": "light"
     },
     "output_type": "display_data"
    }
   ],
   "source": [
    "sns.barplot(x=\"foreign_passport\", \n",
    "                 y=\"count\",\n",
    "                 hue=\"default\",\n",
    "                 data=data.groupby(['foreign_passport', 'default'])['foreign_passport'].count().reset_index(name='count'))"
   ]
  },
  {
   "cell_type": "code",
   "execution_count": 29,
   "metadata": {
    "execution": {
     "iopub.execute_input": "2021-03-01T11:38:28.910468Z",
     "iopub.status.busy": "2021-03-01T11:38:28.909576Z",
     "iopub.status.idle": "2021-03-01T11:38:29.067872Z",
     "shell.execute_reply": "2021-03-01T11:38:29.067283Z"
    },
    "papermill": {
     "duration": 0.231821,
     "end_time": "2021-03-01T11:38:29.068023",
     "exception": false,
     "start_time": "2021-03-01T11:38:28.836202",
     "status": "completed"
    },
    "tags": []
   },
   "outputs": [
    {
     "data": {
      "text/plain": [
       "<AxesSubplot:xlabel='good_work', ylabel='count'>"
      ]
     },
     "execution_count": 29,
     "metadata": {},
     "output_type": "execute_result"
    },
    {
     "data": {
      "image/png": "[encoded data removed]",
      "text/plain": [
       "<Figure size 432x288 with 1 Axes>"
      ]
     },
     "metadata": {
      "needs_background": "light"
     },
     "output_type": "display_data"
    }
   ],
   "source": [
    "sns.barplot(x=\"good_work\", \n",
    "                 y=\"count\",\n",
    "                 hue=\"default\",\n",
    "                 data=data.groupby(['good_work', 'default'])['good_work'].count().reset_index(name='count'))"
   ]
  },
  {
   "cell_type": "markdown",
   "metadata": {
    "papermill": {
     "duration": 0.067271,
     "end_time": "2021-03-01T11:38:29.202488",
     "exception": false,
     "start_time": "2021-03-01T11:38:29.135217",
     "status": "completed"
    },
    "tags": []
   },
   "source": [
    "### COMMENT:\n",
    "* we can consider the differences in distribution for all binary variables in each client group (default and non default)\n",
    "* we will take all binary variables into the model, but we have to tranform all categorical and binary features into numeric features\n",
    "\n",
    "## 1.5 transform features to numeric"
   ]
  },
  {
   "cell_type": "code",
   "execution_count": 30,
   "metadata": {
    "execution": {
     "iopub.execute_input": "2021-03-01T11:38:29.382351Z",
     "iopub.status.busy": "2021-03-01T11:38:29.381631Z",
     "iopub.status.idle": "2021-03-01T11:38:29.564861Z",
     "shell.execute_reply": "2021-03-01T11:38:29.565392Z"
    },
    "papermill": {
     "duration": 0.295697,
     "end_time": "2021-03-01T11:38:29.565563",
     "exception": false,
     "start_time": "2021-03-01T11:38:29.269866",
     "status": "completed"
    },
    "tags": []
   },
   "outputs": [
    {
     "data": {
      "text/html": [
       "<div>\n",
       "<style scoped>\n",
       "    .dataframe tbody tr th:only-of-type {\n",
       "        vertical-align: middle;\n",
       "    }\n",
       "\n",
       "    .dataframe tbody tr th {\n",
       "        vertical-align: top;\n",
       "    }\n",
       "\n",
       "    .dataframe thead th {\n",
       "        text-align: right;\n",
       "    }\n",
       "</style>\n",
       "<table border=\"1\" class=\"dataframe\">\n",
       "  <thead>\n",
       "    <tr style=\"text-align: right;\">\n",
       "      <th></th>\n",
       "      <th>client_id</th>\n",
       "      <th>app_date</th>\n",
       "      <th>education</th>\n",
       "      <th>sex</th>\n",
       "      <th>age</th>\n",
       "      <th>car</th>\n",
       "      <th>car_type</th>\n",
       "      <th>decline_app_cnt</th>\n",
       "      <th>good_work</th>\n",
       "      <th>score_bki</th>\n",
       "      <th>bki_request_cnt</th>\n",
       "      <th>region_rating</th>\n",
       "      <th>home_address</th>\n",
       "      <th>work_address</th>\n",
       "      <th>income</th>\n",
       "      <th>sna</th>\n",
       "      <th>first_time</th>\n",
       "      <th>foreign_passport</th>\n",
       "      <th>Sample</th>\n",
       "      <th>default</th>\n",
       "    </tr>\n",
       "  </thead>\n",
       "  <tbody>\n",
       "    <tr>\n",
       "      <th>36349</th>\n",
       "      <td>25905</td>\n",
       "      <td>01FEB2014</td>\n",
       "      <td>3</td>\n",
       "      <td>1</td>\n",
       "      <td>62</td>\n",
       "      <td>1</td>\n",
       "      <td>1</td>\n",
       "      <td>0</td>\n",
       "      <td>0</td>\n",
       "      <td>-2.008753</td>\n",
       "      <td>1</td>\n",
       "      <td>50</td>\n",
       "      <td>1</td>\n",
       "      <td>2</td>\n",
       "      <td>18000</td>\n",
       "      <td>4</td>\n",
       "      <td>1</td>\n",
       "      <td>0</td>\n",
       "      <td>1</td>\n",
       "      <td>0.0</td>\n",
       "    </tr>\n",
       "    <tr>\n",
       "      <th>36350</th>\n",
       "      <td>63161</td>\n",
       "      <td>12MAR2014</td>\n",
       "      <td>3</td>\n",
       "      <td>0</td>\n",
       "      <td>59</td>\n",
       "      <td>0</td>\n",
       "      <td>0</td>\n",
       "      <td>0</td>\n",
       "      <td>0</td>\n",
       "      <td>-1.532276</td>\n",
       "      <td>3</td>\n",
       "      <td>50</td>\n",
       "      <td>2</td>\n",
       "      <td>3</td>\n",
       "      <td>19000</td>\n",
       "      <td>4</td>\n",
       "      <td>1</td>\n",
       "      <td>0</td>\n",
       "      <td>1</td>\n",
       "      <td>0.0</td>\n",
       "    </tr>\n",
       "    <tr>\n",
       "      <th>36351</th>\n",
       "      <td>25887</td>\n",
       "      <td>01FEB2014</td>\n",
       "      <td>3</td>\n",
       "      <td>1</td>\n",
       "      <td>25</td>\n",
       "      <td>1</td>\n",
       "      <td>0</td>\n",
       "      <td>2</td>\n",
       "      <td>0</td>\n",
       "      <td>-1.408142</td>\n",
       "      <td>1</td>\n",
       "      <td>80</td>\n",
       "      <td>1</td>\n",
       "      <td>2</td>\n",
       "      <td>30000</td>\n",
       "      <td>1</td>\n",
       "      <td>4</td>\n",
       "      <td>1</td>\n",
       "      <td>1</td>\n",
       "      <td>0.0</td>\n",
       "    </tr>\n",
       "    <tr>\n",
       "      <th>36352</th>\n",
       "      <td>16222</td>\n",
       "      <td>23JAN2014</td>\n",
       "      <td>3</td>\n",
       "      <td>0</td>\n",
       "      <td>53</td>\n",
       "      <td>0</td>\n",
       "      <td>0</td>\n",
       "      <td>0</td>\n",
       "      <td>0</td>\n",
       "      <td>-2.057471</td>\n",
       "      <td>2</td>\n",
       "      <td>50</td>\n",
       "      <td>2</td>\n",
       "      <td>3</td>\n",
       "      <td>10000</td>\n",
       "      <td>1</td>\n",
       "      <td>3</td>\n",
       "      <td>0</td>\n",
       "      <td>1</td>\n",
       "      <td>0.0</td>\n",
       "    </tr>\n",
       "    <tr>\n",
       "      <th>36353</th>\n",
       "      <td>101655</td>\n",
       "      <td>18APR2014</td>\n",
       "      <td>1</td>\n",
       "      <td>1</td>\n",
       "      <td>48</td>\n",
       "      <td>0</td>\n",
       "      <td>0</td>\n",
       "      <td>0</td>\n",
       "      <td>1</td>\n",
       "      <td>-1.244723</td>\n",
       "      <td>1</td>\n",
       "      <td>60</td>\n",
       "      <td>2</td>\n",
       "      <td>3</td>\n",
       "      <td>30000</td>\n",
       "      <td>1</td>\n",
       "      <td>4</td>\n",
       "      <td>1</td>\n",
       "      <td>1</td>\n",
       "      <td>0.0</td>\n",
       "    </tr>\n",
       "  </tbody>\n",
       "</table>\n",
       "</div>"
      ],
      "text/plain": [
       "       client_id   app_date  education  sex  age  car  car_type  \\\n",
       "36349      25905  01FEB2014          3    1   62    1         1   \n",
       "36350      63161  12MAR2014          3    0   59    0         0   \n",
       "36351      25887  01FEB2014          3    1   25    1         0   \n",
       "36352      16222  23JAN2014          3    0   53    0         0   \n",
       "36353     101655  18APR2014          1    1   48    0         0   \n",
       "\n",
       "       decline_app_cnt  good_work  score_bki  bki_request_cnt  region_rating  \\\n",
       "36349                0          0  -2.008753                1             50   \n",
       "36350                0          0  -1.532276                3             50   \n",
       "36351                2          0  -1.408142                1             80   \n",
       "36352                0          0  -2.057471                2             50   \n",
       "36353                0          1  -1.244723                1             60   \n",
       "\n",
       "       home_address  work_address  income  sna  first_time  foreign_passport  \\\n",
       "36349             1             2   18000    4           1                 0   \n",
       "36350             2             3   19000    4           1                 0   \n",
       "36351             1             2   30000    1           4                 1   \n",
       "36352             2             3   10000    1           3                 0   \n",
       "36353             2             3   30000    1           4                 1   \n",
       "\n",
       "       Sample  default  \n",
       "36349       1      0.0  \n",
       "36350       1      0.0  \n",
       "36351       1      0.0  \n",
       "36352       1      0.0  \n",
       "36353       1      0.0  "
      ]
     },
     "execution_count": 30,
     "metadata": {},
     "output_type": "execute_result"
    }
   ],
   "source": [
    "# for binary features we will use LabelEncoder\n",
    "\n",
    "label_encoder = LabelEncoder()\n",
    "\n",
    "for column in bin_cols:\n",
    "    data[column] = label_encoder.fit_transform(data[column])\n",
    "    \n",
    "#education\n",
    "data['education'] = label_encoder.fit_transform(data['education'])\n",
    "# check the trandformation\n",
    "\n",
    "data.head()"
   ]
  },
  {
   "cell_type": "markdown",
   "metadata": {
    "papermill": {
     "duration": 0.067817,
     "end_time": "2021-03-01T11:38:29.701125",
     "exception": false,
     "start_time": "2021-03-01T11:38:29.633308",
     "status": "completed"
    },
    "tags": []
   },
   "source": [
    "## 1.6 app_date"
   ]
  },
  {
   "cell_type": "code",
   "execution_count": 31,
   "metadata": {
    "execution": {
     "iopub.execute_input": "2021-03-01T11:38:29.847025Z",
     "iopub.status.busy": "2021-03-01T11:38:29.846452Z",
     "iopub.status.idle": "2021-03-01T11:38:29.890182Z",
     "shell.execute_reply": "2021-03-01T11:38:29.891009Z"
    },
    "papermill": {
     "duration": 0.122205,
     "end_time": "2021-03-01T11:38:29.891339",
     "exception": false,
     "start_time": "2021-03-01T11:38:29.769134",
     "status": "completed"
    },
    "tags": []
   },
   "outputs": [
    {
     "data": {
      "text/html": [
       "<div>\n",
       "<style scoped>\n",
       "    .dataframe tbody tr th:only-of-type {\n",
       "        vertical-align: middle;\n",
       "    }\n",
       "\n",
       "    .dataframe tbody tr th {\n",
       "        vertical-align: top;\n",
       "    }\n",
       "\n",
       "    .dataframe thead th {\n",
       "        text-align: right;\n",
       "    }\n",
       "</style>\n",
       "<table border=\"1\" class=\"dataframe\">\n",
       "  <thead>\n",
       "    <tr style=\"text-align: right;\">\n",
       "      <th></th>\n",
       "      <th>client_id</th>\n",
       "      <th>app_date</th>\n",
       "      <th>education</th>\n",
       "      <th>sex</th>\n",
       "      <th>age</th>\n",
       "      <th>car</th>\n",
       "      <th>car_type</th>\n",
       "      <th>decline_app_cnt</th>\n",
       "      <th>good_work</th>\n",
       "      <th>score_bki</th>\n",
       "      <th>bki_request_cnt</th>\n",
       "      <th>region_rating</th>\n",
       "      <th>home_address</th>\n",
       "      <th>work_address</th>\n",
       "      <th>income</th>\n",
       "      <th>sna</th>\n",
       "      <th>first_time</th>\n",
       "      <th>foreign_passport</th>\n",
       "      <th>Sample</th>\n",
       "      <th>default</th>\n",
       "    </tr>\n",
       "  </thead>\n",
       "  <tbody>\n",
       "    <tr>\n",
       "      <th>36349</th>\n",
       "      <td>25905</td>\n",
       "      <td>2014-02-01</td>\n",
       "      <td>3</td>\n",
       "      <td>1</td>\n",
       "      <td>62</td>\n",
       "      <td>1</td>\n",
       "      <td>1</td>\n",
       "      <td>0</td>\n",
       "      <td>0</td>\n",
       "      <td>-2.008753</td>\n",
       "      <td>1</td>\n",
       "      <td>50</td>\n",
       "      <td>1</td>\n",
       "      <td>2</td>\n",
       "      <td>18000</td>\n",
       "      <td>4</td>\n",
       "      <td>1</td>\n",
       "      <td>0</td>\n",
       "      <td>1</td>\n",
       "      <td>0.0</td>\n",
       "    </tr>\n",
       "    <tr>\n",
       "      <th>36350</th>\n",
       "      <td>63161</td>\n",
       "      <td>2014-03-12</td>\n",
       "      <td>3</td>\n",
       "      <td>0</td>\n",
       "      <td>59</td>\n",
       "      <td>0</td>\n",
       "      <td>0</td>\n",
       "      <td>0</td>\n",
       "      <td>0</td>\n",
       "      <td>-1.532276</td>\n",
       "      <td>3</td>\n",
       "      <td>50</td>\n",
       "      <td>2</td>\n",
       "      <td>3</td>\n",
       "      <td>19000</td>\n",
       "      <td>4</td>\n",
       "      <td>1</td>\n",
       "      <td>0</td>\n",
       "      <td>1</td>\n",
       "      <td>0.0</td>\n",
       "    </tr>\n",
       "    <tr>\n",
       "      <th>36351</th>\n",
       "      <td>25887</td>\n",
       "      <td>2014-02-01</td>\n",
       "      <td>3</td>\n",
       "      <td>1</td>\n",
       "      <td>25</td>\n",
       "      <td>1</td>\n",
       "      <td>0</td>\n",
       "      <td>2</td>\n",
       "      <td>0</td>\n",
       "      <td>-1.408142</td>\n",
       "      <td>1</td>\n",
       "      <td>80</td>\n",
       "      <td>1</td>\n",
       "      <td>2</td>\n",
       "      <td>30000</td>\n",
       "      <td>1</td>\n",
       "      <td>4</td>\n",
       "      <td>1</td>\n",
       "      <td>1</td>\n",
       "      <td>0.0</td>\n",
       "    </tr>\n",
       "    <tr>\n",
       "      <th>36352</th>\n",
       "      <td>16222</td>\n",
       "      <td>2014-01-23</td>\n",
       "      <td>3</td>\n",
       "      <td>0</td>\n",
       "      <td>53</td>\n",
       "      <td>0</td>\n",
       "      <td>0</td>\n",
       "      <td>0</td>\n",
       "      <td>0</td>\n",
       "      <td>-2.057471</td>\n",
       "      <td>2</td>\n",
       "      <td>50</td>\n",
       "      <td>2</td>\n",
       "      <td>3</td>\n",
       "      <td>10000</td>\n",
       "      <td>1</td>\n",
       "      <td>3</td>\n",
       "      <td>0</td>\n",
       "      <td>1</td>\n",
       "      <td>0.0</td>\n",
       "    </tr>\n",
       "    <tr>\n",
       "      <th>36353</th>\n",
       "      <td>101655</td>\n",
       "      <td>2014-04-18</td>\n",
       "      <td>1</td>\n",
       "      <td>1</td>\n",
       "      <td>48</td>\n",
       "      <td>0</td>\n",
       "      <td>0</td>\n",
       "      <td>0</td>\n",
       "      <td>1</td>\n",
       "      <td>-1.244723</td>\n",
       "      <td>1</td>\n",
       "      <td>60</td>\n",
       "      <td>2</td>\n",
       "      <td>3</td>\n",
       "      <td>30000</td>\n",
       "      <td>1</td>\n",
       "      <td>4</td>\n",
       "      <td>1</td>\n",
       "      <td>1</td>\n",
       "      <td>0.0</td>\n",
       "    </tr>\n",
       "  </tbody>\n",
       "</table>\n",
       "</div>"
      ],
      "text/plain": [
       "       client_id   app_date  education  sex  age  car  car_type  \\\n",
       "36349      25905 2014-02-01          3    1   62    1         1   \n",
       "36350      63161 2014-03-12          3    0   59    0         0   \n",
       "36351      25887 2014-02-01          3    1   25    1         0   \n",
       "36352      16222 2014-01-23          3    0   53    0         0   \n",
       "36353     101655 2014-04-18          1    1   48    0         0   \n",
       "\n",
       "       decline_app_cnt  good_work  score_bki  bki_request_cnt  region_rating  \\\n",
       "36349                0          0  -2.008753                1             50   \n",
       "36350                0          0  -1.532276                3             50   \n",
       "36351                2          0  -1.408142                1             80   \n",
       "36352                0          0  -2.057471                2             50   \n",
       "36353                0          1  -1.244723                1             60   \n",
       "\n",
       "       home_address  work_address  income  sna  first_time  foreign_passport  \\\n",
       "36349             1             2   18000    4           1                 0   \n",
       "36350             2             3   19000    4           1                 0   \n",
       "36351             1             2   30000    1           4                 1   \n",
       "36352             2             3   10000    1           3                 0   \n",
       "36353             2             3   30000    1           4                 1   \n",
       "\n",
       "       Sample  default  \n",
       "36349       1      0.0  \n",
       "36350       1      0.0  \n",
       "36351       1      0.0  \n",
       "36352       1      0.0  \n",
       "36353       1      0.0  "
      ]
     },
     "execution_count": 31,
     "metadata": {},
     "output_type": "execute_result"
    }
   ],
   "source": [
    "# trainsform app_date to date fromat\n",
    "data['app_date'] = pd.to_datetime(data['app_date'], format='%d%b%Y')\n",
    "data.head()"
   ]
  },
  {
   "cell_type": "code",
   "execution_count": 32,
   "metadata": {
    "execution": {
     "iopub.execute_input": "2021-03-01T11:38:30.062214Z",
     "iopub.status.busy": "2021-03-01T11:38:30.061266Z",
     "iopub.status.idle": "2021-03-01T11:38:30.106082Z",
     "shell.execute_reply": "2021-03-01T11:38:30.105347Z"
    },
    "papermill": {
     "duration": 0.127839,
     "end_time": "2021-03-01T11:38:30.106233",
     "exception": false,
     "start_time": "2021-03-01T11:38:29.978394",
     "status": "completed"
    },
    "tags": []
   },
   "outputs": [],
   "source": [
    "#create new features: month, day, weekday and check the distibution\n",
    "data['month'] = data.app_date.dt.month\n",
    "data['weekday'] = data.app_date.dt.weekday # Monday 0 and Sunday 6\n",
    "data['day'] = data.app_date.dt.day # Monday 0 and Sunday 6"
   ]
  },
  {
   "cell_type": "code",
   "execution_count": 33,
   "metadata": {
    "execution": {
     "iopub.execute_input": "2021-03-01T11:38:30.251225Z",
     "iopub.status.busy": "2021-03-01T11:38:30.250539Z",
     "iopub.status.idle": "2021-03-01T11:38:30.574168Z",
     "shell.execute_reply": "2021-03-01T11:38:30.573618Z"
    },
    "papermill": {
     "duration": 0.398335,
     "end_time": "2021-03-01T11:38:30.574319",
     "exception": false,
     "start_time": "2021-03-01T11:38:30.175984",
     "status": "completed"
    },
    "tags": []
   },
   "outputs": [
    {
     "data": {
      "text/plain": [
       "<AxesSubplot:xlabel='month', ylabel='count'>"
      ]
     },
     "execution_count": 33,
     "metadata": {},
     "output_type": "execute_result"
    },
    {
     "data": {
      "image/png": "[encoded data removed]",
      "text/plain": [
       "<Figure size 432x288 with 1 Axes>"
      ]
     },
     "metadata": {
      "needs_background": "light"
     },
     "output_type": "display_data"
    }
   ],
   "source": [
    "sns.barplot(x=\"month\", \n",
    "                 y=\"count\",\n",
    "                 hue=\"default\",\n",
    "                 data=data.groupby(['month', 'default'])['month'].count().reset_index(name='count'))"
   ]
  },
  {
   "cell_type": "markdown",
   "metadata": {
    "papermill": {
     "duration": 0.070023,
     "end_time": "2021-03-01T11:38:30.714466",
     "exception": false,
     "start_time": "2021-03-01T11:38:30.644443",
     "status": "completed"
    },
    "tags": []
   },
   "source": [
    "### COMMENT: \n",
    "* we csn consider that in march we had more non default clients campared to other month"
   ]
  },
  {
   "cell_type": "code",
   "execution_count": 34,
   "metadata": {
    "execution": {
     "iopub.execute_input": "2021-03-01T11:38:30.857486Z",
     "iopub.status.busy": "2021-03-01T11:38:30.856836Z",
     "iopub.status.idle": "2021-03-01T11:38:31.090534Z",
     "shell.execute_reply": "2021-03-01T11:38:31.091071Z"
    },
    "papermill": {
     "duration": 0.30665,
     "end_time": "2021-03-01T11:38:31.091241",
     "exception": false,
     "start_time": "2021-03-01T11:38:30.784591",
     "status": "completed"
    },
    "tags": []
   },
   "outputs": [
    {
     "data": {
      "text/plain": [
       "<AxesSubplot:xlabel='weekday', ylabel='count'>"
      ]
     },
     "execution_count": 34,
     "metadata": {},
     "output_type": "execute_result"
    },
    {
     "data": {
      "image/png": "[encoded data removed]",
      "text/plain": [
       "<Figure size 432x288 with 1 Axes>"
      ]
     },
     "metadata": {
      "needs_background": "light"
     },
     "output_type": "display_data"
    }
   ],
   "source": [
    "sns.barplot(x=\"weekday\", \n",
    "                 y=\"count\",\n",
    "                 hue=\"default\",\n",
    "                 data=data.groupby(['weekday', 'default'])['weekday'].count().reset_index(name='count'))"
   ]
  },
  {
   "cell_type": "markdown",
   "metadata": {
    "papermill": {
     "duration": 0.070573,
     "end_time": "2021-03-01T11:38:31.233741",
     "exception": false,
     "start_time": "2021-03-01T11:38:31.163168",
     "status": "completed"
    },
    "tags": []
   },
   "source": [
    "### COMMENT:\n",
    "* on the weekend we have les non default cases compared to work days\n",
    "* we will include new features (month and weekday) to the model"
   ]
  },
  {
   "cell_type": "code",
   "execution_count": 35,
   "metadata": {
    "execution": {
     "iopub.execute_input": "2021-03-01T11:38:31.379182Z",
     "iopub.status.busy": "2021-03-01T11:38:31.378187Z",
     "iopub.status.idle": "2021-03-01T11:38:32.134134Z",
     "shell.execute_reply": "2021-03-01T11:38:32.134588Z"
    },
    "papermill": {
     "duration": 0.830241,
     "end_time": "2021-03-01T11:38:32.134755",
     "exception": false,
     "start_time": "2021-03-01T11:38:31.304514",
     "status": "completed"
    },
    "tags": []
   },
   "outputs": [
    {
     "data": {
      "text/plain": [
       "<AxesSubplot:xlabel='day', ylabel='count'>"
      ]
     },
     "execution_count": 35,
     "metadata": {},
     "output_type": "execute_result"
    },
    {
     "data": {
      "image/png": "[encoded data removed]",
      "text/plain": [
       "<Figure size 432x288 with 1 Axes>"
      ]
     },
     "metadata": {
      "needs_background": "light"
     },
     "output_type": "display_data"
    }
   ],
   "source": [
    "sns.barplot(x=\"day\", \n",
    "                 y=\"count\",\n",
    "                 hue=\"default\",\n",
    "                 data=data.groupby(['day', 'default'])['day'].count().reset_index(name='count'))"
   ]
  },
  {
   "cell_type": "markdown",
   "metadata": {
    "papermill": {
     "duration": 0.073954,
     "end_time": "2021-03-01T11:38:32.280573",
     "exception": false,
     "start_time": "2021-03-01T11:38:32.206619",
     "status": "completed"
    },
    "tags": []
   },
   "source": [
    "### COMMENT:\n",
    "* we can also consuder some flustuation between the days\n",
    "-> will take the new feature into the model"
   ]
  },
  {
   "cell_type": "code",
   "execution_count": 36,
   "metadata": {
    "execution": {
     "iopub.execute_input": "2021-03-01T11:38:32.428850Z",
     "iopub.status.busy": "2021-03-01T11:38:32.427903Z",
     "iopub.status.idle": "2021-03-01T11:38:32.433084Z",
     "shell.execute_reply": "2021-03-01T11:38:32.433535Z"
    },
    "papermill": {
     "duration": 0.081278,
     "end_time": "2021-03-01T11:38:32.433694",
     "exception": false,
     "start_time": "2021-03-01T11:38:32.352416",
     "status": "completed"
    },
    "tags": []
   },
   "outputs": [],
   "source": [
    "bin_cols = ['sex', 'car', 'car_type', 'foreign_passport', 'good_work']\n",
    "cat_cols = ['education', 'home_address', 'work_address', 'region_rating', 'sna', 'first_time', 'weekday', 'month', 'day']\n",
    "num_cols = ['age', 'decline_app_cnt', 'bki_request_cnt', 'income', 'score_bki']\n",
    "date_cols = ['app_date']"
   ]
  },
  {
   "cell_type": "markdown",
   "metadata": {
    "papermill": {
     "duration": 0.07182,
     "end_time": "2021-03-01T11:38:32.577145",
     "exception": false,
     "start_time": "2021-03-01T11:38:32.505325",
     "status": "completed"
    },
    "tags": []
   },
   "source": [
    "## 1.7 check correlation"
   ]
  },
  {
   "cell_type": "code",
   "execution_count": 37,
   "metadata": {
    "execution": {
     "iopub.execute_input": "2021-03-01T11:38:32.724668Z",
     "iopub.status.busy": "2021-03-01T11:38:32.723682Z",
     "iopub.status.idle": "2021-03-01T11:38:33.052481Z",
     "shell.execute_reply": "2021-03-01T11:38:33.052983Z"
    },
    "papermill": {
     "duration": 0.404238,
     "end_time": "2021-03-01T11:38:33.053219",
     "exception": false,
     "start_time": "2021-03-01T11:38:32.648981",
     "status": "completed"
    },
    "tags": []
   },
   "outputs": [
    {
     "data": {
      "text/plain": [
       "<AxesSubplot:>"
      ]
     },
     "execution_count": 37,
     "metadata": {},
     "output_type": "execute_result"
    },
    {
     "data": {
      "image/png": "[encoded data removed]",
      "text/plain": [
       "<Figure size 432x288 with 2 Axes>"
      ]
     },
     "metadata": {
      "needs_background": "light"
     },
     "output_type": "display_data"
    }
   ],
   "source": [
    "train = data[data['Sample']==1]\n",
    "sns.heatmap(train[num_cols].corr().abs(), vmin=0, vmax=1,  annot=True)"
   ]
  },
  {
   "cell_type": "markdown",
   "metadata": {
    "papermill": {
     "duration": 0.074627,
     "end_time": "2021-03-01T11:38:33.226068",
     "exception": false,
     "start_time": "2021-03-01T11:38:33.151441",
     "status": "completed"
    },
    "tags": []
   },
   "source": [
    "### COMMENT:\n",
    "as we can see on the heatmap there aren't high correlations between the features, that means we don't have multicollinearity. \n",
    "* use mution information to check the dependencies between target variable and features"
   ]
  },
  {
   "cell_type": "code",
   "execution_count": 38,
   "metadata": {
    "execution": {
     "iopub.execute_input": "2021-03-01T11:38:33.389329Z",
     "iopub.status.busy": "2021-03-01T11:38:33.388652Z",
     "iopub.status.idle": "2021-03-01T11:38:33.395048Z",
     "shell.execute_reply": "2021-03-01T11:38:33.394515Z"
    },
    "papermill": {
     "duration": 0.088471,
     "end_time": "2021-03-01T11:38:33.395183",
     "exception": false,
     "start_time": "2021-03-01T11:38:33.306712",
     "status": "completed"
    },
    "tags": []
   },
   "outputs": [],
   "source": [
    "#replay NaN's with most common value\n",
    "data['education'] = data.education.fillna('SCH')"
   ]
  },
  {
   "cell_type": "code",
   "execution_count": 39,
   "metadata": {
    "execution": {
     "iopub.execute_input": "2021-03-01T11:38:33.547893Z",
     "iopub.status.busy": "2021-03-01T11:38:33.547258Z",
     "iopub.status.idle": "2021-03-01T11:38:33.569736Z",
     "shell.execute_reply": "2021-03-01T11:38:33.568629Z"
    },
    "papermill": {
     "duration": 0.101579,
     "end_time": "2021-03-01T11:38:33.569999",
     "exception": false,
     "start_time": "2021-03-01T11:38:33.468420",
     "status": "completed"
    },
    "tags": []
   },
   "outputs": [
    {
     "name": "stdout",
     "output_type": "stream",
     "text": [
      "<class 'pandas.core.frame.DataFrame'>\n",
      "Int64Index: 108098 entries, 36349 to 36348\n",
      "Data columns (total 23 columns):\n",
      " #   Column            Non-Null Count   Dtype         \n",
      "---  ------            --------------   -----         \n",
      " 0   client_id         108098 non-null  int64         \n",
      " 1   app_date          108098 non-null  datetime64[ns]\n",
      " 2   education         108098 non-null  int64         \n",
      " 3   sex               108098 non-null  int64         \n",
      " 4   age               108098 non-null  int64         \n",
      " 5   car               108098 non-null  int64         \n",
      " 6   car_type          108098 non-null  int64         \n",
      " 7   decline_app_cnt   108098 non-null  int64         \n",
      " 8   good_work         108098 non-null  int64         \n",
      " 9   score_bki         108098 non-null  float64       \n",
      " 10  bki_request_cnt   108098 non-null  int64         \n",
      " 11  region_rating     108098 non-null  int64         \n",
      " 12  home_address      108098 non-null  int64         \n",
      " 13  work_address      108098 non-null  int64         \n",
      " 14  income            108098 non-null  int64         \n",
      " 15  sna               108098 non-null  int64         \n",
      " 16  first_time        108098 non-null  int64         \n",
      " 17  foreign_passport  108098 non-null  int64         \n",
      " 18  Sample            108098 non-null  int64         \n",
      " 19  default           71749 non-null   float64       \n",
      " 20  month             108098 non-null  int64         \n",
      " 21  weekday           108098 non-null  int64         \n",
      " 22  day               108098 non-null  int64         \n",
      "dtypes: datetime64[ns](1), float64(2), int64(20)\n",
      "memory usage: 19.8 MB\n"
     ]
    }
   ],
   "source": [
    "data.info()"
   ]
  },
  {
   "cell_type": "code",
   "execution_count": 40,
   "metadata": {
    "execution": {
     "iopub.execute_input": "2021-03-01T11:38:33.727819Z",
     "iopub.status.busy": "2021-03-01T11:38:33.726914Z",
     "iopub.status.idle": "2021-03-01T11:38:34.106607Z",
     "shell.execute_reply": "2021-03-01T11:38:34.106096Z"
    },
    "papermill": {
     "duration": 0.461772,
     "end_time": "2021-03-01T11:38:34.106732",
     "exception": false,
     "start_time": "2021-03-01T11:38:33.644960",
     "status": "completed"
    },
    "tags": []
   },
   "outputs": [
    {
     "data": {
      "text/plain": [
       "<AxesSubplot:>"
      ]
     },
     "execution_count": 40,
     "metadata": {},
     "output_type": "execute_result"
    },
    {
     "data": {
      "image/png": "[encoded data removed]",
      "text/plain": [
       "<Figure size 432x288 with 1 Axes>"
      ]
     },
     "metadata": {
      "needs_background": "light"
     },
     "output_type": "display_data"
    }
   ],
   "source": [
    "mi_score = Series(mutual_info_classif(train[bin_cols + cat_cols], train['default'],\n",
    "                                     discrete_features=True), index=bin_cols + cat_cols)\n",
    "mi_score.sort_values(inplace=True)\n",
    "mi_score.plot(kind='barh')"
   ]
  },
  {
   "cell_type": "markdown",
   "metadata": {
    "papermill": {
     "duration": 0.075012,
     "end_time": "2021-03-01T11:38:34.257412",
     "exception": false,
     "start_time": "2021-03-01T11:38:34.182400",
     "status": "completed"
    },
    "tags": []
   },
   "source": [
    "## prepare data for modelling"
   ]
  },
  {
   "cell_type": "code",
   "execution_count": 41,
   "metadata": {
    "execution": {
     "iopub.execute_input": "2021-03-01T11:38:34.417028Z",
     "iopub.status.busy": "2021-03-01T11:38:34.416062Z",
     "iopub.status.idle": "2021-03-01T11:38:34.419056Z",
     "shell.execute_reply": "2021-03-01T11:38:34.418530Z"
    },
    "papermill": {
     "duration": 0.086383,
     "end_time": "2021-03-01T11:38:34.419192",
     "exception": false,
     "start_time": "2021-03-01T11:38:34.332809",
     "status": "completed"
    },
    "tags": []
   },
   "outputs": [],
   "source": [
    "#label encoding of categorical & binary features\n",
    "def label_encoding_func(df):\n",
    "    label_encoder = LabelEncoder()\n",
    "    for column in bin_cols + ['education']:\n",
    "        df[column] = label_encoder.fit_transform(df[column])\n",
    "    return df\n",
    "\n",
    "#one hot encoding for categorical festures\n",
    "def oh_encoder(df):\n",
    "    X_cat = OneHotEncoder(sparse = False).fit_transform(df[cat_cols].values)\n",
    "    return X_cat\n",
    "\n",
    "#standardize numerical features\n",
    "def standardize_data(df):\n",
    "    X_num = StandardScaler().fit_transform(df[num_cols].values)\n",
    "    return X_num\n",
    "\n"
   ]
  },
  {
   "cell_type": "code",
   "execution_count": 42,
   "metadata": {
    "execution": {
     "iopub.execute_input": "2021-03-01T11:38:34.577402Z",
     "iopub.status.busy": "2021-03-01T11:38:34.576663Z",
     "iopub.status.idle": "2021-03-01T11:38:34.579862Z",
     "shell.execute_reply": "2021-03-01T11:38:34.579371Z"
    },
    "papermill": {
     "duration": 0.08431,
     "end_time": "2021-03-01T11:38:34.580022",
     "exception": false,
     "start_time": "2021-03-01T11:38:34.495712",
     "status": "completed"
    },
    "tags": []
   },
   "outputs": [],
   "source": [
    "#apply all function to dataset\n",
    "def prepare_data(df):\n",
    "    df_encoded = label_encoding_func(df)\n",
    "    X_cat = oh_encoder(df)\n",
    "    X_num = standardize_data(df)\n",
    "    X_bin = df_encoded[bin_cols].values\n",
    "    return np.hstack([X_num, X_bin, X_cat])\n"
   ]
  },
  {
   "cell_type": "markdown",
   "metadata": {
    "papermill": {
     "duration": 0.076064,
     "end_time": "2021-03-01T11:38:34.732987",
     "exception": false,
     "start_time": "2021-03-01T11:38:34.656923",
     "status": "completed"
    },
    "tags": []
   },
   "source": [
    "## Split data: train / test "
   ]
  },
  {
   "cell_type": "code",
   "execution_count": 43,
   "metadata": {
    "execution": {
     "iopub.execute_input": "2021-03-01T11:38:34.892794Z",
     "iopub.status.busy": "2021-03-01T11:38:34.891762Z",
     "iopub.status.idle": "2021-03-01T11:38:35.184498Z",
     "shell.execute_reply": "2021-03-01T11:38:35.183708Z"
    },
    "papermill": {
     "duration": 0.375964,
     "end_time": "2021-03-01T11:38:35.184700",
     "exception": false,
     "start_time": "2021-03-01T11:38:34.808736",
     "status": "completed"
    },
    "tags": []
   },
   "outputs": [
    {
     "name": "stderr",
     "output_type": "stream",
     "text": [
      "/opt/conda/lib/python3.7/site-packages/ipykernel_launcher.py:5: SettingWithCopyWarning: \n",
      "A value is trying to be set on a copy of a slice from a DataFrame.\n",
      "Try using .loc[row_indexer,col_indexer] = value instead\n",
      "\n",
      "See the caveats in the documentation: https://pandas.pydata.org/pandas-docs/stable/user_guide/indexing.html#returning-a-view-versus-a-copy\n",
      "  \"\"\"\n",
      "/opt/conda/lib/python3.7/site-packages/ipykernel_launcher.py:5: SettingWithCopyWarning: \n",
      "A value is trying to be set on a copy of a slice from a DataFrame.\n",
      "Try using .loc[row_indexer,col_indexer] = value instead\n",
      "\n",
      "See the caveats in the documentation: https://pandas.pydata.org/pandas-docs/stable/user_guide/indexing.html#returning-a-view-versus-a-copy\n",
      "  \"\"\"\n",
      "/opt/conda/lib/python3.7/site-packages/ipykernel_launcher.py:5: SettingWithCopyWarning: \n",
      "A value is trying to be set on a copy of a slice from a DataFrame.\n",
      "Try using .loc[row_indexer,col_indexer] = value instead\n",
      "\n",
      "See the caveats in the documentation: https://pandas.pydata.org/pandas-docs/stable/user_guide/indexing.html#returning-a-view-versus-a-copy\n",
      "  \"\"\"\n"
     ]
    },
    {
     "name": "stdout",
     "output_type": "stream",
     "text": [
      "X_train shape: (50224, 79)\n",
      "X_valid shape: (21525, 79)\n",
      "X_test shape: (36349, 79)\n",
      "y_valid shape: (21525,)\n",
      "y_train shape: (50224,)\n"
     ]
    }
   ],
   "source": [
    "train = data[data['Sample'] == 1]\n",
    "test = data[data['Sample'] == 0]\n",
    "\n",
    "#split data into test and validation datasets\n",
    "X = train.drop(['default'], axis=1)\n",
    "y = data[data['Sample']==1]['default']\n",
    "\n",
    "\n",
    "X_train, X_valid, y_train, y_valid = train_test_split(X, y, test_size = 0.3, random_state=42)\n",
    "\n",
    "#prepare data for modeling\n",
    "X_train = prepare_data(X_train)\n",
    "X_valid = prepare_data(X_valid)\n",
    "X_test = prepare_data(test)\n",
    "\n",
    "print('X_train shape:',  X_train.shape)\n",
    "print('X_valid shape:',  X_valid.shape)\n",
    "print('X_test shape:',  X_test.shape)\n",
    "\n",
    "print('y_valid shape:',  y_valid.shape)\n",
    "print('y_train shape:',  y_train.shape)"
   ]
  },
  {
   "cell_type": "markdown",
   "metadata": {
    "papermill": {
     "duration": 0.077112,
     "end_time": "2021-03-01T11:38:35.340376",
     "exception": false,
     "start_time": "2021-03-01T11:38:35.263264",
     "status": "completed"
    },
    "tags": []
   },
   "source": [
    "# 1.9 Modelling\n",
    "## 1.9.1 standart settings"
   ]
  },
  {
   "cell_type": "code",
   "execution_count": 44,
   "metadata": {
    "execution": {
     "iopub.execute_input": "2021-03-01T11:38:35.501345Z",
     "iopub.status.busy": "2021-03-01T11:38:35.500652Z",
     "iopub.status.idle": "2021-03-01T11:38:37.378522Z",
     "shell.execute_reply": "2021-03-01T11:38:37.377855Z"
    },
    "papermill": {
     "duration": 1.960012,
     "end_time": "2021-03-01T11:38:37.378677",
     "exception": false,
     "start_time": "2021-03-01T11:38:35.418665",
     "status": "completed"
    },
    "tags": []
   },
   "outputs": [],
   "source": [
    "#train the model\n",
    "model = LogisticRegression(random_state=42, max_iter = 1000)\n",
    "#fit the model\n",
    "model.fit(X_train, y_train)\n",
    "#build predictions\n",
    "y_pred_proba = model.predict_proba(X_valid)[:,1]\n",
    "y_pred = model.predict(X_valid)"
   ]
  },
  {
   "cell_type": "code",
   "execution_count": 45,
   "metadata": {
    "execution": {
     "iopub.execute_input": "2021-03-01T11:38:37.541622Z",
     "iopub.status.busy": "2021-03-01T11:38:37.540622Z",
     "iopub.status.idle": "2021-03-01T11:38:37.716814Z",
     "shell.execute_reply": "2021-03-01T11:38:37.717345Z"
    },
    "papermill": {
     "duration": 0.260275,
     "end_time": "2021-03-01T11:38:37.717515",
     "exception": false,
     "start_time": "2021-03-01T11:38:37.457240",
     "status": "completed"
    },
    "tags": []
   },
   "outputs": [
    {
     "data": {
      "image/png": "[encoded data removed]",
      "text/plain": [
       "<Figure size 432x288 with 1 Axes>"
      ]
     },
     "metadata": {
      "needs_background": "light"
     },
     "output_type": "display_data"
    }
   ],
   "source": [
    "#build ROC-AUC plot to check model quality\n",
    "fpr, tpr, threshold = roc_curve(y_valid, y_pred_proba)\n",
    "roc_auc = roc_auc_score(y_valid, y_pred_proba)\n",
    "\n",
    "plt.figure()\n",
    "plt.plot([0, 1], label='Baseline', linestyle='--')\n",
    "plt.plot(fpr, tpr, label = 'Regression')\n",
    "plt.title('Logistic Regression ROC AUC = %0.3f' % roc_auc)\n",
    "plt.ylabel('True Positive Rate')\n",
    "plt.xlabel('False Positive Rate')\n",
    "plt.legend(loc = 'lower right')\n",
    "plt.show()"
   ]
  },
  {
   "cell_type": "markdown",
   "metadata": {
    "papermill": {
     "duration": 0.076369,
     "end_time": "2021-03-01T11:38:37.871422",
     "exception": false,
     "start_time": "2021-03-01T11:38:37.795053",
     "status": "completed"
    },
    "tags": []
   },
   "source": [
    "### COMMENT:\n",
    "ROC-AUC score lies by 73.4%. Seems to a good astimation, but as we saw earlier target variable is not balanced!\n",
    "- -> check confusion matrix, to check how many true positive values predict the model\n",
    "\n",
    "# confusion matrix\n",
    "to check true positive and false positive rate"
   ]
  },
  {
   "cell_type": "code",
   "execution_count": 46,
   "metadata": {
    "execution": {
     "iopub.execute_input": "2021-03-01T11:38:38.033162Z",
     "iopub.status.busy": "2021-03-01T11:38:38.032504Z",
     "iopub.status.idle": "2021-03-01T11:38:39.916384Z",
     "shell.execute_reply": "2021-03-01T11:38:39.915839Z"
    },
    "papermill": {
     "duration": 1.967089,
     "end_time": "2021-03-01T11:38:39.916532",
     "exception": false,
     "start_time": "2021-03-01T11:38:37.949443",
     "status": "completed"
    },
    "tags": []
   },
   "outputs": [],
   "source": [
    "#model = LogisticRegressionCV(Cs=10, cv=20, penalty='l2' ,random_state=42, max_iter = 1000)\n",
    "\n",
    "model_fit = model.fit(X_train, y_train)\n",
    "\n",
    "y_pred_proba = model.predict_proba(X_valid)[:,1]\n",
    "y_pred = model.predict(X_valid)"
   ]
  },
  {
   "cell_type": "code",
   "execution_count": 47,
   "metadata": {
    "execution": {
     "iopub.execute_input": "2021-03-01T11:38:40.078551Z",
     "iopub.status.busy": "2021-03-01T11:38:40.077865Z",
     "iopub.status.idle": "2021-03-01T11:38:40.114250Z",
     "shell.execute_reply": "2021-03-01T11:38:40.115079Z"
    },
    "papermill": {
     "duration": 0.120698,
     "end_time": "2021-03-01T11:38:40.115319",
     "exception": false,
     "start_time": "2021-03-01T11:38:39.994621",
     "status": "completed"
    },
    "tags": []
   },
   "outputs": [
    {
     "name": "stdout",
     "output_type": "stream",
     "text": [
      "52 89\n",
      "2613 18771\n"
     ]
    }
   ],
   "source": [
    "tn, fp, fn, tp = confusion_matrix(y_valid, y_pred).ravel()\n",
    "print(tp, fp) \n",
    "print(fn, tn)"
   ]
  },
  {
   "cell_type": "markdown",
   "metadata": {
    "papermill": {
     "duration": 0.078424,
     "end_time": "2021-03-01T11:38:40.275064",
     "exception": false,
     "start_time": "2021-03-01T11:38:40.196640",
     "status": "completed"
    },
    "tags": []
   },
   "source": [
    "### COMMENT:\n",
    "only 69 client were predicted correct. 2711 clients default clients were predicted as non default. We have to minimize this value\n",
    "\n",
    "# 1.9.2 Hyperparameter tuning with GridSearch"
   ]
  },
  {
   "cell_type": "code",
   "execution_count": 48,
   "metadata": {
    "execution": {
     "iopub.execute_input": "2021-03-01T11:38:40.445068Z",
     "iopub.status.busy": "2021-03-01T11:38:40.444447Z",
     "iopub.status.idle": "2021-03-01T11:42:12.843514Z",
     "shell.execute_reply": "2021-03-01T11:42:12.843004Z"
    },
    "papermill": {
     "duration": 212.489325,
     "end_time": "2021-03-01T11:42:12.843696",
     "exception": false,
     "start_time": "2021-03-01T11:38:40.354371",
     "status": "completed"
    },
    "tags": []
   },
   "outputs": [
    {
     "name": "stderr",
     "output_type": "stream",
     "text": [
      "/opt/conda/lib/python3.7/site-packages/sklearn/model_selection/_search.py:921: UserWarning: One or more of the test scores are non-finite: [       nan        nan        nan        nan 0.73248342        nan\n",
      "        nan        nan        nan 0.73248342        nan 0.73271496\n",
      "        nan        nan 0.73272728        nan 0.73271496        nan\n",
      "        nan 0.73272728 0.73239891 0.73241783 0.73240225 0.73239891\n",
      " 0.73241783 0.73240225 0.73265416 0.73265177 0.73265556 0.73265416\n",
      " 0.73265177 0.73265556 0.73236789 0.7323659  0.7323724  0.73238375\n",
      " 0.73236789 0.7323659  0.7323724  0.73238375 0.73264267 0.73263962\n",
      " 0.73264375 0.73264789 0.73264267 0.73263962 0.73264375 0.73264789\n",
      "        nan        nan        nan        nan]\n",
      "  category=UserWarning\n",
      "/opt/conda/lib/python3.7/site-packages/sklearn/linear_model/_sag.py:329: ConvergenceWarning: The max_iter was reached which means the coef_ did not converge\n",
      "  \"the coef_ did not converge\", ConvergenceWarning)\n"
     ]
    }
   ],
   "source": [
    "#parameter settings\n",
    "model = LogisticRegression(random_state=42)\n",
    "\n",
    "stop = 0.001\n",
    "max_interations = 70\n",
    "l1_ratios_list = [0.1, 0.3, 0.5, 0.7, 0.9]\n",
    "\n",
    "param_grid = [\n",
    "     {'penalty': ['l1'],\n",
    "      'solver': ['newton-cg', 'liblinear', 'lbfgs', 'sag', 'saga'],\n",
    "      'class_weight':['none', 'balanced'],\n",
    "      'multi_class': ['auto','ovr'],\n",
    "      'max_iter': [max_interations],\n",
    "      'tol':[stop]},\n",
    "     {'penalty': ['l2'],\n",
    "      'solver': ['newton-cg', 'lbfgs', 'sag'],\n",
    "      'class_weight':['none', 'balanced'],\n",
    "      'multi_class': ['auto','ovr'],\n",
    "      'tol':[stop]},\n",
    "     {'penalty': ['none'],\n",
    "      'solver': ['newton-cg', 'lbfgs', 'sag', 'saga'],\n",
    "      'class_weight':['none', 'balanced'],\n",
    "      'multi_class': ['auto','ovr'],\n",
    "      'tol':[stop]},\n",
    "    {'penalty': ['elasticnet'],\n",
    "      'l1_ratio': [l1_ratios_list],\n",
    "      'class_weight':['none', 'balanced'],\n",
    "      'solver': ['saga'],\n",
    "      'multi_class': ['auto','ovr'],\n",
    "      'tol':[stop]}\n",
    "        ]\n",
    "      \n",
    "gridsearch = GridSearchCV(model, param_grid, scoring='roc_auc', n_jobs=-1)\n",
    "gridsearch.fit(X_train, y_train)\n",
    "model = gridsearch.best_estimator_\n",
    " ## print best parameters\n",
    "best_parameters = model.get_params()"
   ]
  },
  {
   "cell_type": "code",
   "execution_count": 49,
   "metadata": {
    "execution": {
     "iopub.execute_input": "2021-03-01T11:42:13.010081Z",
     "iopub.status.busy": "2021-03-01T11:42:13.009072Z",
     "iopub.status.idle": "2021-03-01T11:42:13.012359Z",
     "shell.execute_reply": "2021-03-01T11:42:13.012832Z"
    },
    "papermill": {
     "duration": 0.090155,
     "end_time": "2021-03-01T11:42:13.013021",
     "exception": false,
     "start_time": "2021-03-01T11:42:12.922866",
     "status": "completed"
    },
    "tags": []
   },
   "outputs": [
    {
     "data": {
      "text/plain": [
       "{'C': 1.0,\n",
       " 'class_weight': 'balanced',\n",
       " 'dual': False,\n",
       " 'fit_intercept': True,\n",
       " 'intercept_scaling': 1,\n",
       " 'l1_ratio': None,\n",
       " 'max_iter': 70,\n",
       " 'multi_class': 'auto',\n",
       " 'n_jobs': None,\n",
       " 'penalty': 'l1',\n",
       " 'random_state': 42,\n",
       " 'solver': 'saga',\n",
       " 'tol': 0.001,\n",
       " 'verbose': 0,\n",
       " 'warm_start': False}"
      ]
     },
     "execution_count": 49,
     "metadata": {},
     "output_type": "execute_result"
    }
   ],
   "source": [
    "# get best partameters\n",
    "best_parameters"
   ]
  },
  {
   "cell_type": "code",
   "execution_count": 50,
   "metadata": {
    "execution": {
     "iopub.execute_input": "2021-03-01T11:42:13.180101Z",
     "iopub.status.busy": "2021-03-01T11:42:13.179388Z",
     "iopub.status.idle": "2021-03-01T11:42:17.172575Z",
     "shell.execute_reply": "2021-03-01T11:42:17.172056Z"
    },
    "papermill": {
     "duration": 4.079309,
     "end_time": "2021-03-01T11:42:17.172719",
     "exception": false,
     "start_time": "2021-03-01T11:42:13.093410",
     "status": "completed"
    },
    "tags": []
   },
   "outputs": [],
   "source": [
    "# fit the model with best parameters \n",
    "model = LogisticRegression(random_state=42, \n",
    "                           C=1, \n",
    "                           class_weight='balanced', \n",
    "                           dual=False, \n",
    "                           fit_intercept=True, \n",
    "                           intercept_scaling=1, \n",
    "                           l1_ratio=None, \n",
    "                           max_iter=70,\n",
    "                           multi_class='auto', \n",
    "                           n_jobs=None, \n",
    "                           penalty='l1', \n",
    "                           solver='liblinear', \n",
    "                           verbose=0, \n",
    "                           tol=0.001,\n",
    "                           warm_start=False)\n",
    "\n",
    "model.fit(X_train, y_train)\n",
    "\n",
    "y_pred_prob = model.predict_proba(X_valid)[:,1]\n",
    "y_pred = model.predict(X_valid)"
   ]
  },
  {
   "cell_type": "code",
   "execution_count": 51,
   "metadata": {
    "execution": {
     "iopub.execute_input": "2021-03-01T11:42:17.338503Z",
     "iopub.status.busy": "2021-03-01T11:42:17.337841Z",
     "iopub.status.idle": "2021-03-01T11:42:17.516263Z",
     "shell.execute_reply": "2021-03-01T11:42:17.515638Z"
    },
    "papermill": {
     "duration": 0.263898,
     "end_time": "2021-03-01T11:42:17.516401",
     "exception": false,
     "start_time": "2021-03-01T11:42:17.252503",
     "status": "completed"
    },
    "tags": []
   },
   "outputs": [
    {
     "data": {
      "image/png": "[encoded data removed]",
      "text/plain": [
       "<Figure size 432x288 with 1 Axes>"
      ]
     },
     "metadata": {
      "needs_background": "light"
     },
     "output_type": "display_data"
    }
   ],
   "source": [
    "#build ROC-AUC plot to check model quality\n",
    "fpr, tpr, threshold = roc_curve(y_valid, y_pred_proba)\n",
    "roc_auc = roc_auc_score(y_valid, y_pred_proba)\n",
    "\n",
    "plt.figure()\n",
    "plt.plot([0, 1], label='Baseline', linestyle='--')\n",
    "plt.plot(fpr, tpr, label = 'Regression')\n",
    "plt.title('Logistic Regression ROC AUC = %0.3f' % roc_auc)\n",
    "plt.ylabel('True Positive Rate')\n",
    "plt.xlabel('False Positive Rate')\n",
    "plt.legend(loc = 'lower right')\n",
    "plt.show()"
   ]
  },
  {
   "cell_type": "code",
   "execution_count": 52,
   "metadata": {
    "execution": {
     "iopub.execute_input": "2021-03-01T11:42:17.686447Z",
     "iopub.status.busy": "2021-03-01T11:42:17.685435Z",
     "iopub.status.idle": "2021-03-01T11:42:17.731547Z",
     "shell.execute_reply": "2021-03-01T11:42:17.732104Z"
    },
    "papermill": {
     "duration": 0.135126,
     "end_time": "2021-03-01T11:42:17.732271",
     "exception": false,
     "start_time": "2021-03-01T11:42:17.597145",
     "status": "completed"
    },
    "tags": []
   },
   "outputs": [
    {
     "name": "stdout",
     "output_type": "stream",
     "text": [
      "\tC: 1\n",
      "\tclass_weight: 'balanced'\n",
      "\tdual: False\n",
      "\tfit_intercept: True\n",
      "\tintercept_scaling: 1\n",
      "\tl1_ratio: None\n",
      "\tmax_iter: 70\n",
      "\tmulti_class: 'auto'\n",
      "\tn_jobs: None\n",
      "\tpenalty: 'l1'\n",
      "\trandom_state: 42\n",
      "\tsolver: 'liblinear'\n",
      "\ttol: 0.001\n",
      "\tverbose: 0\n",
      "\twarm_start: False\n",
      "Accuracy: 0.6683\n",
      "Precision: 0.2225\n",
      "Recall: 0.6732\n",
      "F1: 0.3345\n"
     ]
    }
   ],
   "source": [
    "best_parameters = model.get_params()\n",
    "best_parameters = model.get_params()\n",
    "for param_name in sorted(best_parameters.keys()):\n",
    "        print('\\t%s: %r' % (param_name, best_parameters[param_name]))\n",
    "\n",
    "preds = model.predict(X_valid)\n",
    "print('Accuracy: %.4f' % accuracy_score(y_valid, preds))\n",
    "print('Precision: %.4f' % precision_score(y_valid, preds))\n",
    "print('Recall: %.4f' % recall_score(y_valid, preds))\n",
    "print('F1: %.4f' % f1_score(y_valid, preds))"
   ]
  },
  {
   "cell_type": "code",
   "execution_count": 53,
   "metadata": {
    "execution": {
     "iopub.execute_input": "2021-03-01T11:42:17.900473Z",
     "iopub.status.busy": "2021-03-01T11:42:17.899710Z",
     "iopub.status.idle": "2021-03-01T11:42:17.937363Z",
     "shell.execute_reply": "2021-03-01T11:42:17.937836Z"
    },
    "papermill": {
     "duration": 0.124999,
     "end_time": "2021-03-01T11:42:17.938021",
     "exception": false,
     "start_time": "2021-03-01T11:42:17.813022",
     "status": "completed"
    },
    "tags": []
   },
   "outputs": [
    {
     "name": "stdout",
     "output_type": "stream",
     "text": [
      "1794 6269\n",
      "871 12591\n"
     ]
    }
   ],
   "source": [
    "tn, fp, fn, tp = confusion_matrix(y_valid, y_pred).ravel()\n",
    "print(tp, fp) \n",
    "print(fn, tn)"
   ]
  },
  {
   "cell_type": "markdown",
   "metadata": {
    "papermill": {
     "duration": 0.083183,
     "end_time": "2021-03-01T11:42:18.103325",
     "exception": false,
     "start_time": "2021-03-01T11:42:18.020142",
     "status": "completed"
    },
    "tags": []
   },
   "source": [
    "### COMMENT:\n",
    "the results are looking much better.\n",
    "* build test predictions for competition"
   ]
  },
  {
   "cell_type": "markdown",
   "metadata": {
    "papermill": {
     "duration": 0.080711,
     "end_time": "2021-03-01T11:42:18.266563",
     "exception": false,
     "start_time": "2021-03-01T11:42:18.185852",
     "status": "completed"
    },
    "tags": []
   },
   "source": [
    "# submit to competition\n"
   ]
  },
  {
   "cell_type": "code",
   "execution_count": 54,
   "metadata": {
    "execution": {
     "iopub.execute_input": "2021-03-01T11:42:18.433925Z",
     "iopub.status.busy": "2021-03-01T11:42:18.433332Z",
     "iopub.status.idle": "2021-03-01T11:42:18.588572Z",
     "shell.execute_reply": "2021-03-01T11:42:18.588035Z"
    },
    "papermill": {
     "duration": 0.24041,
     "end_time": "2021-03-01T11:42:18.588714",
     "exception": false,
     "start_time": "2021-03-01T11:42:18.348304",
     "status": "completed"
    },
    "tags": []
   },
   "outputs": [
    {
     "data": {
      "text/html": [
       "<div>\n",
       "<style scoped>\n",
       "    .dataframe tbody tr th:only-of-type {\n",
       "        vertical-align: middle;\n",
       "    }\n",
       "\n",
       "    .dataframe tbody tr th {\n",
       "        vertical-align: top;\n",
       "    }\n",
       "\n",
       "    .dataframe thead th {\n",
       "        text-align: right;\n",
       "    }\n",
       "</style>\n",
       "<table border=\"1\" class=\"dataframe\">\n",
       "  <thead>\n",
       "    <tr style=\"text-align: right;\">\n",
       "      <th></th>\n",
       "      <th>client_id</th>\n",
       "      <th>default</th>\n",
       "    </tr>\n",
       "  </thead>\n",
       "  <tbody>\n",
       "    <tr>\n",
       "      <th>0</th>\n",
       "      <td>74835</td>\n",
       "      <td>0.199504</td>\n",
       "    </tr>\n",
       "    <tr>\n",
       "      <th>1</th>\n",
       "      <td>17527</td>\n",
       "      <td>0.747545</td>\n",
       "    </tr>\n",
       "    <tr>\n",
       "      <th>2</th>\n",
       "      <td>75683</td>\n",
       "      <td>0.365695</td>\n",
       "    </tr>\n",
       "    <tr>\n",
       "      <th>3</th>\n",
       "      <td>26883</td>\n",
       "      <td>0.415372</td>\n",
       "    </tr>\n",
       "    <tr>\n",
       "      <th>4</th>\n",
       "      <td>28862</td>\n",
       "      <td>0.164878</td>\n",
       "    </tr>\n",
       "    <tr>\n",
       "      <th>5</th>\n",
       "      <td>99881</td>\n",
       "      <td>0.564084</td>\n",
       "    </tr>\n",
       "    <tr>\n",
       "      <th>6</th>\n",
       "      <td>26630</td>\n",
       "      <td>0.796507</td>\n",
       "    </tr>\n",
       "    <tr>\n",
       "      <th>7</th>\n",
       "      <td>79934</td>\n",
       "      <td>0.212587</td>\n",
       "    </tr>\n",
       "    <tr>\n",
       "      <th>8</th>\n",
       "      <td>16605</td>\n",
       "      <td>0.153296</td>\n",
       "    </tr>\n",
       "    <tr>\n",
       "      <th>9</th>\n",
       "      <td>105449</td>\n",
       "      <td>0.126107</td>\n",
       "    </tr>\n",
       "  </tbody>\n",
       "</table>\n",
       "</div>"
      ],
      "text/plain": [
       "   client_id   default\n",
       "0      74835  0.199504\n",
       "1      17527  0.747545\n",
       "2      75683  0.365695\n",
       "3      26883  0.415372\n",
       "4      28862  0.164878\n",
       "5      99881  0.564084\n",
       "6      26630  0.796507\n",
       "7      79934  0.212587\n",
       "8      16605  0.153296\n",
       "9     105449  0.126107"
      ]
     },
     "metadata": {},
     "output_type": "display_data"
    }
   ],
   "source": [
    "predict_submission = model.predict_proba(X_test)[:,1]\n",
    "\n",
    "submit = pd.DataFrame(test.client_id)\n",
    "submit['default']=predict_submission\n",
    "submit.to_csv('submission.csv', index=False)\n",
    "display(submit.head(10))"
   ]
  },
  {
   "cell_type": "code",
   "execution_count": 55,
   "metadata": {
    "execution": {
     "iopub.execute_input": "2021-03-01T11:42:18.761542Z",
     "iopub.status.busy": "2021-03-01T11:42:18.760522Z",
     "iopub.status.idle": "2021-03-01T11:42:18.764051Z",
     "shell.execute_reply": "2021-03-01T11:42:18.764545Z"
    },
    "papermill": {
     "duration": 0.092531,
     "end_time": "2021-03-01T11:42:18.764696",
     "exception": false,
     "start_time": "2021-03-01T11:42:18.672165",
     "status": "completed"
    },
    "tags": []
   },
   "outputs": [
    {
     "data": {
      "text/plain": [
       "(36349, 2)"
      ]
     },
     "execution_count": 55,
     "metadata": {},
     "output_type": "execute_result"
    }
   ],
   "source": [
    "submit.shape"
   ]
  },
  {
   "cell_type": "markdown",
   "metadata": {
    "papermill": {
     "duration": 0.082054,
     "end_time": "2021-03-01T11:42:18.928928",
     "exception": false,
     "start_time": "2021-03-01T11:42:18.846874",
     "status": "completed"
    },
    "tags": []
   },
   "source": []
  }
 ],
 "metadata": {
  "kernelspec": {
   "display_name": "Python 3",
   "language": "python",
   "name": "python3"
  },
  "language_info": {
   "codemirror_mode": {
    "name": "ipython",
    "version": 3
   },
   "file_extension": ".py",
   "mimetype": "text/x-python",
   "name": "python",
   "nbconvert_exporter": "python",
   "pygments_lexer": "ipython3",
   "version": "3.7.9"
  },
  "papermill": {
   "default_parameters": {},
   "duration": 250.483029,
   "end_time": "2021-03-01T11:42:20.024468",
   "environment_variables": {},
   "exception": null,
   "input_path": "__notebook__.ipynb",
   "output_path": "__notebook__.ipynb",
   "parameters": {},
   "start_time": "2021-03-01T11:38:09.541439",
   "version": "2.2.2"
  }
 },
 "nbformat": 4,
 "nbformat_minor": 4
}

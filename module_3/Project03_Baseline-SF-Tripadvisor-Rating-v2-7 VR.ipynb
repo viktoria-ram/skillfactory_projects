{
 "cells": [
  {
   "cell_type": "markdown",
   "metadata": {},
   "source": [
    "![](https://www.pata.org/wp-content/uploads/2014/09/TripAdvisor_Logo-300x119.png)\n",
    "# Predict TripAdvisor Rating\n",
    "## В этом соревновании нам предстоит предсказать рейтинг ресторана в TripAdvisor\n",
    "**По ходу задачи:**\n",
    "* Прокачаем работу с pandas\n",
    "* Научимся работать с Kaggle Notebooks\n",
    "* Поймем как делать предобработку различных данных\n",
    "* Научимся работать с пропущенными данными (Nan)\n",
    "* Познакомимся с различными видами кодирования признаков\n",
    "* Немного попробуем [Feature Engineering](https://ru.wikipedia.org/wiki/Конструирование_признаков) (генерировать новые признаки)\n",
    "* И совсем немного затронем ML\n",
    "* И многое другое...   \n",
    "\n",
    "\n",
    "\n",
    "### И самое важное, все это вы сможете сделать самостоятельно!\n",
    "\n",
    "*Этот Ноутбук являетсся Примером/Шаблоном к этому соревнованию (Baseline) и не служит готовым решением!*   \n",
    "Вы можете использовать его как основу для построения своего решения.\n",
    "\n",
    "> что такое baseline решение, зачем оно нужно и почему предоставлять baseline к соревнованию стало важным стандартом на kaggle и других площадках.   \n",
    "**baseline** создается больше как шаблон, где можно посмотреть как происходит обращение с входящими данными и что нужно получить на выходе. При этом МЛ начинка может быть достаточно простой, просто для примера. Это помогает быстрее приступить к самому МЛ, а не тратить ценное время на чисто инженерные задачи. \n",
    "Также baseline являеться хорошей опорной точкой по метрике. Если твое решение хуже baseline - ты явно делаешь что-то не то и стоит попробовать другой путь) \n",
    "\n",
    "В контексте нашего соревнования baseline идет с небольшими примерами того, что можно делать с данными, и с инструкцией, что делать дальше, чтобы улучшить результат.  Вообще готовым решением это сложно назвать, так как используются всего 2 самых простых признака (а остальные исключаются)."
   ]
  },
  {
   "cell_type": "markdown",
   "metadata": {},
   "source": [
    "# import"
   ]
  },
  {
   "cell_type": "code",
   "execution_count": 1,
   "metadata": {
    "_cell_guid": "b1076dfc-b9ad-4769-8c92-a6c4dae69d19",
    "_uuid": "8f2839f25d086af736a60e9eeb907d3b93b6e0e5"
   },
   "outputs": [
    {
     "name": "stdout",
     "output_type": "stream",
     "text": [
      "/kaggle/input/sf-dst-restaurant-rating/sample_submission.csv\n",
      "/kaggle/input/sf-dst-restaurant-rating/main_task.csv\n",
      "/kaggle/input/sf-dst-restaurant-rating/kaggle_task.csv\n"
     ]
    }
   ],
   "source": [
    "# This Python 3 environment comes with many helpful analytics libraries installed\n",
    "# It is defined by the kaggle/python docker image: https://github.com/kaggle/docker-python\n",
    "# For example, here's several helpful packages to load in \n",
    "\n",
    "import numpy as np # linear algebra\n",
    "import pandas as pd # data processing, CSV file I/O (e.g. pd.read_csv)\n",
    "\n",
    "import matplotlib.pyplot as plt\n",
    "import seaborn as sns \n",
    "%matplotlib inline\n",
    "import plotly.express as px\n",
    "import collections\n",
    "from sklearn.preprocessing import StandardScaler\n",
    "\n",
    "from datetime import datetime\n",
    "from datetime import timedelta\n",
    "\n",
    "# Загружаем специальный удобный инструмент для разделения датасета:\n",
    "from sklearn.model_selection import train_test_split\n",
    "\n",
    "# Input data files are available in the \"../input/\" directory.\n",
    "# For example, running this (by clicking run or pressing Shift+Enter) will list all files under the input directory\n",
    "\n",
    "import os\n",
    "for dirname, _, filenames in os.walk('/kaggle/input'):\n",
    "    for filename in filenames:\n",
    "        print(os.path.join(dirname, filename))\n",
    "\n",
    "# Any results you write to the current directory are saved as output.\n"
   ]
  },
  {
   "cell_type": "code",
   "execution_count": 2,
   "metadata": {},
   "outputs": [],
   "source": [
    "# всегда фиксируйте RANDOM_SEED, чтобы ваши эксперименты были воспроизводимы!\n",
    "RANDOM_SEED = 42\n",
    "# зафиксируем версию пакетов, чтобы эксперименты были воспроизводимы:\n",
    "!pip freeze > requirements.txt"
   ]
  },
  {
   "cell_type": "markdown",
   "metadata": {},
   "source": [
    "# DATA"
   ]
  },
  {
   "cell_type": "code",
   "execution_count": 3,
   "metadata": {
    "_cell_guid": "79c7e3d0-c299-4dcb-8224-4455121ee9b0",
    "_uuid": "d629ff2d2480ee46fbb7e2d37f6b5fab8052498a"
   },
   "outputs": [],
   "source": [
    "DATA_DIR = '/kaggle/input/sf-dst-restaurant-rating/'\n",
    "df_train = pd.read_csv(DATA_DIR+'/main_task.csv')\n",
    "df_test = pd.read_csv(DATA_DIR+'kaggle_task.csv')\n",
    "sample_submission = pd.read_csv(DATA_DIR+'/sample_submission.csv')"
   ]
  },
  {
   "cell_type": "code",
   "execution_count": 4,
   "metadata": {},
   "outputs": [
    {
     "name": "stdout",
     "output_type": "stream",
     "text": [
      "<class 'pandas.core.frame.DataFrame'>\n",
      "RangeIndex: 40000 entries, 0 to 39999\n",
      "Data columns (total 10 columns):\n",
      "Restaurant_id        40000 non-null object\n",
      "City                 40000 non-null object\n",
      "Cuisine Style        30717 non-null object\n",
      "Ranking              40000 non-null float64\n",
      "Rating               40000 non-null float64\n",
      "Price Range          26114 non-null object\n",
      "Number of Reviews    37457 non-null float64\n",
      "Reviews              40000 non-null object\n",
      "URL_TA               40000 non-null object\n",
      "ID_TA                40000 non-null object\n",
      "dtypes: float64(3), object(7)\n",
      "memory usage: 3.1+ MB\n"
     ]
    }
   ],
   "source": [
    "df_train.info()"
   ]
  },
  {
   "cell_type": "code",
   "execution_count": 5,
   "metadata": {},
   "outputs": [
    {
     "data": {
      "text/html": [
       "<div>\n",
       "<style scoped>\n",
       "    .dataframe tbody tr th:only-of-type {\n",
       "        vertical-align: middle;\n",
       "    }\n",
       "\n",
       "    .dataframe tbody tr th {\n",
       "        vertical-align: top;\n",
       "    }\n",
       "\n",
       "    .dataframe thead th {\n",
       "        text-align: right;\n",
       "    }\n",
       "</style>\n",
       "<table border=\"1\" class=\"dataframe\">\n",
       "  <thead>\n",
       "    <tr style=\"text-align: right;\">\n",
       "      <th></th>\n",
       "      <th>Restaurant_id</th>\n",
       "      <th>City</th>\n",
       "      <th>Cuisine Style</th>\n",
       "      <th>Ranking</th>\n",
       "      <th>Rating</th>\n",
       "      <th>Price Range</th>\n",
       "      <th>Number of Reviews</th>\n",
       "      <th>Reviews</th>\n",
       "      <th>URL_TA</th>\n",
       "      <th>ID_TA</th>\n",
       "    </tr>\n",
       "  </thead>\n",
       "  <tbody>\n",
       "    <tr>\n",
       "      <th>0</th>\n",
       "      <td>id_5569</td>\n",
       "      <td>Paris</td>\n",
       "      <td>['European', 'French', 'International']</td>\n",
       "      <td>5570.0</td>\n",
       "      <td>3.5</td>\n",
       "      <td>$$ - $$$</td>\n",
       "      <td>194.0</td>\n",
       "      <td>[['Good food at your doorstep', 'A good hotel ...</td>\n",
       "      <td>/Restaurant_Review-g187147-d1912643-Reviews-R_...</td>\n",
       "      <td>d1912643</td>\n",
       "    </tr>\n",
       "    <tr>\n",
       "      <th>1</th>\n",
       "      <td>id_1535</td>\n",
       "      <td>Stockholm</td>\n",
       "      <td>NaN</td>\n",
       "      <td>1537.0</td>\n",
       "      <td>4.0</td>\n",
       "      <td>NaN</td>\n",
       "      <td>10.0</td>\n",
       "      <td>[['Unique cuisine', 'Delicious Nepalese food']...</td>\n",
       "      <td>/Restaurant_Review-g189852-d7992032-Reviews-Bu...</td>\n",
       "      <td>d7992032</td>\n",
       "    </tr>\n",
       "    <tr>\n",
       "      <th>2</th>\n",
       "      <td>id_352</td>\n",
       "      <td>London</td>\n",
       "      <td>['Japanese', 'Sushi', 'Asian', 'Grill', 'Veget...</td>\n",
       "      <td>353.0</td>\n",
       "      <td>4.5</td>\n",
       "      <td>$$$$</td>\n",
       "      <td>688.0</td>\n",
       "      <td>[['Catch up with friends', 'Not exceptional'],...</td>\n",
       "      <td>/Restaurant_Review-g186338-d8632781-Reviews-RO...</td>\n",
       "      <td>d8632781</td>\n",
       "    </tr>\n",
       "    <tr>\n",
       "      <th>3</th>\n",
       "      <td>id_3456</td>\n",
       "      <td>Berlin</td>\n",
       "      <td>NaN</td>\n",
       "      <td>3458.0</td>\n",
       "      <td>5.0</td>\n",
       "      <td>NaN</td>\n",
       "      <td>3.0</td>\n",
       "      <td>[[], []]</td>\n",
       "      <td>/Restaurant_Review-g187323-d1358776-Reviews-Es...</td>\n",
       "      <td>d1358776</td>\n",
       "    </tr>\n",
       "    <tr>\n",
       "      <th>4</th>\n",
       "      <td>id_615</td>\n",
       "      <td>Munich</td>\n",
       "      <td>['German', 'Central European', 'Vegetarian Fri...</td>\n",
       "      <td>621.0</td>\n",
       "      <td>4.0</td>\n",
       "      <td>$$ - $$$</td>\n",
       "      <td>84.0</td>\n",
       "      <td>[['Best place to try a Bavarian food', 'Nice b...</td>\n",
       "      <td>/Restaurant_Review-g187309-d6864963-Reviews-Au...</td>\n",
       "      <td>d6864963</td>\n",
       "    </tr>\n",
       "  </tbody>\n",
       "</table>\n",
       "</div>"
      ],
      "text/plain": [
       "  Restaurant_id       City                                      Cuisine Style  \\\n",
       "0       id_5569      Paris            ['European', 'French', 'International']   \n",
       "1       id_1535  Stockholm                                                NaN   \n",
       "2        id_352     London  ['Japanese', 'Sushi', 'Asian', 'Grill', 'Veget...   \n",
       "3       id_3456     Berlin                                                NaN   \n",
       "4        id_615     Munich  ['German', 'Central European', 'Vegetarian Fri...   \n",
       "\n",
       "   Ranking  Rating Price Range  Number of Reviews  \\\n",
       "0   5570.0     3.5    $$ - $$$              194.0   \n",
       "1   1537.0     4.0         NaN               10.0   \n",
       "2    353.0     4.5        $$$$              688.0   \n",
       "3   3458.0     5.0         NaN                3.0   \n",
       "4    621.0     4.0    $$ - $$$               84.0   \n",
       "\n",
       "                                             Reviews  \\\n",
       "0  [['Good food at your doorstep', 'A good hotel ...   \n",
       "1  [['Unique cuisine', 'Delicious Nepalese food']...   \n",
       "2  [['Catch up with friends', 'Not exceptional'],...   \n",
       "3                                           [[], []]   \n",
       "4  [['Best place to try a Bavarian food', 'Nice b...   \n",
       "\n",
       "                                              URL_TA     ID_TA  \n",
       "0  /Restaurant_Review-g187147-d1912643-Reviews-R_...  d1912643  \n",
       "1  /Restaurant_Review-g189852-d7992032-Reviews-Bu...  d7992032  \n",
       "2  /Restaurant_Review-g186338-d8632781-Reviews-RO...  d8632781  \n",
       "3  /Restaurant_Review-g187323-d1358776-Reviews-Es...  d1358776  \n",
       "4  /Restaurant_Review-g187309-d6864963-Reviews-Au...  d6864963  "
      ]
     },
     "execution_count": 5,
     "metadata": {},
     "output_type": "execute_result"
    }
   ],
   "source": [
    "df_train.head(5)"
   ]
  },
  {
   "cell_type": "code",
   "execution_count": 6,
   "metadata": {},
   "outputs": [
    {
     "name": "stdout",
     "output_type": "stream",
     "text": [
      "<class 'pandas.core.frame.DataFrame'>\n",
      "RangeIndex: 10000 entries, 0 to 9999\n",
      "Data columns (total 9 columns):\n",
      "Restaurant_id        10000 non-null object\n",
      "City                 10000 non-null object\n",
      "Cuisine Style        7693 non-null object\n",
      "Ranking              10000 non-null float64\n",
      "Price Range          6525 non-null object\n",
      "Number of Reviews    9343 non-null float64\n",
      "Reviews              9998 non-null object\n",
      "URL_TA               10000 non-null object\n",
      "ID_TA                10000 non-null object\n",
      "dtypes: float64(2), object(7)\n",
      "memory usage: 703.2+ KB\n"
     ]
    }
   ],
   "source": [
    "df_test.info()"
   ]
  },
  {
   "cell_type": "code",
   "execution_count": 7,
   "metadata": {},
   "outputs": [
    {
     "data": {
      "text/html": [
       "<div>\n",
       "<style scoped>\n",
       "    .dataframe tbody tr th:only-of-type {\n",
       "        vertical-align: middle;\n",
       "    }\n",
       "\n",
       "    .dataframe tbody tr th {\n",
       "        vertical-align: top;\n",
       "    }\n",
       "\n",
       "    .dataframe thead th {\n",
       "        text-align: right;\n",
       "    }\n",
       "</style>\n",
       "<table border=\"1\" class=\"dataframe\">\n",
       "  <thead>\n",
       "    <tr style=\"text-align: right;\">\n",
       "      <th></th>\n",
       "      <th>Restaurant_id</th>\n",
       "      <th>City</th>\n",
       "      <th>Cuisine Style</th>\n",
       "      <th>Ranking</th>\n",
       "      <th>Price Range</th>\n",
       "      <th>Number of Reviews</th>\n",
       "      <th>Reviews</th>\n",
       "      <th>URL_TA</th>\n",
       "      <th>ID_TA</th>\n",
       "    </tr>\n",
       "  </thead>\n",
       "  <tbody>\n",
       "    <tr>\n",
       "      <th>0</th>\n",
       "      <td>id_0</td>\n",
       "      <td>Paris</td>\n",
       "      <td>['Bar', 'Pub']</td>\n",
       "      <td>12963.0</td>\n",
       "      <td>$$ - $$$</td>\n",
       "      <td>4.0</td>\n",
       "      <td>[[], []]</td>\n",
       "      <td>/Restaurant_Review-g187147-d10746918-Reviews-L...</td>\n",
       "      <td>d10746918</td>\n",
       "    </tr>\n",
       "    <tr>\n",
       "      <th>1</th>\n",
       "      <td>id_1</td>\n",
       "      <td>Helsinki</td>\n",
       "      <td>['European', 'Scandinavian', 'Gluten Free Opti...</td>\n",
       "      <td>106.0</td>\n",
       "      <td>$$ - $$$</td>\n",
       "      <td>97.0</td>\n",
       "      <td>[['Very good reviews!', 'Fine dining in Hakani...</td>\n",
       "      <td>/Restaurant_Review-g189934-d6674944-Reviews-Ra...</td>\n",
       "      <td>d6674944</td>\n",
       "    </tr>\n",
       "    <tr>\n",
       "      <th>2</th>\n",
       "      <td>id_2</td>\n",
       "      <td>Edinburgh</td>\n",
       "      <td>['Vegetarian Friendly']</td>\n",
       "      <td>810.0</td>\n",
       "      <td>$$ - $$$</td>\n",
       "      <td>28.0</td>\n",
       "      <td>[['Better than the Links', 'Ivy Black'], ['12/...</td>\n",
       "      <td>/Restaurant_Review-g186525-d13129638-Reviews-B...</td>\n",
       "      <td>d13129638</td>\n",
       "    </tr>\n",
       "    <tr>\n",
       "      <th>3</th>\n",
       "      <td>id_3</td>\n",
       "      <td>London</td>\n",
       "      <td>['Italian', 'Mediterranean', 'European', 'Vege...</td>\n",
       "      <td>1669.0</td>\n",
       "      <td>$$$$</td>\n",
       "      <td>202.0</td>\n",
       "      <td>[['Most exquisite', 'Delicious and authentic']...</td>\n",
       "      <td>/Restaurant_Review-g186338-d680417-Reviews-Qui...</td>\n",
       "      <td>d680417</td>\n",
       "    </tr>\n",
       "    <tr>\n",
       "      <th>4</th>\n",
       "      <td>id_4</td>\n",
       "      <td>Bratislava</td>\n",
       "      <td>['Italian', 'Mediterranean', 'European', 'Seaf...</td>\n",
       "      <td>37.0</td>\n",
       "      <td>$$$$</td>\n",
       "      <td>162.0</td>\n",
       "      <td>[['Always the best in bratislava', 'Very good ...</td>\n",
       "      <td>/Restaurant_Review-g274924-d1112354-Reviews-Ma...</td>\n",
       "      <td>d1112354</td>\n",
       "    </tr>\n",
       "  </tbody>\n",
       "</table>\n",
       "</div>"
      ],
      "text/plain": [
       "  Restaurant_id        City  \\\n",
       "0          id_0       Paris   \n",
       "1          id_1    Helsinki   \n",
       "2          id_2   Edinburgh   \n",
       "3          id_3      London   \n",
       "4          id_4  Bratislava   \n",
       "\n",
       "                                       Cuisine Style  Ranking Price Range  \\\n",
       "0                                     ['Bar', 'Pub']  12963.0    $$ - $$$   \n",
       "1  ['European', 'Scandinavian', 'Gluten Free Opti...    106.0    $$ - $$$   \n",
       "2                            ['Vegetarian Friendly']    810.0    $$ - $$$   \n",
       "3  ['Italian', 'Mediterranean', 'European', 'Vege...   1669.0        $$$$   \n",
       "4  ['Italian', 'Mediterranean', 'European', 'Seaf...     37.0        $$$$   \n",
       "\n",
       "   Number of Reviews                                            Reviews  \\\n",
       "0                4.0                                           [[], []]   \n",
       "1               97.0  [['Very good reviews!', 'Fine dining in Hakani...   \n",
       "2               28.0  [['Better than the Links', 'Ivy Black'], ['12/...   \n",
       "3              202.0  [['Most exquisite', 'Delicious and authentic']...   \n",
       "4              162.0  [['Always the best in bratislava', 'Very good ...   \n",
       "\n",
       "                                              URL_TA      ID_TA  \n",
       "0  /Restaurant_Review-g187147-d10746918-Reviews-L...  d10746918  \n",
       "1  /Restaurant_Review-g189934-d6674944-Reviews-Ra...   d6674944  \n",
       "2  /Restaurant_Review-g186525-d13129638-Reviews-B...  d13129638  \n",
       "3  /Restaurant_Review-g186338-d680417-Reviews-Qui...    d680417  \n",
       "4  /Restaurant_Review-g274924-d1112354-Reviews-Ma...   d1112354  "
      ]
     },
     "execution_count": 7,
     "metadata": {},
     "output_type": "execute_result"
    }
   ],
   "source": [
    "df_test.head(5)"
   ]
  },
  {
   "cell_type": "code",
   "execution_count": 8,
   "metadata": {},
   "outputs": [
    {
     "data": {
      "text/html": [
       "<div>\n",
       "<style scoped>\n",
       "    .dataframe tbody tr th:only-of-type {\n",
       "        vertical-align: middle;\n",
       "    }\n",
       "\n",
       "    .dataframe tbody tr th {\n",
       "        vertical-align: top;\n",
       "    }\n",
       "\n",
       "    .dataframe thead th {\n",
       "        text-align: right;\n",
       "    }\n",
       "</style>\n",
       "<table border=\"1\" class=\"dataframe\">\n",
       "  <thead>\n",
       "    <tr style=\"text-align: right;\">\n",
       "      <th></th>\n",
       "      <th>Restaurant_id</th>\n",
       "      <th>Rating</th>\n",
       "    </tr>\n",
       "  </thead>\n",
       "  <tbody>\n",
       "    <tr>\n",
       "      <th>0</th>\n",
       "      <td>id_0</td>\n",
       "      <td>2.0</td>\n",
       "    </tr>\n",
       "    <tr>\n",
       "      <th>1</th>\n",
       "      <td>id_1</td>\n",
       "      <td>2.5</td>\n",
       "    </tr>\n",
       "    <tr>\n",
       "      <th>2</th>\n",
       "      <td>id_2</td>\n",
       "      <td>4.0</td>\n",
       "    </tr>\n",
       "    <tr>\n",
       "      <th>3</th>\n",
       "      <td>id_3</td>\n",
       "      <td>1.0</td>\n",
       "    </tr>\n",
       "    <tr>\n",
       "      <th>4</th>\n",
       "      <td>id_4</td>\n",
       "      <td>4.0</td>\n",
       "    </tr>\n",
       "  </tbody>\n",
       "</table>\n",
       "</div>"
      ],
      "text/plain": [
       "  Restaurant_id  Rating\n",
       "0          id_0     2.0\n",
       "1          id_1     2.5\n",
       "2          id_2     4.0\n",
       "3          id_3     1.0\n",
       "4          id_4     4.0"
      ]
     },
     "execution_count": 8,
     "metadata": {},
     "output_type": "execute_result"
    }
   ],
   "source": [
    "sample_submission.head(5)"
   ]
  },
  {
   "cell_type": "code",
   "execution_count": 9,
   "metadata": {},
   "outputs": [
    {
     "name": "stdout",
     "output_type": "stream",
     "text": [
      "<class 'pandas.core.frame.DataFrame'>\n",
      "RangeIndex: 10000 entries, 0 to 9999\n",
      "Data columns (total 2 columns):\n",
      "Restaurant_id    10000 non-null object\n",
      "Rating           10000 non-null float64\n",
      "dtypes: float64(1), object(1)\n",
      "memory usage: 156.4+ KB\n"
     ]
    }
   ],
   "source": [
    "sample_submission.info()"
   ]
  },
  {
   "cell_type": "code",
   "execution_count": 10,
   "metadata": {},
   "outputs": [],
   "source": [
    "# ВАЖНО! дря корректной обработки признаков объединяем трейн и тест в один датасет\n",
    "df_train['sample'] = 1 # помечаем где у нас трейн\n",
    "df_test['sample'] = 0 # помечаем где у нас тест\n",
    "df_test['Rating'] = 0 # в тесте у нас нет значения Rating, мы его должны предсказать, по этому пока просто заполняем нулями\n",
    "\n",
    "data = df_test.append(df_train, sort=False).reset_index(drop=True) # объединяем"
   ]
  },
  {
   "cell_type": "code",
   "execution_count": 11,
   "metadata": {},
   "outputs": [
    {
     "name": "stdout",
     "output_type": "stream",
     "text": [
      "<class 'pandas.core.frame.DataFrame'>\n",
      "RangeIndex: 50000 entries, 0 to 49999\n",
      "Data columns (total 11 columns):\n",
      "Restaurant_id        50000 non-null object\n",
      "City                 50000 non-null object\n",
      "Cuisine Style        38410 non-null object\n",
      "Ranking              50000 non-null float64\n",
      "Price Range          32639 non-null object\n",
      "Number of Reviews    46800 non-null float64\n",
      "Reviews              49998 non-null object\n",
      "URL_TA               50000 non-null object\n",
      "ID_TA                50000 non-null object\n",
      "sample               50000 non-null int64\n",
      "Rating               50000 non-null float64\n",
      "dtypes: float64(3), int64(1), object(7)\n",
      "memory usage: 4.2+ MB\n"
     ]
    }
   ],
   "source": [
    "data.info()"
   ]
  },
  {
   "cell_type": "markdown",
   "metadata": {},
   "source": [
    "Подробнее по признакам:\n",
    "* City: Город \n",
    "* Cuisine Style: Кухня\n",
    "* Ranking: Ранг ресторана относительно других ресторанов в этом городе\n",
    "* Price Range: Цены в ресторане в 3 категориях\n",
    "* Number of Reviews: Количество отзывов\n",
    "* Reviews: 2 последних отзыва и даты этих отзывов\n",
    "* URL_TA: страница ресторана на 'www.tripadvisor.com' \n",
    "* ID_TA: ID ресторана в TripAdvisor\n",
    "* Rating: Рейтинг ресторана"
   ]
  },
  {
   "cell_type": "code",
   "execution_count": 12,
   "metadata": {},
   "outputs": [
    {
     "data": {
      "text/html": [
       "<div>\n",
       "<style scoped>\n",
       "    .dataframe tbody tr th:only-of-type {\n",
       "        vertical-align: middle;\n",
       "    }\n",
       "\n",
       "    .dataframe tbody tr th {\n",
       "        vertical-align: top;\n",
       "    }\n",
       "\n",
       "    .dataframe thead th {\n",
       "        text-align: right;\n",
       "    }\n",
       "</style>\n",
       "<table border=\"1\" class=\"dataframe\">\n",
       "  <thead>\n",
       "    <tr style=\"text-align: right;\">\n",
       "      <th></th>\n",
       "      <th>Restaurant_id</th>\n",
       "      <th>City</th>\n",
       "      <th>Cuisine Style</th>\n",
       "      <th>Ranking</th>\n",
       "      <th>Price Range</th>\n",
       "      <th>Number of Reviews</th>\n",
       "      <th>Reviews</th>\n",
       "      <th>URL_TA</th>\n",
       "      <th>ID_TA</th>\n",
       "      <th>sample</th>\n",
       "      <th>Rating</th>\n",
       "    </tr>\n",
       "  </thead>\n",
       "  <tbody>\n",
       "    <tr>\n",
       "      <th>28208</th>\n",
       "      <td>id_5486</td>\n",
       "      <td>Berlin</td>\n",
       "      <td>NaN</td>\n",
       "      <td>5488.0</td>\n",
       "      <td>NaN</td>\n",
       "      <td>15.0</td>\n",
       "      <td>[['Slightly above average cafe', 'Nice cafe in...</td>\n",
       "      <td>/Restaurant_Review-g187323-d7047658-Reviews-Sc...</td>\n",
       "      <td>d7047658</td>\n",
       "      <td>1</td>\n",
       "      <td>3.5</td>\n",
       "    </tr>\n",
       "    <tr>\n",
       "      <th>1921</th>\n",
       "      <td>id_1921</td>\n",
       "      <td>Barcelona</td>\n",
       "      <td>['Mediterranean', 'European', 'Spanish', 'Vege...</td>\n",
       "      <td>563.0</td>\n",
       "      <td>$$ - $$$</td>\n",
       "      <td>335.0</td>\n",
       "      <td>[['Allways a good place to lunch!', 'Market, B...</td>\n",
       "      <td>/Restaurant_Review-g187497-d911374-Reviews-San...</td>\n",
       "      <td>d911374</td>\n",
       "      <td>0</td>\n",
       "      <td>0.0</td>\n",
       "    </tr>\n",
       "    <tr>\n",
       "      <th>30929</th>\n",
       "      <td>id_9890</td>\n",
       "      <td>London</td>\n",
       "      <td>['Indian']</td>\n",
       "      <td>9899.0</td>\n",
       "      <td>NaN</td>\n",
       "      <td>8.0</td>\n",
       "      <td>[['Regular Friday night takeaway.', 'Friday ni...</td>\n",
       "      <td>/Restaurant_Review-g186338-d5502977-Reviews-In...</td>\n",
       "      <td>d5502977</td>\n",
       "      <td>1</td>\n",
       "      <td>4.5</td>\n",
       "    </tr>\n",
       "    <tr>\n",
       "      <th>29148</th>\n",
       "      <td>id_2969</td>\n",
       "      <td>Vienna</td>\n",
       "      <td>['Asian']</td>\n",
       "      <td>2971.0</td>\n",
       "      <td>NaN</td>\n",
       "      <td>2.0</td>\n",
       "      <td>[[], []]</td>\n",
       "      <td>/Restaurant_Review-g190454-d3686952-Reviews-Sp...</td>\n",
       "      <td>d3686952</td>\n",
       "      <td>1</td>\n",
       "      <td>3.5</td>\n",
       "    </tr>\n",
       "    <tr>\n",
       "      <th>11946</th>\n",
       "      <td>id_39</td>\n",
       "      <td>Lisbon</td>\n",
       "      <td>['Portuguese', 'Wine Bar', 'Vegetarian Friendly']</td>\n",
       "      <td>40.0</td>\n",
       "      <td>$$ - $$$</td>\n",
       "      <td>1298.0</td>\n",
       "      <td>[['Always good wine', 'Family tapas'], ['02/24...</td>\n",
       "      <td>/Restaurant_Review-g189158-d1792131-Reviews-Wi...</td>\n",
       "      <td>d1792131</td>\n",
       "      <td>1</td>\n",
       "      <td>4.5</td>\n",
       "    </tr>\n",
       "  </tbody>\n",
       "</table>\n",
       "</div>"
      ],
      "text/plain": [
       "      Restaurant_id       City  \\\n",
       "28208       id_5486     Berlin   \n",
       "1921        id_1921  Barcelona   \n",
       "30929       id_9890     London   \n",
       "29148       id_2969     Vienna   \n",
       "11946         id_39     Lisbon   \n",
       "\n",
       "                                           Cuisine Style  Ranking Price Range  \\\n",
       "28208                                                NaN   5488.0         NaN   \n",
       "1921   ['Mediterranean', 'European', 'Spanish', 'Vege...    563.0    $$ - $$$   \n",
       "30929                                         ['Indian']   9899.0         NaN   \n",
       "29148                                          ['Asian']   2971.0         NaN   \n",
       "11946  ['Portuguese', 'Wine Bar', 'Vegetarian Friendly']     40.0    $$ - $$$   \n",
       "\n",
       "       Number of Reviews                                            Reviews  \\\n",
       "28208               15.0  [['Slightly above average cafe', 'Nice cafe in...   \n",
       "1921               335.0  [['Allways a good place to lunch!', 'Market, B...   \n",
       "30929                8.0  [['Regular Friday night takeaway.', 'Friday ni...   \n",
       "29148                2.0                                           [[], []]   \n",
       "11946             1298.0  [['Always good wine', 'Family tapas'], ['02/24...   \n",
       "\n",
       "                                                  URL_TA     ID_TA  sample  \\\n",
       "28208  /Restaurant_Review-g187323-d7047658-Reviews-Sc...  d7047658       1   \n",
       "1921   /Restaurant_Review-g187497-d911374-Reviews-San...   d911374       0   \n",
       "30929  /Restaurant_Review-g186338-d5502977-Reviews-In...  d5502977       1   \n",
       "29148  /Restaurant_Review-g190454-d3686952-Reviews-Sp...  d3686952       1   \n",
       "11946  /Restaurant_Review-g189158-d1792131-Reviews-Wi...  d1792131       1   \n",
       "\n",
       "       Rating  \n",
       "28208     3.5  \n",
       "1921      0.0  \n",
       "30929     4.5  \n",
       "29148     3.5  \n",
       "11946     4.5  "
      ]
     },
     "execution_count": 12,
     "metadata": {},
     "output_type": "execute_result"
    }
   ],
   "source": [
    "data.sample(5)"
   ]
  },
  {
   "cell_type": "markdown",
   "metadata": {},
   "source": [
    "Как видим, большинство признаков у нас требует очистки и предварительной обработки."
   ]
  },
  {
   "cell_type": "markdown",
   "metadata": {},
   "source": [
    "# Cleaning and Prepping Data\n",
    "Обычно данные содержат в себе кучу мусора, который необходимо почистить, для того чтобы привести их в приемлемый формат. Чистка данных — это необходимый этап решения почти любой реальной задачи.   \n"
   ]
  },
  {
   "cell_type": "code",
   "execution_count": 13,
   "metadata": {},
   "outputs": [
    {
     "data": {
      "text/plain": [
       "Restaurant_id        13094\n",
       "City                    31\n",
       "Cuisine Style        10732\n",
       "Ranking              12975\n",
       "Price Range              4\n",
       "Number of Reviews     1574\n",
       "Reviews              41858\n",
       "URL_TA               49963\n",
       "ID_TA                49963\n",
       "sample                   2\n",
       "Rating                  10\n",
       "dtype: int64"
      ]
     },
     "execution_count": 13,
     "metadata": {},
     "output_type": "execute_result"
    }
   ],
   "source": [
    "data.nunique(dropna=False)"
   ]
  },
  {
   "cell_type": "code",
   "execution_count": 14,
   "metadata": {},
   "outputs": [
    {
     "data": {
      "text/plain": [
       "Index(['Restaurant_id', 'City', 'CuisineStyle', 'Ranking', 'PriceRange',\n",
       "       'NumberofReviews', 'Reviews', 'URL_TA', 'ID_TA', 'sample', 'Rating'],\n",
       "      dtype='object')"
      ]
     },
     "execution_count": 14,
     "metadata": {},
     "output_type": "execute_result"
    }
   ],
   "source": [
    "#rename columns\n",
    "data.columns = data.columns.str.replace(' ', '')\n",
    "data.columns"
   ]
  },
  {
   "cell_type": "markdown",
   "metadata": {},
   "source": [
    "## 1. EDA\n",
    "У наличия пропусков могут быть разные причины, но пропуски нужно либо заполнить, либо исключить из набора полностью. Но с пропусками нужно быть внимательным, **даже отсутствие информации может быть важным признаком!**   \n",
    "По этому перед обработкой NAN лучше вынести информацию о наличии пропуска как отдельный признак "
   ]
  },
  {
   "cell_type": "markdown",
   "metadata": {},
   "source": [
    "### 1. Rating\n",
    "At the beginning we will analyse the variable we want to** predcit"
   ]
  },
  {
   "cell_type": "code",
   "execution_count": 15,
   "metadata": {},
   "outputs": [
    {
     "name": "stdout",
     "output_type": "stream",
     "text": [
      "number of unique values in Rating 10\n",
      "list of unique values in Rating:  [0.  3.5 4.  4.5 5.  3.  2.5 2.  1.  1.5]\n",
      "number of non NaN is  50000\n"
     ]
    }
   ],
   "source": [
    "print('number of unique values in Rating', len(data.Rating.unique()))\n",
    "print('list of unique values in Rating: ', data.Rating.unique()) \n",
    "print('number of non NaN is ', len(data.Rating))\n"
   ]
  },
  {
   "cell_type": "code",
   "execution_count": 16,
   "metadata": {},
   "outputs": [
    {
     "data": {
      "text/plain": [
       "<matplotlib.axes._subplots.AxesSubplot at 0x7f5948d94550>"
      ]
     },
     "execution_count": 16,
     "metadata": {},
     "output_type": "execute_result"
    },
    {
     "data": {
      "image/png": "[encoded data removed]",
      "text/plain": [
       "<Figure size 432x288 with 1 Axes>"
      ]
     },
     "metadata": {
      "needs_background": "light"
     },
     "output_type": "display_data"
    }
   ],
   "source": [
    "#check the distribution\n",
    "data.Rating.hist(bins=11)"
   ]
  },
  {
   "cell_type": "markdown",
   "metadata": {},
   "source": [
    "### 2. Restaurant_id"
   ]
  },
  {
   "cell_type": "code",
   "execution_count": 17,
   "metadata": {},
   "outputs": [
    {
     "name": "stdout",
     "output_type": "stream",
     "text": [
      "13094\n",
      "0\n"
     ]
    }
   ],
   "source": [
    "print(len(data.Restaurant_id.unique()))\n",
    "print(data.Restaurant_id.isna().sum())"
   ]
  },
  {
   "cell_type": "code",
   "execution_count": 18,
   "metadata": {},
   "outputs": [
    {
     "data": {
      "text/plain": [
       "array([[<matplotlib.axes._subplots.AxesSubplot object at 0x7f5948caa048>]],\n",
       "      dtype=object)"
      ]
     },
     "execution_count": 18,
     "metadata": {},
     "output_type": "execute_result"
    },
    {
     "data": {
      "image/png": "[encoded data removed]",
      "text/plain": [
       "<Figure size 432x288 with 1 Axes>"
      ]
     },
     "metadata": {
      "needs_background": "light"
     },
     "output_type": "display_data"
    }
   ],
   "source": [
    "rest_gr = data.groupby('Restaurant_id')['Restaurant_id'].agg(['count']).sort_values(by = 'count', ascending=False).reset_index()\n",
    "rest_gr.hist()"
   ]
  },
  {
   "cell_type": "code",
   "execution_count": 19,
   "metadata": {},
   "outputs": [
    {
     "data": {
      "text/html": [
       "<div>\n",
       "<style scoped>\n",
       "    .dataframe tbody tr th:only-of-type {\n",
       "        vertical-align: middle;\n",
       "    }\n",
       "\n",
       "    .dataframe tbody tr th {\n",
       "        vertical-align: top;\n",
       "    }\n",
       "\n",
       "    .dataframe thead th {\n",
       "        text-align: right;\n",
       "    }\n",
       "</style>\n",
       "<table border=\"1\" class=\"dataframe\">\n",
       "  <thead>\n",
       "    <tr style=\"text-align: right;\">\n",
       "      <th></th>\n",
       "      <th>Restaurant_id</th>\n",
       "      <th>count</th>\n",
       "    </tr>\n",
       "  </thead>\n",
       "  <tbody>\n",
       "    <tr>\n",
       "      <th>0</th>\n",
       "      <td>id_227</td>\n",
       "      <td>19</td>\n",
       "    </tr>\n",
       "    <tr>\n",
       "      <th>1</th>\n",
       "      <td>id_871</td>\n",
       "      <td>19</td>\n",
       "    </tr>\n",
       "    <tr>\n",
       "      <th>2</th>\n",
       "      <td>id_436</td>\n",
       "      <td>19</td>\n",
       "    </tr>\n",
       "    <tr>\n",
       "      <th>3</th>\n",
       "      <td>id_633</td>\n",
       "      <td>19</td>\n",
       "    </tr>\n",
       "    <tr>\n",
       "      <th>4</th>\n",
       "      <td>id_534</td>\n",
       "      <td>18</td>\n",
       "    </tr>\n",
       "    <tr>\n",
       "      <th>5</th>\n",
       "      <td>id_321</td>\n",
       "      <td>18</td>\n",
       "    </tr>\n",
       "    <tr>\n",
       "      <th>6</th>\n",
       "      <td>id_585</td>\n",
       "      <td>18</td>\n",
       "    </tr>\n",
       "    <tr>\n",
       "      <th>7</th>\n",
       "      <td>id_430</td>\n",
       "      <td>18</td>\n",
       "    </tr>\n",
       "    <tr>\n",
       "      <th>8</th>\n",
       "      <td>id_344</td>\n",
       "      <td>18</td>\n",
       "    </tr>\n",
       "    <tr>\n",
       "      <th>9</th>\n",
       "      <td>id_71</td>\n",
       "      <td>18</td>\n",
       "    </tr>\n",
       "  </tbody>\n",
       "</table>\n",
       "</div>"
      ],
      "text/plain": [
       "  Restaurant_id  count\n",
       "0        id_227     19\n",
       "1        id_871     19\n",
       "2        id_436     19\n",
       "3        id_633     19\n",
       "4        id_534     18\n",
       "5        id_321     18\n",
       "6        id_585     18\n",
       "7        id_430     18\n",
       "8        id_344     18\n",
       "9         id_71     18"
      ]
     },
     "execution_count": 19,
     "metadata": {},
     "output_type": "execute_result"
    }
   ],
   "source": [
    "rest_gr[:10]"
   ]
  },
  {
   "cell_type": "code",
   "execution_count": 20,
   "metadata": {},
   "outputs": [
    {
     "data": {
      "text/html": [
       "<div>\n",
       "<style scoped>\n",
       "    .dataframe tbody tr th:only-of-type {\n",
       "        vertical-align: middle;\n",
       "    }\n",
       "\n",
       "    .dataframe tbody tr th {\n",
       "        vertical-align: top;\n",
       "    }\n",
       "\n",
       "    .dataframe thead th {\n",
       "        text-align: right;\n",
       "    }\n",
       "</style>\n",
       "<table border=\"1\" class=\"dataframe\">\n",
       "  <thead>\n",
       "    <tr style=\"text-align: right;\">\n",
       "      <th></th>\n",
       "      <th>Restaurant_id</th>\n",
       "      <th>City</th>\n",
       "      <th>CuisineStyle</th>\n",
       "      <th>Ranking</th>\n",
       "      <th>PriceRange</th>\n",
       "      <th>NumberofReviews</th>\n",
       "      <th>Reviews</th>\n",
       "      <th>URL_TA</th>\n",
       "      <th>ID_TA</th>\n",
       "      <th>sample</th>\n",
       "      <th>Rating</th>\n",
       "    </tr>\n",
       "  </thead>\n",
       "  <tbody>\n",
       "    <tr>\n",
       "      <th>534</th>\n",
       "      <td>id_534</td>\n",
       "      <td>Lyon</td>\n",
       "      <td>['Pakistani', 'Indian', 'Vegetarian Friendly']</td>\n",
       "      <td>795.0</td>\n",
       "      <td>$$ - $$$</td>\n",
       "      <td>84.0</td>\n",
       "      <td>[['Great Indian resturant!', 'Nice Indian plac...</td>\n",
       "      <td>/Restaurant_Review-g187265-d816667-Reviews-New...</td>\n",
       "      <td>d816667</td>\n",
       "      <td>0</td>\n",
       "      <td>0.0</td>\n",
       "    </tr>\n",
       "    <tr>\n",
       "      <th>11771</th>\n",
       "      <td>id_534</td>\n",
       "      <td>Luxembourg</td>\n",
       "      <td>['Italian', 'French']</td>\n",
       "      <td>535.0</td>\n",
       "      <td>NaN</td>\n",
       "      <td>7.0</td>\n",
       "      <td>[['Excellent fresh pasta and friendly service'...</td>\n",
       "      <td>/Restaurant_Review-g190356-d4884737-Reviews-Re...</td>\n",
       "      <td>d4884737</td>\n",
       "      <td>1</td>\n",
       "      <td>3.5</td>\n",
       "    </tr>\n",
       "    <tr>\n",
       "      <th>11847</th>\n",
       "      <td>id_534</td>\n",
       "      <td>Paris</td>\n",
       "      <td>['French', 'Bar', 'European', 'Vegetarian Frie...</td>\n",
       "      <td>535.0</td>\n",
       "      <td>$$ - $$$</td>\n",
       "      <td>333.0</td>\n",
       "      <td>[['Nice and friendly brasserie along the cana....</td>\n",
       "      <td>/Restaurant_Review-g187147-d783786-Reviews-Le_...</td>\n",
       "      <td>d783786</td>\n",
       "      <td>1</td>\n",
       "      <td>4.0</td>\n",
       "    </tr>\n",
       "    <tr>\n",
       "      <th>16090</th>\n",
       "      <td>id_534</td>\n",
       "      <td>Barcelona</td>\n",
       "      <td>['Mediterranean', 'European', 'Spanish', 'Vege...</td>\n",
       "      <td>535.0</td>\n",
       "      <td>$</td>\n",
       "      <td>422.0</td>\n",
       "      <td>[['Lovely find', 'Good choice for lunch in Bar...</td>\n",
       "      <td>/Restaurant_Review-g187497-d717389-Reviews-Res...</td>\n",
       "      <td>d717389</td>\n",
       "      <td>1</td>\n",
       "      <td>4.0</td>\n",
       "    </tr>\n",
       "    <tr>\n",
       "      <th>17756</th>\n",
       "      <td>id_534</td>\n",
       "      <td>Amsterdam</td>\n",
       "      <td>['American', 'Fast Food']</td>\n",
       "      <td>535.0</td>\n",
       "      <td>$</td>\n",
       "      <td>240.0</td>\n",
       "      <td>[['Tailored burger', 'Many ingredients'], ['12...</td>\n",
       "      <td>/Restaurant_Review-g188590-d8537685-Reviews-Bu...</td>\n",
       "      <td>d8537685</td>\n",
       "      <td>1</td>\n",
       "      <td>4.0</td>\n",
       "    </tr>\n",
       "  </tbody>\n",
       "</table>\n",
       "</div>"
      ],
      "text/plain": [
       "      Restaurant_id        City  \\\n",
       "534          id_534        Lyon   \n",
       "11771        id_534  Luxembourg   \n",
       "11847        id_534       Paris   \n",
       "16090        id_534   Barcelona   \n",
       "17756        id_534   Amsterdam   \n",
       "\n",
       "                                            CuisineStyle  Ranking PriceRange  \\\n",
       "534       ['Pakistani', 'Indian', 'Vegetarian Friendly']    795.0   $$ - $$$   \n",
       "11771                              ['Italian', 'French']    535.0        NaN   \n",
       "11847  ['French', 'Bar', 'European', 'Vegetarian Frie...    535.0   $$ - $$$   \n",
       "16090  ['Mediterranean', 'European', 'Spanish', 'Vege...    535.0          $   \n",
       "17756                          ['American', 'Fast Food']    535.0          $   \n",
       "\n",
       "       NumberofReviews                                            Reviews  \\\n",
       "534               84.0  [['Great Indian resturant!', 'Nice Indian plac...   \n",
       "11771              7.0  [['Excellent fresh pasta and friendly service'...   \n",
       "11847            333.0  [['Nice and friendly brasserie along the cana....   \n",
       "16090            422.0  [['Lovely find', 'Good choice for lunch in Bar...   \n",
       "17756            240.0  [['Tailored burger', 'Many ingredients'], ['12...   \n",
       "\n",
       "                                                  URL_TA     ID_TA  sample  \\\n",
       "534    /Restaurant_Review-g187265-d816667-Reviews-New...   d816667       0   \n",
       "11771  /Restaurant_Review-g190356-d4884737-Reviews-Re...  d4884737       1   \n",
       "11847  /Restaurant_Review-g187147-d783786-Reviews-Le_...   d783786       1   \n",
       "16090  /Restaurant_Review-g187497-d717389-Reviews-Res...   d717389       1   \n",
       "17756  /Restaurant_Review-g188590-d8537685-Reviews-Bu...  d8537685       1   \n",
       "\n",
       "       Rating  \n",
       "534       0.0  \n",
       "11771     3.5  \n",
       "11847     4.0  \n",
       "16090     4.0  \n",
       "17756     4.0  "
      ]
     },
     "execution_count": 20,
     "metadata": {},
     "output_type": "execute_result"
    }
   ],
   "source": [
    "data[data['Restaurant_id']=='id_534'].head()"
   ]
  },
  {
   "cell_type": "markdown",
   "metadata": {},
   "source": [
    "### **INSIGHTS:**\n",
    "Restaurant_id looks like Ranking with 'id' at the beggining of the string. The values are not unique. There are same restarant_id's in defferent countries\n"
   ]
  },
  {
   "cell_type": "markdown",
   "metadata": {},
   "source": [
    "### 3. Ranking"
   ]
  },
  {
   "cell_type": "code",
   "execution_count": 21,
   "metadata": {},
   "outputs": [
    {
     "name": "stdout",
     "output_type": "stream",
     "text": [
      "12975\n",
      "0\n"
     ]
    }
   ],
   "source": [
    "#check NaN's and unique values\n",
    "print(len(data.Ranking.unique()))\n",
    "print(data.Ranking.isna().sum())\n"
   ]
  },
  {
   "cell_type": "markdown",
   "metadata": {},
   "source": [
    "we do not have NaN's in the dataset"
   ]
  },
  {
   "cell_type": "code",
   "execution_count": 22,
   "metadata": {},
   "outputs": [
    {
     "data": {
      "text/plain": [
       "<matplotlib.axes._subplots.AxesSubplot at 0x7f5948c44b00>"
      ]
     },
     "execution_count": 22,
     "metadata": {},
     "output_type": "execute_result"
    },
    {
     "data": {
      "image/png": "[encoded data removed]",
      "text/plain": [
       "<Figure size 432x288 with 1 Axes>"
      ]
     },
     "metadata": {
      "needs_background": "light"
     },
     "output_type": "display_data"
    }
   ],
   "source": [
    "data.Ranking.hist(bins=100)"
   ]
  },
  {
   "cell_type": "code",
   "execution_count": 23,
   "metadata": {},
   "outputs": [
    {
     "data": {
      "text/html": [
       "<div>\n",
       "<style scoped>\n",
       "    .dataframe tbody tr th:only-of-type {\n",
       "        vertical-align: middle;\n",
       "    }\n",
       "\n",
       "    .dataframe tbody tr th {\n",
       "        vertical-align: top;\n",
       "    }\n",
       "\n",
       "    .dataframe thead th {\n",
       "        text-align: right;\n",
       "    }\n",
       "</style>\n",
       "<table border=\"1\" class=\"dataframe\">\n",
       "  <thead>\n",
       "    <tr style=\"text-align: right;\">\n",
       "      <th></th>\n",
       "      <th>Ranking</th>\n",
       "      <th>Rating</th>\n",
       "      <th>mean</th>\n",
       "      <th>count</th>\n",
       "    </tr>\n",
       "  </thead>\n",
       "  <tbody>\n",
       "    <tr>\n",
       "      <th>0</th>\n",
       "      <td>18.0</td>\n",
       "      <td>4.5</td>\n",
       "      <td>4.5</td>\n",
       "      <td>14</td>\n",
       "    </tr>\n",
       "    <tr>\n",
       "      <th>1</th>\n",
       "      <td>80.0</td>\n",
       "      <td>4.5</td>\n",
       "      <td>4.5</td>\n",
       "      <td>14</td>\n",
       "    </tr>\n",
       "    <tr>\n",
       "      <th>2</th>\n",
       "      <td>365.0</td>\n",
       "      <td>4.5</td>\n",
       "      <td>4.5</td>\n",
       "      <td>13</td>\n",
       "    </tr>\n",
       "    <tr>\n",
       "      <th>3</th>\n",
       "      <td>37.0</td>\n",
       "      <td>4.5</td>\n",
       "      <td>4.5</td>\n",
       "      <td>13</td>\n",
       "    </tr>\n",
       "    <tr>\n",
       "      <th>4</th>\n",
       "      <td>13.0</td>\n",
       "      <td>4.5</td>\n",
       "      <td>4.5</td>\n",
       "      <td>13</td>\n",
       "    </tr>\n",
       "    <tr>\n",
       "      <th>...</th>\n",
       "      <td>...</td>\n",
       "      <td>...</td>\n",
       "      <td>...</td>\n",
       "      <td>...</td>\n",
       "    </tr>\n",
       "    <tr>\n",
       "      <th>30078</th>\n",
       "      <td>899.0</td>\n",
       "      <td>3.5</td>\n",
       "      <td>3.5</td>\n",
       "      <td>1</td>\n",
       "    </tr>\n",
       "    <tr>\n",
       "      <th>30079</th>\n",
       "      <td>4172.0</td>\n",
       "      <td>4.0</td>\n",
       "      <td>4.0</td>\n",
       "      <td>1</td>\n",
       "    </tr>\n",
       "    <tr>\n",
       "      <th>30080</th>\n",
       "      <td>4171.0</td>\n",
       "      <td>4.0</td>\n",
       "      <td>4.0</td>\n",
       "      <td>1</td>\n",
       "    </tr>\n",
       "    <tr>\n",
       "      <th>30081</th>\n",
       "      <td>4170.0</td>\n",
       "      <td>5.0</td>\n",
       "      <td>5.0</td>\n",
       "      <td>1</td>\n",
       "    </tr>\n",
       "    <tr>\n",
       "      <th>30082</th>\n",
       "      <td>16444.0</td>\n",
       "      <td>1.0</td>\n",
       "      <td>1.0</td>\n",
       "      <td>1</td>\n",
       "    </tr>\n",
       "  </tbody>\n",
       "</table>\n",
       "<p>30083 rows × 4 columns</p>\n",
       "</div>"
      ],
      "text/plain": [
       "       Ranking  Rating  mean  count\n",
       "0         18.0     4.5   4.5     14\n",
       "1         80.0     4.5   4.5     14\n",
       "2        365.0     4.5   4.5     13\n",
       "3         37.0     4.5   4.5     13\n",
       "4         13.0     4.5   4.5     13\n",
       "...        ...     ...   ...    ...\n",
       "30078    899.0     3.5   3.5      1\n",
       "30079   4172.0     4.0   4.0      1\n",
       "30080   4171.0     4.0   4.0      1\n",
       "30081   4170.0     5.0   5.0      1\n",
       "30082  16444.0     1.0   1.0      1\n",
       "\n",
       "[30083 rows x 4 columns]"
      ]
     },
     "execution_count": 23,
     "metadata": {},
     "output_type": "execute_result"
    }
   ],
   "source": [
    "mean_Rating_by_Ranking = data.groupby(['Ranking','Rating'])['Rating']\\\n",
    "                                    .agg(['mean', 'count'])\\\n",
    "                                    .sort_values(by = 'count', ascending=False)\\\n",
    "                                    .reset_index()\n",
    "mean_Rating_by_Ranking"
   ]
  },
  {
   "cell_type": "code",
   "execution_count": 24,
   "metadata": {},
   "outputs": [
    {
     "data": {
      "text/plain": [
       "Text(0, 0.5, 'Ranking')"
      ]
     },
     "execution_count": 24,
     "metadata": {},
     "output_type": "execute_result"
    },
    {
     "data": {
      "image/png": "[encoded data removed]",
      "text/plain": [
       "<Figure size 432x288 with 1 Axes>"
      ]
     },
     "metadata": {
      "needs_background": "light"
     },
     "output_type": "display_data"
    }
   ],
   "source": [
    "\n",
    "# build boxplot to see the number of cuisines distribution in each rating score\n",
    "fig = plt.figure()\n",
    "axes = fig.add_axes([0, 0, 1, 1])\n",
    "axes.set_ylim(data.Ranking.min(),data.Ranking.max())\n",
    "sns.boxplot(x = data[data['sample']==1]['Rating'], y = data[data['sample']==1]['Ranking'])\n",
    "# Добавим поясняющие подписи\n",
    "axes.set_xlabel('Rating')\n",
    "axes.set_ylabel('Ranking')"
   ]
  },
  {
   "cell_type": "markdown",
   "metadata": {},
   "source": [
    "the boxplot shows the negative correlatino between Rating and Ranking. High Ranking has lower Rating. Moreover bad Rating has biger Ranking IQR "
   ]
  },
  {
   "cell_type": "code",
   "execution_count": 25,
   "metadata": {},
   "outputs": [
    {
     "data": {
      "text/plain": [
       "-0.3683714866125338"
      ]
     },
     "execution_count": 25,
     "metadata": {},
     "output_type": "execute_result"
    }
   ],
   "source": [
    "#Check the Pearsons correlation\n",
    "data[data['sample']==1].Ranking.corr(data[data['sample']==1].Rating)"
   ]
  },
  {
   "cell_type": "markdown",
   "metadata": {},
   "source": [
    "Indeed there is a negative correlatinb between Rating and Ranking. Check the Number of outliers and clean the data set.Let's see the Ranking distribution by City"
   ]
  },
  {
   "cell_type": "code",
   "execution_count": 26,
   "metadata": {},
   "outputs": [
    {
     "data": {
      "text/plain": [
       "<matplotlib.axes._subplots.AxesSubplot at 0x7f59348f02e8>"
      ]
     },
     "execution_count": 26,
     "metadata": {},
     "output_type": "execute_result"
    },
    {
     "data": {
      "image/png": "[encoded data removed]",
      "text/plain": [
       "<Figure size 432x288 with 1 Axes>"
      ]
     },
     "metadata": {
      "needs_background": "light"
     },
     "output_type": "display_data"
    }
   ],
   "source": [
    "#show City distribution\n",
    "df_train['City'].value_counts(ascending=True).plot(kind='barh')"
   ]
  },
  {
   "cell_type": "markdown",
   "metadata": {},
   "source": [
    "as we can see there highert number of restaurants is located in London. Let's check the Ranking distribution in London"
   ]
  },
  {
   "cell_type": "code",
   "execution_count": 27,
   "metadata": {},
   "outputs": [
    {
     "data": {
      "text/plain": [
       "<matplotlib.axes._subplots.AxesSubplot at 0x7f5948a1d390>"
      ]
     },
     "execution_count": 27,
     "metadata": {},
     "output_type": "execute_result"
    },
    {
     "data": {
      "image/png": "[encoded data removed]",
      "text/plain": [
       "<Figure size 432x288 with 1 Axes>"
      ]
     },
     "metadata": {
      "needs_background": "light"
     },
     "output_type": "display_data"
    }
   ],
   "source": [
    "df_train['Ranking'][df_train['City'] =='London'].hist(bins=100)"
   ]
  },
  {
   "cell_type": "code",
   "execution_count": 28,
   "metadata": {},
   "outputs": [
    {
     "data": {
      "image/png": "[encoded data removed]",
      "text/plain": [
       "<Figure size 432x288 with 1 Axes>"
      ]
     },
     "metadata": {
      "needs_background": "light"
     },
     "output_type": "display_data"
    }
   ],
   "source": [
    "#check rankong distribution for 10 biggest cities\n",
    "for x in (df_train['City'].value_counts())[0:10].index:\n",
    "    df_train['Ranking'][df_train['City'] == x].hist(bins=100)\n",
    "plt.show()"
   ]
  },
  {
   "cell_type": "code",
   "execution_count": 29,
   "metadata": {},
   "outputs": [
    {
     "data": {
      "image/png": "[encoded data removed]",
      "text/plain": [
       "<Figure size 432x288 with 1 Axes>"
      ]
     },
     "metadata": {
      "needs_background": "light"
     },
     "output_type": "display_data"
    }
   ],
   "source": [
    "\n",
    "for x in (df_train['City'].value_counts())[-10:].index:\n",
    "    df_train['Ranking'][df_train['City'] == x].hist(bins=100)\n",
    "plt.show()"
   ]
  },
  {
   "cell_type": "markdown",
   "metadata": {},
   "source": [
    "it look like the Ranking distribution depends on City size/population. We will created later new feature based on this insights"
   ]
  },
  {
   "cell_type": "code",
   "execution_count": 30,
   "metadata": {},
   "outputs": [
    {
     "name": "stdout",
     "output_type": "stream",
     "text": [
      "perc 25% is: 972.0\n",
      "perc 75% is: 5241.0\n",
      "perc IQR is: 4269.0\n",
      "outliers are: 11644.5 +\n",
      "outliers are: -5431.5 -\n",
      "outliers makes:  3075  it makes  0.0615  % of the data\n"
     ]
    }
   ],
   "source": [
    "#Claculate outliers\n",
    "qntl_25 = data.Ranking.quantile(0.25)\n",
    "print('perc 25% is:', qntl_25)\n",
    "qntl_75 = data.Ranking.quantile(0.75)\n",
    "print('perc 75% is:', qntl_75)\n",
    "iqr = qntl_75 - qntl_25\n",
    "print('perc IQR is:', iqr)\n",
    "\n",
    "out_75plus = qntl_75 + 1.5 * iqr\n",
    "print('outliers are:', out_75plus, '+')\n",
    "\n",
    "out_25minus = qntl_25 - 1.5 * iqr\n",
    "print('outliers are:', out_25minus, '-')\n",
    "\n",
    "\n",
    "print('outliers makes: ',len(data[data['Ranking']>out_75plus]),' it makes ', \\\n",
    "      len(data[data['Ranking']>out_75plus])/len(data['Ranking']), ' % of the data')"
   ]
  },
  {
   "cell_type": "markdown",
   "metadata": {},
   "source": [
    "What about city and cuisine style? Are there correlations between Ranking and these two variables?\n",
    "Let's check it"
   ]
  },
  {
   "cell_type": "markdown",
   "metadata": {},
   "source": [
    "## 4. City\n",
    "### 4.1 City by Ranking\n",
    "\n",
    "we saw the city distribution want to check the Ranking based on City poppulation"
   ]
  },
  {
   "cell_type": "code",
   "execution_count": 31,
   "metadata": {},
   "outputs": [
    {
     "name": "stdout",
     "output_type": "stream",
     "text": [
      "['Paris' 'Helsinki' 'Edinburgh' 'London' 'Bratislava' 'Lisbon' 'Budapest'\n",
      " 'Stockholm' 'Rome' 'Milan' 'Munich' 'Hamburg' 'Prague' 'Vienna' 'Dublin'\n",
      " 'Barcelona' 'Brussels' 'Madrid' 'Oslo' 'Amsterdam' 'Berlin' 'Lyon'\n",
      " 'Athens' 'Warsaw' 'Oporto' 'Krakow' 'Copenhagen' 'Luxembourg' 'Zurich'\n",
      " 'Geneva' 'Ljubljana']\n",
      "number of empty values in City:  0\n",
      "number of unique values in City  31\n"
     ]
    }
   ],
   "source": [
    "#check  city names orthography, NaN's and number of unique values\n",
    "print(data.City.unique())\n",
    "print('number of empty values in City: ', data.City.isnull().sum())\n",
    "print('number of unique values in City ', len(data.City.unique()))"
   ]
  },
  {
   "cell_type": "code",
   "execution_count": 32,
   "metadata": {},
   "outputs": [
    {
     "name": "stdout",
     "output_type": "stream",
     "text": [
      "min 3.03 and max 3.42\n"
     ]
    }
   ],
   "source": [
    "#mean Rating by City\n",
    "city_rating_mean = pd.DataFrame(data.groupby(by='City')['Rating'].agg(['mean']).reset_index())\n",
    "print('min', round(city_rating_mean['mean'].min(),2), 'and max', round(city_rating_mean['mean'].max(),2))"
   ]
  },
  {
   "cell_type": "markdown",
   "metadata": {},
   "source": [
    "range between average rating by city is not big. All cities have the avergae rating by between 3.03 and 3.42\n",
    "What about average ranking by city? Let's check it:"
   ]
  },
  {
   "cell_type": "code",
   "execution_count": 33,
   "metadata": {},
   "outputs": [
    {
     "data": {
      "text/plain": [
       "Text(0, 0.5, 'Rating')"
      ]
     },
     "execution_count": 33,
     "metadata": {},
     "output_type": "execute_result"
    },
    {
     "data": {
      "image/png": "[encoded data removed]",
      "text/plain": [
       "<Figure size 432x288 with 1 Axes>"
      ]
     },
     "metadata": {
      "needs_background": "light"
     },
     "output_type": "display_data"
    }
   ],
   "source": [
    "# build look for Ranking distribution in Cities with boxplot \n",
    "fig = plt.figure()\n",
    "axes = fig.add_axes([0, 0, 1, 1])\n",
    "axes.set_ylim(data.Ranking.min(),(data.Ranking.max()+0.5))\n",
    "sns.boxplot(x = data['City'], y = data['Ranking'])\n",
    "# Добавим поясняющие подписи\n",
    "axes.set_xlabel('City')\n",
    "axes.set_ylabel('Rating')"
   ]
  },
  {
   "cell_type": "markdown",
   "metadata": {},
   "source": [
    "we can buils cluster based on city and ranking"
   ]
  },
  {
   "cell_type": "code",
   "execution_count": 34,
   "metadata": {},
   "outputs": [
    {
     "data": {
      "text/html": [
       "<div>\n",
       "<style scoped>\n",
       "    .dataframe tbody tr th:only-of-type {\n",
       "        vertical-align: middle;\n",
       "    }\n",
       "\n",
       "    .dataframe tbody tr th {\n",
       "        vertical-align: top;\n",
       "    }\n",
       "\n",
       "    .dataframe thead th {\n",
       "        text-align: right;\n",
       "    }\n",
       "</style>\n",
       "<table border=\"1\" class=\"dataframe\">\n",
       "  <thead>\n",
       "    <tr style=\"text-align: right;\">\n",
       "      <th></th>\n",
       "      <th>City</th>\n",
       "      <th>mean</th>\n",
       "      <th>count</th>\n",
       "      <th>min</th>\n",
       "      <th>max</th>\n",
       "      <th>median</th>\n",
       "    </tr>\n",
       "  </thead>\n",
       "  <tbody>\n",
       "    <tr>\n",
       "      <th>0</th>\n",
       "      <td>London</td>\n",
       "      <td>8169.707354</td>\n",
       "      <td>7193</td>\n",
       "      <td>1.0</td>\n",
       "      <td>16444.0</td>\n",
       "      <td>8092.0</td>\n",
       "    </tr>\n",
       "    <tr>\n",
       "      <th>1</th>\n",
       "      <td>Paris</td>\n",
       "      <td>6938.557138</td>\n",
       "      <td>6108</td>\n",
       "      <td>3.0</td>\n",
       "      <td>13986.0</td>\n",
       "      <td>6860.5</td>\n",
       "    </tr>\n",
       "    <tr>\n",
       "      <th>2</th>\n",
       "      <td>Madrid</td>\n",
       "      <td>4388.516391</td>\n",
       "      <td>3813</td>\n",
       "      <td>1.0</td>\n",
       "      <td>8809.0</td>\n",
       "      <td>4363.0</td>\n",
       "    </tr>\n",
       "    <tr>\n",
       "      <th>3</th>\n",
       "      <td>Barcelona</td>\n",
       "      <td>3879.422680</td>\n",
       "      <td>3395</td>\n",
       "      <td>5.0</td>\n",
       "      <td>7796.0</td>\n",
       "      <td>3861.0</td>\n",
       "    </tr>\n",
       "    <tr>\n",
       "      <th>4</th>\n",
       "      <td>Berlin</td>\n",
       "      <td>3255.417745</td>\n",
       "      <td>2705</td>\n",
       "      <td>2.0</td>\n",
       "      <td>6372.0</td>\n",
       "      <td>3282.0</td>\n",
       "    </tr>\n",
       "    <tr>\n",
       "      <th>5</th>\n",
       "      <td>Milan</td>\n",
       "      <td>3106.027840</td>\n",
       "      <td>2694</td>\n",
       "      <td>1.0</td>\n",
       "      <td>6275.0</td>\n",
       "      <td>3081.5</td>\n",
       "    </tr>\n",
       "    <tr>\n",
       "      <th>6</th>\n",
       "      <td>Rome</td>\n",
       "      <td>2970.733102</td>\n",
       "      <td>2589</td>\n",
       "      <td>1.0</td>\n",
       "      <td>5948.0</td>\n",
       "      <td>2972.0</td>\n",
       "    </tr>\n",
       "    <tr>\n",
       "      <th>7</th>\n",
       "      <td>Prague</td>\n",
       "      <td>2086.979626</td>\n",
       "      <td>1816</td>\n",
       "      <td>2.0</td>\n",
       "      <td>4188.0</td>\n",
       "      <td>2089.5</td>\n",
       "    </tr>\n",
       "    <tr>\n",
       "      <th>8</th>\n",
       "      <td>Lisbon</td>\n",
       "      <td>1867.330298</td>\n",
       "      <td>1647</td>\n",
       "      <td>1.0</td>\n",
       "      <td>3717.0</td>\n",
       "      <td>1901.0</td>\n",
       "    </tr>\n",
       "    <tr>\n",
       "      <th>9</th>\n",
       "      <td>Vienna</td>\n",
       "      <td>1711.275814</td>\n",
       "      <td>1443</td>\n",
       "      <td>1.0</td>\n",
       "      <td>3444.0</td>\n",
       "      <td>1701.0</td>\n",
       "    </tr>\n",
       "    <tr>\n",
       "      <th>10</th>\n",
       "      <td>Amsterdam</td>\n",
       "      <td>1591.589650</td>\n",
       "      <td>1372</td>\n",
       "      <td>1.0</td>\n",
       "      <td>3254.0</td>\n",
       "      <td>1582.5</td>\n",
       "    </tr>\n",
       "    <tr>\n",
       "      <th>11</th>\n",
       "      <td>Brussels</td>\n",
       "      <td>1541.901826</td>\n",
       "      <td>1314</td>\n",
       "      <td>3.0</td>\n",
       "      <td>3006.0</td>\n",
       "      <td>1566.0</td>\n",
       "    </tr>\n",
       "    <tr>\n",
       "      <th>12</th>\n",
       "      <td>Hamburg</td>\n",
       "      <td>1375.409781</td>\n",
       "      <td>1186</td>\n",
       "      <td>1.0</td>\n",
       "      <td>2737.0</td>\n",
       "      <td>1394.0</td>\n",
       "    </tr>\n",
       "    <tr>\n",
       "      <th>13</th>\n",
       "      <td>Munich</td>\n",
       "      <td>1370.297817</td>\n",
       "      <td>1145</td>\n",
       "      <td>3.0</td>\n",
       "      <td>2763.0</td>\n",
       "      <td>1353.0</td>\n",
       "    </tr>\n",
       "    <tr>\n",
       "      <th>14</th>\n",
       "      <td>Stockholm</td>\n",
       "      <td>1237.482091</td>\n",
       "      <td>1033</td>\n",
       "      <td>1.0</td>\n",
       "      <td>2464.0</td>\n",
       "      <td>1281.0</td>\n",
       "    </tr>\n",
       "    <tr>\n",
       "      <th>15</th>\n",
       "      <td>Lyon</td>\n",
       "      <td>1303.902309</td>\n",
       "      <td>1126</td>\n",
       "      <td>1.0</td>\n",
       "      <td>2666.0</td>\n",
       "      <td>1274.5</td>\n",
       "    </tr>\n",
       "    <tr>\n",
       "      <th>16</th>\n",
       "      <td>Budapest</td>\n",
       "      <td>1219.061704</td>\n",
       "      <td>1021</td>\n",
       "      <td>1.0</td>\n",
       "      <td>2440.0</td>\n",
       "      <td>1199.0</td>\n",
       "    </tr>\n",
       "    <tr>\n",
       "      <th>17</th>\n",
       "      <td>Warsaw</td>\n",
       "      <td>1055.193514</td>\n",
       "      <td>925</td>\n",
       "      <td>1.0</td>\n",
       "      <td>2154.0</td>\n",
       "      <td>1036.0</td>\n",
       "    </tr>\n",
       "    <tr>\n",
       "      <th>18</th>\n",
       "      <td>Copenhagen</td>\n",
       "      <td>982.147741</td>\n",
       "      <td>819</td>\n",
       "      <td>3.0</td>\n",
       "      <td>1964.0</td>\n",
       "      <td>987.0</td>\n",
       "    </tr>\n",
       "    <tr>\n",
       "      <th>19</th>\n",
       "      <td>Dublin</td>\n",
       "      <td>972.127990</td>\n",
       "      <td>836</td>\n",
       "      <td>4.0</td>\n",
       "      <td>1960.0</td>\n",
       "      <td>981.5</td>\n",
       "    </tr>\n",
       "    <tr>\n",
       "      <th>20</th>\n",
       "      <td>Edinburgh</td>\n",
       "      <td>885.130201</td>\n",
       "      <td>745</td>\n",
       "      <td>1.0</td>\n",
       "      <td>1766.0</td>\n",
       "      <td>903.0</td>\n",
       "    </tr>\n",
       "    <tr>\n",
       "      <th>21</th>\n",
       "      <td>Athens</td>\n",
       "      <td>880.213918</td>\n",
       "      <td>776</td>\n",
       "      <td>3.0</td>\n",
       "      <td>1787.0</td>\n",
       "      <td>871.5</td>\n",
       "    </tr>\n",
       "    <tr>\n",
       "      <th>22</th>\n",
       "      <td>Zurich</td>\n",
       "      <td>794.280292</td>\n",
       "      <td>685</td>\n",
       "      <td>2.0</td>\n",
       "      <td>1601.0</td>\n",
       "      <td>777.0</td>\n",
       "    </tr>\n",
       "    <tr>\n",
       "      <th>23</th>\n",
       "      <td>Oporto</td>\n",
       "      <td>752.034268</td>\n",
       "      <td>642</td>\n",
       "      <td>4.0</td>\n",
       "      <td>1484.0</td>\n",
       "      <td>758.0</td>\n",
       "    </tr>\n",
       "    <tr>\n",
       "      <th>24</th>\n",
       "      <td>Geneva</td>\n",
       "      <td>713.227119</td>\n",
       "      <td>590</td>\n",
       "      <td>3.0</td>\n",
       "      <td>1413.0</td>\n",
       "      <td>710.5</td>\n",
       "    </tr>\n",
       "    <tr>\n",
       "      <th>25</th>\n",
       "      <td>Krakow</td>\n",
       "      <td>616.267148</td>\n",
       "      <td>554</td>\n",
       "      <td>1.0</td>\n",
       "      <td>1244.0</td>\n",
       "      <td>614.0</td>\n",
       "    </tr>\n",
       "    <tr>\n",
       "      <th>26</th>\n",
       "      <td>Helsinki</td>\n",
       "      <td>564.231579</td>\n",
       "      <td>475</td>\n",
       "      <td>4.0</td>\n",
       "      <td>1141.0</td>\n",
       "      <td>564.0</td>\n",
       "    </tr>\n",
       "    <tr>\n",
       "      <th>27</th>\n",
       "      <td>Oslo</td>\n",
       "      <td>552.569672</td>\n",
       "      <td>488</td>\n",
       "      <td>1.0</td>\n",
       "      <td>1137.0</td>\n",
       "      <td>529.5</td>\n",
       "    </tr>\n",
       "    <tr>\n",
       "      <th>28</th>\n",
       "      <td>Bratislava</td>\n",
       "      <td>462.428947</td>\n",
       "      <td>380</td>\n",
       "      <td>3.0</td>\n",
       "      <td>889.0</td>\n",
       "      <td>478.5</td>\n",
       "    </tr>\n",
       "    <tr>\n",
       "      <th>29</th>\n",
       "      <td>Luxembourg</td>\n",
       "      <td>308.159696</td>\n",
       "      <td>263</td>\n",
       "      <td>2.0</td>\n",
       "      <td>621.0</td>\n",
       "      <td>314.0</td>\n",
       "    </tr>\n",
       "    <tr>\n",
       "      <th>30</th>\n",
       "      <td>Ljubljana</td>\n",
       "      <td>234.509009</td>\n",
       "      <td>222</td>\n",
       "      <td>3.0</td>\n",
       "      <td>468.0</td>\n",
       "      <td>230.5</td>\n",
       "    </tr>\n",
       "  </tbody>\n",
       "</table>\n",
       "</div>"
      ],
      "text/plain": [
       "          City         mean  count  min      max  median\n",
       "0       London  8169.707354   7193  1.0  16444.0  8092.0\n",
       "1        Paris  6938.557138   6108  3.0  13986.0  6860.5\n",
       "2       Madrid  4388.516391   3813  1.0   8809.0  4363.0\n",
       "3    Barcelona  3879.422680   3395  5.0   7796.0  3861.0\n",
       "4       Berlin  3255.417745   2705  2.0   6372.0  3282.0\n",
       "5        Milan  3106.027840   2694  1.0   6275.0  3081.5\n",
       "6         Rome  2970.733102   2589  1.0   5948.0  2972.0\n",
       "7       Prague  2086.979626   1816  2.0   4188.0  2089.5\n",
       "8       Lisbon  1867.330298   1647  1.0   3717.0  1901.0\n",
       "9       Vienna  1711.275814   1443  1.0   3444.0  1701.0\n",
       "10   Amsterdam  1591.589650   1372  1.0   3254.0  1582.5\n",
       "11    Brussels  1541.901826   1314  3.0   3006.0  1566.0\n",
       "12     Hamburg  1375.409781   1186  1.0   2737.0  1394.0\n",
       "13      Munich  1370.297817   1145  3.0   2763.0  1353.0\n",
       "14   Stockholm  1237.482091   1033  1.0   2464.0  1281.0\n",
       "15        Lyon  1303.902309   1126  1.0   2666.0  1274.5\n",
       "16    Budapest  1219.061704   1021  1.0   2440.0  1199.0\n",
       "17      Warsaw  1055.193514    925  1.0   2154.0  1036.0\n",
       "18  Copenhagen   982.147741    819  3.0   1964.0   987.0\n",
       "19      Dublin   972.127990    836  4.0   1960.0   981.5\n",
       "20   Edinburgh   885.130201    745  1.0   1766.0   903.0\n",
       "21      Athens   880.213918    776  3.0   1787.0   871.5\n",
       "22      Zurich   794.280292    685  2.0   1601.0   777.0\n",
       "23      Oporto   752.034268    642  4.0   1484.0   758.0\n",
       "24      Geneva   713.227119    590  3.0   1413.0   710.5\n",
       "25      Krakow   616.267148    554  1.0   1244.0   614.0\n",
       "26    Helsinki   564.231579    475  4.0   1141.0   564.0\n",
       "27        Oslo   552.569672    488  1.0   1137.0   529.5\n",
       "28  Bratislava   462.428947    380  3.0    889.0   478.5\n",
       "29  Luxembourg   308.159696    263  2.0    621.0   314.0\n",
       "30   Ljubljana   234.509009    222  3.0    468.0   230.5"
      ]
     },
     "execution_count": 34,
     "metadata": {},
     "output_type": "execute_result"
    }
   ],
   "source": [
    "city_ranking = data.groupby(['City'])['Ranking'].agg(['mean', 'count', 'min', 'max', 'median']).sort_values(by='median', ascending=False).reset_index()\n",
    "city_ranking"
   ]
  },
  {
   "cell_type": "markdown",
   "metadata": {},
   "source": [
    "create clusters based on median\n",
    "- cities with Ranking > 2.000\n",
    "- cities with ranking between 1.000 - 2.000\n",
    "- cities with rnaking between 600 - 1.000\n",
    "- cities with ranking < 600"
   ]
  },
  {
   "cell_type": "code",
   "execution_count": 35,
   "metadata": {},
   "outputs": [],
   "source": [
    "#function to recode cites\n",
    "def rec_city_by_rank(row):\n",
    "    if row['Ranking'] > 2000:\n",
    "        return 4\n",
    "    elif (row['Ranking'] > 1000) & (row['Ranking'] < 2001):\n",
    "        return 3\n",
    "    elif (row['Ranking'] > 600) & (row['Ranking'] < 1001):\n",
    "        return 2\n",
    "    else: return 1  "
   ]
  },
  {
   "cell_type": "code",
   "execution_count": 36,
   "metadata": {},
   "outputs": [],
   "source": [
    "data['CityByRanking'] = data.apply(rec_city_by_rank, axis=1)"
   ]
  },
  {
   "cell_type": "code",
   "execution_count": 37,
   "metadata": {},
   "outputs": [
    {
     "data": {
      "text/plain": [
       "0.6286594551898328"
      ]
     },
     "execution_count": 37,
     "metadata": {},
     "output_type": "execute_result"
    }
   ],
   "source": [
    "data.CityByRanking.corr(data.Ranking)"
   ]
  },
  {
   "cell_type": "markdown",
   "metadata": {},
   "source": [
    "### 4.2 City by Country\n",
    "maybe be there are some interesting dpendencies between cuisine style and country"
   ]
  },
  {
   "cell_type": "code",
   "execution_count": 38,
   "metadata": {},
   "outputs": [],
   "source": [
    "\n",
    "countries_dict = {'London' : 'England', 'Paris' : 'France', 'Madrid' : 'Spain', \n",
    "                  'Barcelona' : 'Spain', 'Berlin' : 'Germany', 'Milan' : 'Italy', \n",
    "                  'Rome' : 'Italy', 'Prague' : 'Czech', 'Lisbon' : 'Portugal', \n",
    "                  'Vienna' : 'Austria', 'Amsterdam' : 'Holland', \n",
    "                  'Brussels' : 'Belgium', 'Hamburg' : 'Germany', 'Munich' : 'Germany', \n",
    "                  'Lyon' : 'France', 'Stockholm' : 'Sweden', 'Budapest' : 'Romania', \n",
    "                  'Warsaw' : 'Poland', 'Dublin' : 'Ireland', 'Copenhagen' : 'Denmark', \n",
    "                  'Athens' : 'Greece', 'Edinburgh' : 'Scotland', 'Zurich' : 'Switzerland', \n",
    "                  'Oporto' : 'Portugal', 'Geneva' : 'Switzerland', 'Krakow' : 'Poland', \n",
    "                  'Oslo' : 'Norway', 'Helsinki' : 'Finland', 'Bratislava' : 'Slovakia', \n",
    "                  'Luxembourg' : 'Luxembourg_country', 'Ljubljana' : 'Slovenia'}\n",
    "data['Сountry'] = data.apply(lambda row: countries_dict[row['City']], axis = 1)\n"
   ]
  },
  {
   "cell_type": "code",
   "execution_count": 39,
   "metadata": {},
   "outputs": [],
   "source": [
    "country = data.groupby(['Сountry', 'City'])['Ranking'].median().reset_index()"
   ]
  },
  {
   "cell_type": "markdown",
   "metadata": {},
   "source": [
    "### 4.3 City Population"
   ]
  },
  {
   "cell_type": "code",
   "execution_count": 40,
   "metadata": {},
   "outputs": [
    {
     "data": {
      "text/html": [
       "<div>\n",
       "<style scoped>\n",
       "    .dataframe tbody tr th:only-of-type {\n",
       "        vertical-align: middle;\n",
       "    }\n",
       "\n",
       "    .dataframe tbody tr th {\n",
       "        vertical-align: top;\n",
       "    }\n",
       "\n",
       "    .dataframe thead th {\n",
       "        text-align: right;\n",
       "    }\n",
       "</style>\n",
       "<table border=\"1\" class=\"dataframe\">\n",
       "  <thead>\n",
       "    <tr style=\"text-align: right;\">\n",
       "      <th></th>\n",
       "      <th>Restaurant_id</th>\n",
       "      <th>City</th>\n",
       "      <th>CuisineStyle</th>\n",
       "      <th>Ranking</th>\n",
       "      <th>PriceRange</th>\n",
       "      <th>NumberofReviews</th>\n",
       "      <th>Reviews</th>\n",
       "      <th>URL_TA</th>\n",
       "      <th>ID_TA</th>\n",
       "      <th>sample</th>\n",
       "      <th>Rating</th>\n",
       "      <th>CityByRanking</th>\n",
       "      <th>Сountry</th>\n",
       "      <th>СityPopulation</th>\n",
       "    </tr>\n",
       "  </thead>\n",
       "  <tbody>\n",
       "    <tr>\n",
       "      <th>0</th>\n",
       "      <td>id_0</td>\n",
       "      <td>Paris</td>\n",
       "      <td>['Bar', 'Pub']</td>\n",
       "      <td>12963.0</td>\n",
       "      <td>$$ - $$$</td>\n",
       "      <td>4.0</td>\n",
       "      <td>[[], []]</td>\n",
       "      <td>/Restaurant_Review-g187147-d10746918-Reviews-L...</td>\n",
       "      <td>d10746918</td>\n",
       "      <td>0</td>\n",
       "      <td>0.0</td>\n",
       "      <td>4</td>\n",
       "      <td>France</td>\n",
       "      <td>12278</td>\n",
       "    </tr>\n",
       "    <tr>\n",
       "      <th>1</th>\n",
       "      <td>id_1</td>\n",
       "      <td>Helsinki</td>\n",
       "      <td>['European', 'Scandinavian', 'Gluten Free Opti...</td>\n",
       "      <td>106.0</td>\n",
       "      <td>$$ - $$$</td>\n",
       "      <td>97.0</td>\n",
       "      <td>[['Very good reviews!', 'Fine dining in Hakani...</td>\n",
       "      <td>/Restaurant_Review-g189934-d6674944-Reviews-Ra...</td>\n",
       "      <td>d6674944</td>\n",
       "      <td>0</td>\n",
       "      <td>0.0</td>\n",
       "      <td>1</td>\n",
       "      <td>Finland</td>\n",
       "      <td>1305</td>\n",
       "    </tr>\n",
       "    <tr>\n",
       "      <th>2</th>\n",
       "      <td>id_2</td>\n",
       "      <td>Edinburgh</td>\n",
       "      <td>['Vegetarian Friendly']</td>\n",
       "      <td>810.0</td>\n",
       "      <td>$$ - $$$</td>\n",
       "      <td>28.0</td>\n",
       "      <td>[['Better than the Links', 'Ivy Black'], ['12/...</td>\n",
       "      <td>/Restaurant_Review-g186525-d13129638-Reviews-B...</td>\n",
       "      <td>d13129638</td>\n",
       "      <td>0</td>\n",
       "      <td>0.0</td>\n",
       "      <td>2</td>\n",
       "      <td>Scotland</td>\n",
       "      <td>537</td>\n",
       "    </tr>\n",
       "    <tr>\n",
       "      <th>3</th>\n",
       "      <td>id_3</td>\n",
       "      <td>London</td>\n",
       "      <td>['Italian', 'Mediterranean', 'European', 'Vege...</td>\n",
       "      <td>1669.0</td>\n",
       "      <td>$$$$</td>\n",
       "      <td>202.0</td>\n",
       "      <td>[['Most exquisite', 'Delicious and authentic']...</td>\n",
       "      <td>/Restaurant_Review-g186338-d680417-Reviews-Qui...</td>\n",
       "      <td>d680417</td>\n",
       "      <td>0</td>\n",
       "      <td>0.0</td>\n",
       "      <td>3</td>\n",
       "      <td>England</td>\n",
       "      <td>9304</td>\n",
       "    </tr>\n",
       "    <tr>\n",
       "      <th>4</th>\n",
       "      <td>id_4</td>\n",
       "      <td>Bratislava</td>\n",
       "      <td>['Italian', 'Mediterranean', 'European', 'Seaf...</td>\n",
       "      <td>37.0</td>\n",
       "      <td>$$$$</td>\n",
       "      <td>162.0</td>\n",
       "      <td>[['Always the best in bratislava', 'Very good ...</td>\n",
       "      <td>/Restaurant_Review-g274924-d1112354-Reviews-Ma...</td>\n",
       "      <td>d1112354</td>\n",
       "      <td>0</td>\n",
       "      <td>0.0</td>\n",
       "      <td>1</td>\n",
       "      <td>Slovakia</td>\n",
       "      <td>435</td>\n",
       "    </tr>\n",
       "    <tr>\n",
       "      <th>...</th>\n",
       "      <td>...</td>\n",
       "      <td>...</td>\n",
       "      <td>...</td>\n",
       "      <td>...</td>\n",
       "      <td>...</td>\n",
       "      <td>...</td>\n",
       "      <td>...</td>\n",
       "      <td>...</td>\n",
       "      <td>...</td>\n",
       "      <td>...</td>\n",
       "      <td>...</td>\n",
       "      <td>...</td>\n",
       "      <td>...</td>\n",
       "      <td>...</td>\n",
       "    </tr>\n",
       "    <tr>\n",
       "      <th>49995</th>\n",
       "      <td>id_499</td>\n",
       "      <td>Milan</td>\n",
       "      <td>['Italian', 'Vegetarian Friendly', 'Vegan Opti...</td>\n",
       "      <td>500.0</td>\n",
       "      <td>$$ - $$$</td>\n",
       "      <td>79.0</td>\n",
       "      <td>[['The real Italian experience!', 'Wonderful f...</td>\n",
       "      <td>/Restaurant_Review-g187849-d2104414-Reviews-Ro...</td>\n",
       "      <td>d2104414</td>\n",
       "      <td>1</td>\n",
       "      <td>4.5</td>\n",
       "      <td>1</td>\n",
       "      <td>Italy</td>\n",
       "      <td>3140</td>\n",
       "    </tr>\n",
       "    <tr>\n",
       "      <th>49996</th>\n",
       "      <td>id_6340</td>\n",
       "      <td>Paris</td>\n",
       "      <td>['French', 'American', 'Bar', 'European', 'Veg...</td>\n",
       "      <td>6341.0</td>\n",
       "      <td>$$ - $$$</td>\n",
       "      <td>542.0</td>\n",
       "      <td>[['Parisian atmosphere', 'Bit pricey but inter...</td>\n",
       "      <td>/Restaurant_Review-g187147-d1800036-Reviews-La...</td>\n",
       "      <td>d1800036</td>\n",
       "      <td>1</td>\n",
       "      <td>3.5</td>\n",
       "      <td>4</td>\n",
       "      <td>France</td>\n",
       "      <td>12278</td>\n",
       "    </tr>\n",
       "    <tr>\n",
       "      <th>49997</th>\n",
       "      <td>id_1649</td>\n",
       "      <td>Stockholm</td>\n",
       "      <td>['Japanese', 'Sushi']</td>\n",
       "      <td>1652.0</td>\n",
       "      <td>NaN</td>\n",
       "      <td>4.0</td>\n",
       "      <td>[['Good by swedish standards', 'A hidden jewel...</td>\n",
       "      <td>/Restaurant_Review-g189852-d947615-Reviews-Sus...</td>\n",
       "      <td>d947615</td>\n",
       "      <td>1</td>\n",
       "      <td>4.5</td>\n",
       "      <td>3</td>\n",
       "      <td>Sweden</td>\n",
       "      <td>1633</td>\n",
       "    </tr>\n",
       "    <tr>\n",
       "      <th>49998</th>\n",
       "      <td>id_640</td>\n",
       "      <td>Warsaw</td>\n",
       "      <td>['Polish', 'European', 'Eastern European', 'Ce...</td>\n",
       "      <td>641.0</td>\n",
       "      <td>$$ - $$$</td>\n",
       "      <td>70.0</td>\n",
       "      <td>[['Underground restaurant', 'Oldest Restaurant...</td>\n",
       "      <td>/Restaurant_Review-g274856-d1100838-Reviews-Ho...</td>\n",
       "      <td>d1100838</td>\n",
       "      <td>1</td>\n",
       "      <td>4.0</td>\n",
       "      <td>2</td>\n",
       "      <td>Poland</td>\n",
       "      <td>1783</td>\n",
       "    </tr>\n",
       "    <tr>\n",
       "      <th>49999</th>\n",
       "      <td>id_4824</td>\n",
       "      <td>Milan</td>\n",
       "      <td>['Spanish']</td>\n",
       "      <td>4827.0</td>\n",
       "      <td>$$ - $$$</td>\n",
       "      <td>260.0</td>\n",
       "      <td>[['Average', 'Nice an informal'], ['01/31/2016...</td>\n",
       "      <td>/Restaurant_Review-g187849-d1109020-Reviews-Ta...</td>\n",
       "      <td>d1109020</td>\n",
       "      <td>1</td>\n",
       "      <td>3.0</td>\n",
       "      <td>4</td>\n",
       "      <td>Italy</td>\n",
       "      <td>3140</td>\n",
       "    </tr>\n",
       "  </tbody>\n",
       "</table>\n",
       "<p>50000 rows × 14 columns</p>\n",
       "</div>"
      ],
      "text/plain": [
       "      Restaurant_id        City  \\\n",
       "0              id_0       Paris   \n",
       "1              id_1    Helsinki   \n",
       "2              id_2   Edinburgh   \n",
       "3              id_3      London   \n",
       "4              id_4  Bratislava   \n",
       "...             ...         ...   \n",
       "49995        id_499       Milan   \n",
       "49996       id_6340       Paris   \n",
       "49997       id_1649   Stockholm   \n",
       "49998        id_640      Warsaw   \n",
       "49999       id_4824       Milan   \n",
       "\n",
       "                                            CuisineStyle  Ranking PriceRange  \\\n",
       "0                                         ['Bar', 'Pub']  12963.0   $$ - $$$   \n",
       "1      ['European', 'Scandinavian', 'Gluten Free Opti...    106.0   $$ - $$$   \n",
       "2                                ['Vegetarian Friendly']    810.0   $$ - $$$   \n",
       "3      ['Italian', 'Mediterranean', 'European', 'Vege...   1669.0       $$$$   \n",
       "4      ['Italian', 'Mediterranean', 'European', 'Seaf...     37.0       $$$$   \n",
       "...                                                  ...      ...        ...   \n",
       "49995  ['Italian', 'Vegetarian Friendly', 'Vegan Opti...    500.0   $$ - $$$   \n",
       "49996  ['French', 'American', 'Bar', 'European', 'Veg...   6341.0   $$ - $$$   \n",
       "49997                              ['Japanese', 'Sushi']   1652.0        NaN   \n",
       "49998  ['Polish', 'European', 'Eastern European', 'Ce...    641.0   $$ - $$$   \n",
       "49999                                        ['Spanish']   4827.0   $$ - $$$   \n",
       "\n",
       "       NumberofReviews                                            Reviews  \\\n",
       "0                  4.0                                           [[], []]   \n",
       "1                 97.0  [['Very good reviews!', 'Fine dining in Hakani...   \n",
       "2                 28.0  [['Better than the Links', 'Ivy Black'], ['12/...   \n",
       "3                202.0  [['Most exquisite', 'Delicious and authentic']...   \n",
       "4                162.0  [['Always the best in bratislava', 'Very good ...   \n",
       "...                ...                                                ...   \n",
       "49995             79.0  [['The real Italian experience!', 'Wonderful f...   \n",
       "49996            542.0  [['Parisian atmosphere', 'Bit pricey but inter...   \n",
       "49997              4.0  [['Good by swedish standards', 'A hidden jewel...   \n",
       "49998             70.0  [['Underground restaurant', 'Oldest Restaurant...   \n",
       "49999            260.0  [['Average', 'Nice an informal'], ['01/31/2016...   \n",
       "\n",
       "                                                  URL_TA      ID_TA  sample  \\\n",
       "0      /Restaurant_Review-g187147-d10746918-Reviews-L...  d10746918       0   \n",
       "1      /Restaurant_Review-g189934-d6674944-Reviews-Ra...   d6674944       0   \n",
       "2      /Restaurant_Review-g186525-d13129638-Reviews-B...  d13129638       0   \n",
       "3      /Restaurant_Review-g186338-d680417-Reviews-Qui...    d680417       0   \n",
       "4      /Restaurant_Review-g274924-d1112354-Reviews-Ma...   d1112354       0   \n",
       "...                                                  ...        ...     ...   \n",
       "49995  /Restaurant_Review-g187849-d2104414-Reviews-Ro...   d2104414       1   \n",
       "49996  /Restaurant_Review-g187147-d1800036-Reviews-La...   d1800036       1   \n",
       "49997  /Restaurant_Review-g189852-d947615-Reviews-Sus...    d947615       1   \n",
       "49998  /Restaurant_Review-g274856-d1100838-Reviews-Ho...   d1100838       1   \n",
       "49999  /Restaurant_Review-g187849-d1109020-Reviews-Ta...   d1109020       1   \n",
       "\n",
       "       Rating  CityByRanking   Сountry  СityPopulation  \n",
       "0         0.0              4    France           12278  \n",
       "1         0.0              1   Finland            1305  \n",
       "2         0.0              2  Scotland             537  \n",
       "3         0.0              3   England            9304  \n",
       "4         0.0              1  Slovakia             435  \n",
       "...       ...            ...       ...             ...  \n",
       "49995     4.5              1     Italy            3140  \n",
       "49996     3.5              4    France           12278  \n",
       "49997     4.5              3    Sweden            1633  \n",
       "49998     4.0              2    Poland            1783  \n",
       "49999     3.0              4     Italy            3140  \n",
       "\n",
       "[50000 rows x 14 columns]"
      ]
     },
     "execution_count": 40,
     "metadata": {},
     "output_type": "execute_result"
    }
   ],
   "source": [
    "\n",
    "city_pop_dict= {'London' : 9304, 'Paris' : 12278, 'Madrid' : 6618, 'Barcelona' : 5586, \n",
    "                        'Berlin' : 3562, 'Milan' : 3140, 'Rome' : 4257, 'Prague' : 1306, \n",
    "                        'Lisbon' : 2957, 'Vienna' : 1930, 'Amsterdam' : 1149, 'Brussels' : 208, \n",
    "                        'Hamburg' : 1841, 'Munich' : 1538, 'Lyon' : 1719, 'Stockholm' : 1633, \n",
    "                        'Budapest' : 1768, 'Warsaw' : 1783, 'Dublin' : 1228, \n",
    "                        'Copenhagen' : 794, 'Athens' : 3153, 'Edinburgh' : 537, \n",
    "                        'Zurich' : 1395, 'Oporto' : 1313, 'Geneva' : 613, 'Krakow' : 768, \n",
    "                        'Oslo' : 697, 'Helsinki' : 1305, 'Bratislava' : 435, \n",
    "                        'Luxembourg' : 625, 'Ljubljana' : 284}\n",
    "data['СityPopulation'] = data.apply(lambda row: city_pop_dict[row['City']], axis = 1)\n",
    "data"
   ]
  },
  {
   "cell_type": "code",
   "execution_count": 41,
   "metadata": {},
   "outputs": [
    {
     "data": {
      "text/plain": [
       "-0.012919343324262346"
      ]
     },
     "execution_count": 41,
     "metadata": {},
     "output_type": "execute_result"
    }
   ],
   "source": [
    "# correlation between City Population and Ranking\n",
    "data.Rating.corr(data.СityPopulation)"
   ]
  },
  {
   "cell_type": "code",
   "execution_count": 42,
   "metadata": {},
   "outputs": [],
   "source": [
    "#we can create new variable Ranking by City population\n",
    "data['RankingCityPop'] = data.Ranking / data.СityPopulation\n"
   ]
  },
  {
   "cell_type": "code",
   "execution_count": 43,
   "metadata": {},
   "outputs": [
    {
     "data": {
      "text/plain": [
       "-0.24271159535565556"
      ]
     },
     "execution_count": 43,
     "metadata": {},
     "output_type": "execute_result"
    }
   ],
   "source": [
    "data[data['sample']==1].Rating.corr(data[data['sample']==1].RankingCityPop)"
   ]
  },
  {
   "cell_type": "markdown",
   "metadata": {},
   "source": [
    "that means Cities with high population have lightly  lower Ranking"
   ]
  },
  {
   "cell_type": "code",
   "execution_count": 44,
   "metadata": {},
   "outputs": [],
   "source": [
    "# create new variable based on number of restaurant in the city\n",
    "data['CityNbRest'] = data['City'].groupby(data['City']).transform('count')"
   ]
  },
  {
   "cell_type": "code",
   "execution_count": 45,
   "metadata": {},
   "outputs": [
    {
     "data": {
      "text/plain": [
       "0.7091429600996857"
      ]
     },
     "execution_count": 45,
     "metadata": {},
     "output_type": "execute_result"
    }
   ],
   "source": [
    "data[data['sample']==1].CityNbRest.corr(data[data['sample']==1].Ranking)"
   ]
  },
  {
   "cell_type": "markdown",
   "metadata": {},
   "source": [
    "there is a high correlation between Number of Cities and Ranking"
   ]
  },
  {
   "cell_type": "code",
   "execution_count": 46,
   "metadata": {},
   "outputs": [
    {
     "data": {
      "text/plain": [
       "-0.5437239598501593"
      ]
     },
     "execution_count": 46,
     "metadata": {},
     "output_type": "execute_result"
    }
   ],
   "source": [
    "#create new feature Ranking by City count\n",
    "data['RankingCityDist'] = data.Ranking / data.CityNbRest\n",
    "data[data['sample']==1].RankingCityDist.corr(data[data['sample']==1].Rating)"
   ]
  },
  {
   "cell_type": "markdown",
   "metadata": {},
   "source": [
    "### **COMMENTS:**\n",
    "\n",
    "-created new Variables based on City information:\n",
    "1. Clustered cities by anking\n",
    "2. Country - the infomation could be useful for cuisine style analysing like pizza in italy etc. \n",
    "3. City population can also have an influence on rating\n",
    "4. Ranking by city population\n",
    "5. Number of Restaurant in the City\n",
    "6. Ranking distribution by numebr of reataurant in the city "
   ]
  },
  {
   "cell_type": "markdown",
   "metadata": {},
   "source": [
    "## 5. Numebr of Reviews"
   ]
  },
  {
   "cell_type": "code",
   "execution_count": 47,
   "metadata": {},
   "outputs": [
    {
     "name": "stdout",
     "output_type": "stream",
     "text": [
      "NumberofReviews contains about :  0.064 % of empty values\n",
      "we can assume that empty for Number of reviews means \"no rating\" and set it to 0\n"
     ]
    }
   ],
   "source": [
    "# Для примера я возьму столбец Number of Reviews\n",
    "data['Number_of_Reviews_isNAN'] = pd.isna(data['NumberofReviews']).astype('uint8')\n",
    "print('NumberofReviews contains about : ', data.NumberofReviews.isna().sum()/len(data.NumberofReviews), '% of empty values')\n",
    "print('we can assume that empty for Number of reviews means \"no rating\" and set it to 0' )\n",
    "#fillna's with '0' like no Review\n",
    "data['NumberofReviews'].fillna(0, inplace=True)"
   ]
  },
  {
   "cell_type": "code",
   "execution_count": 48,
   "metadata": {},
   "outputs": [
    {
     "data": {
      "text/plain": [
       "Index(['Restaurant_id', 'City', 'CuisineStyle', 'Ranking', 'PriceRange',\n",
       "       'NumberofReviews', 'Reviews', 'URL_TA', 'ID_TA', 'sample', 'Rating',\n",
       "       'CityByRanking', 'Сountry', 'СityPopulation', 'RankingCityPop',\n",
       "       'CityNbRest', 'RankingCityDist', 'Number_of_Reviews_isNAN'],\n",
       "      dtype='object')"
      ]
     },
     "execution_count": 48,
     "metadata": {},
     "output_type": "execute_result"
    }
   ],
   "source": [
    "data.columns"
   ]
  },
  {
   "cell_type": "code",
   "execution_count": 49,
   "metadata": {},
   "outputs": [
    {
     "data": {
      "text/plain": [
       "0.022193610364020608"
      ]
     },
     "execution_count": 49,
     "metadata": {},
     "output_type": "execute_result"
    }
   ],
   "source": [
    "data[data['sample']==1].NumberofReviews.corr(data[data['sample']==1].СityPopulation)"
   ]
  },
  {
   "cell_type": "code",
   "execution_count": 50,
   "metadata": {},
   "outputs": [
    {
     "data": {
      "text/plain": [
       "-0.4078622789370417"
      ]
     },
     "execution_count": 50,
     "metadata": {},
     "output_type": "execute_result"
    }
   ],
   "source": [
    "#check the correlation between Number of reviews and Ranking dist by City\n",
    "data.NumberofReviews.corr(data.RankingCityDist)"
   ]
  },
  {
   "cell_type": "markdown",
   "metadata": {},
   "source": [
    "cities with lower population have higher numebr of reviews"
   ]
  },
  {
   "cell_type": "markdown",
   "metadata": {},
   "source": [
    "### 6. Cuisine Style "
   ]
  },
  {
   "cell_type": "code",
   "execution_count": 51,
   "metadata": {},
   "outputs": [
    {
     "data": {
      "text/plain": [
       "0                                       ['Bar', 'Pub']\n",
       "1    ['European', 'Scandinavian', 'Gluten Free Opti...\n",
       "2                              ['Vegetarian Friendly']\n",
       "3    ['Italian', 'Mediterranean', 'European', 'Vege...\n",
       "4    ['Italian', 'Mediterranean', 'European', 'Seaf...\n",
       "5                      ['French', 'Cafe', 'Fast Food']\n",
       "6                           ['European', 'Portuguese']\n",
       "7                                                  NaN\n",
       "Name: CuisineStyle, dtype: object"
      ]
     },
     "execution_count": 51,
     "metadata": {},
     "output_type": "execute_result"
    }
   ],
   "source": [
    "#take a look into CuisineStyle variable\n",
    "data['CuisineStyle'][:8][:]"
   ]
  },
  {
   "cell_type": "code",
   "execution_count": 52,
   "metadata": {},
   "outputs": [
    {
     "data": {
      "text/html": [
       "<div>\n",
       "<style scoped>\n",
       "    .dataframe tbody tr th:only-of-type {\n",
       "        vertical-align: middle;\n",
       "    }\n",
       "\n",
       "    .dataframe tbody tr th {\n",
       "        vertical-align: top;\n",
       "    }\n",
       "\n",
       "    .dataframe thead th {\n",
       "        text-align: right;\n",
       "    }\n",
       "</style>\n",
       "<table border=\"1\" class=\"dataframe\">\n",
       "  <thead>\n",
       "    <tr style=\"text-align: right;\">\n",
       "      <th></th>\n",
       "      <th>Restaurant_id</th>\n",
       "      <th>City</th>\n",
       "      <th>CuisineStyle</th>\n",
       "      <th>Ranking</th>\n",
       "      <th>PriceRange</th>\n",
       "      <th>NumberofReviews</th>\n",
       "      <th>Reviews</th>\n",
       "      <th>URL_TA</th>\n",
       "      <th>ID_TA</th>\n",
       "      <th>sample</th>\n",
       "      <th>Rating</th>\n",
       "      <th>CityByRanking</th>\n",
       "      <th>Сountry</th>\n",
       "      <th>СityPopulation</th>\n",
       "      <th>RankingCityPop</th>\n",
       "      <th>CityNbRest</th>\n",
       "      <th>RankingCityDist</th>\n",
       "      <th>Number_of_Reviews_isNAN</th>\n",
       "      <th>cuisine</th>\n",
       "    </tr>\n",
       "  </thead>\n",
       "  <tbody>\n",
       "    <tr>\n",
       "      <th>0</th>\n",
       "      <td>id_0</td>\n",
       "      <td>Paris</td>\n",
       "      <td>['Bar', 'Pub']</td>\n",
       "      <td>12963.0</td>\n",
       "      <td>$$ - $$$</td>\n",
       "      <td>4.0</td>\n",
       "      <td>[[], []]</td>\n",
       "      <td>/Restaurant_Review-g187147-d10746918-Reviews-L...</td>\n",
       "      <td>d10746918</td>\n",
       "      <td>0</td>\n",
       "      <td>0.0</td>\n",
       "      <td>4</td>\n",
       "      <td>France</td>\n",
       "      <td>12278</td>\n",
       "      <td>1.055791</td>\n",
       "      <td>6108</td>\n",
       "      <td>2.122299</td>\n",
       "      <td>0</td>\n",
       "      <td>[Bar, Pub]</td>\n",
       "    </tr>\n",
       "    <tr>\n",
       "      <th>1</th>\n",
       "      <td>id_1</td>\n",
       "      <td>Helsinki</td>\n",
       "      <td>['European', 'Scandinavian', 'Gluten Free Opti...</td>\n",
       "      <td>106.0</td>\n",
       "      <td>$$ - $$$</td>\n",
       "      <td>97.0</td>\n",
       "      <td>[['Very good reviews!', 'Fine dining in Hakani...</td>\n",
       "      <td>/Restaurant_Review-g189934-d6674944-Reviews-Ra...</td>\n",
       "      <td>d6674944</td>\n",
       "      <td>0</td>\n",
       "      <td>0.0</td>\n",
       "      <td>1</td>\n",
       "      <td>Finland</td>\n",
       "      <td>1305</td>\n",
       "      <td>0.081226</td>\n",
       "      <td>475</td>\n",
       "      <td>0.223158</td>\n",
       "      <td>0</td>\n",
       "      <td>[European, Scandinavian, GlutenFreeOptions, Ve...</td>\n",
       "    </tr>\n",
       "    <tr>\n",
       "      <th>2</th>\n",
       "      <td>id_2</td>\n",
       "      <td>Edinburgh</td>\n",
       "      <td>['Vegetarian Friendly']</td>\n",
       "      <td>810.0</td>\n",
       "      <td>$$ - $$$</td>\n",
       "      <td>28.0</td>\n",
       "      <td>[['Better than the Links', 'Ivy Black'], ['12/...</td>\n",
       "      <td>/Restaurant_Review-g186525-d13129638-Reviews-B...</td>\n",
       "      <td>d13129638</td>\n",
       "      <td>0</td>\n",
       "      <td>0.0</td>\n",
       "      <td>2</td>\n",
       "      <td>Scotland</td>\n",
       "      <td>537</td>\n",
       "      <td>1.508380</td>\n",
       "      <td>745</td>\n",
       "      <td>1.087248</td>\n",
       "      <td>0</td>\n",
       "      <td>[VegetarianFriendly]</td>\n",
       "    </tr>\n",
       "    <tr>\n",
       "      <th>3</th>\n",
       "      <td>id_3</td>\n",
       "      <td>London</td>\n",
       "      <td>['Italian', 'Mediterranean', 'European', 'Vege...</td>\n",
       "      <td>1669.0</td>\n",
       "      <td>$$$$</td>\n",
       "      <td>202.0</td>\n",
       "      <td>[['Most exquisite', 'Delicious and authentic']...</td>\n",
       "      <td>/Restaurant_Review-g186338-d680417-Reviews-Qui...</td>\n",
       "      <td>d680417</td>\n",
       "      <td>0</td>\n",
       "      <td>0.0</td>\n",
       "      <td>3</td>\n",
       "      <td>England</td>\n",
       "      <td>9304</td>\n",
       "      <td>0.179385</td>\n",
       "      <td>7193</td>\n",
       "      <td>0.232031</td>\n",
       "      <td>0</td>\n",
       "      <td>[Italian, Mediterranean, European, VegetarianF...</td>\n",
       "    </tr>\n",
       "    <tr>\n",
       "      <th>4</th>\n",
       "      <td>id_4</td>\n",
       "      <td>Bratislava</td>\n",
       "      <td>['Italian', 'Mediterranean', 'European', 'Seaf...</td>\n",
       "      <td>37.0</td>\n",
       "      <td>$$$$</td>\n",
       "      <td>162.0</td>\n",
       "      <td>[['Always the best in bratislava', 'Very good ...</td>\n",
       "      <td>/Restaurant_Review-g274924-d1112354-Reviews-Ma...</td>\n",
       "      <td>d1112354</td>\n",
       "      <td>0</td>\n",
       "      <td>0.0</td>\n",
       "      <td>1</td>\n",
       "      <td>Slovakia</td>\n",
       "      <td>435</td>\n",
       "      <td>0.085057</td>\n",
       "      <td>380</td>\n",
       "      <td>0.097368</td>\n",
       "      <td>0</td>\n",
       "      <td>[Italian, Mediterranean, European, Seafood, Ve...</td>\n",
       "    </tr>\n",
       "  </tbody>\n",
       "</table>\n",
       "</div>"
      ],
      "text/plain": [
       "  Restaurant_id        City  \\\n",
       "0          id_0       Paris   \n",
       "1          id_1    Helsinki   \n",
       "2          id_2   Edinburgh   \n",
       "3          id_3      London   \n",
       "4          id_4  Bratislava   \n",
       "\n",
       "                                        CuisineStyle  Ranking PriceRange  \\\n",
       "0                                     ['Bar', 'Pub']  12963.0   $$ - $$$   \n",
       "1  ['European', 'Scandinavian', 'Gluten Free Opti...    106.0   $$ - $$$   \n",
       "2                            ['Vegetarian Friendly']    810.0   $$ - $$$   \n",
       "3  ['Italian', 'Mediterranean', 'European', 'Vege...   1669.0       $$$$   \n",
       "4  ['Italian', 'Mediterranean', 'European', 'Seaf...     37.0       $$$$   \n",
       "\n",
       "   NumberofReviews                                            Reviews  \\\n",
       "0              4.0                                           [[], []]   \n",
       "1             97.0  [['Very good reviews!', 'Fine dining in Hakani...   \n",
       "2             28.0  [['Better than the Links', 'Ivy Black'], ['12/...   \n",
       "3            202.0  [['Most exquisite', 'Delicious and authentic']...   \n",
       "4            162.0  [['Always the best in bratislava', 'Very good ...   \n",
       "\n",
       "                                              URL_TA      ID_TA  sample  \\\n",
       "0  /Restaurant_Review-g187147-d10746918-Reviews-L...  d10746918       0   \n",
       "1  /Restaurant_Review-g189934-d6674944-Reviews-Ra...   d6674944       0   \n",
       "2  /Restaurant_Review-g186525-d13129638-Reviews-B...  d13129638       0   \n",
       "3  /Restaurant_Review-g186338-d680417-Reviews-Qui...    d680417       0   \n",
       "4  /Restaurant_Review-g274924-d1112354-Reviews-Ma...   d1112354       0   \n",
       "\n",
       "   Rating  CityByRanking   Сountry  СityPopulation  RankingCityPop  \\\n",
       "0     0.0              4    France           12278        1.055791   \n",
       "1     0.0              1   Finland            1305        0.081226   \n",
       "2     0.0              2  Scotland             537        1.508380   \n",
       "3     0.0              3   England            9304        0.179385   \n",
       "4     0.0              1  Slovakia             435        0.085057   \n",
       "\n",
       "   CityNbRest  RankingCityDist  Number_of_Reviews_isNAN  \\\n",
       "0        6108         2.122299                        0   \n",
       "1         475         0.223158                        0   \n",
       "2         745         1.087248                        0   \n",
       "3        7193         0.232031                        0   \n",
       "4         380         0.097368                        0   \n",
       "\n",
       "                                             cuisine  \n",
       "0                                         [Bar, Pub]  \n",
       "1  [European, Scandinavian, GlutenFreeOptions, Ve...  \n",
       "2                               [VegetarianFriendly]  \n",
       "3  [Italian, Mediterranean, European, VegetarianF...  \n",
       "4  [Italian, Mediterranean, European, Seafood, Ve...  "
      ]
     },
     "execution_count": 52,
     "metadata": {},
     "output_type": "execute_result"
    }
   ],
   "source": [
    "data['CuisineStyle'] = data['CuisineStyle'].fillna(\"['Else']\") #fillna with 'Else'\n",
    "cuisine_array = data['CuisineStyle'].dropna() \n",
    "cuisine_array = cuisine_array.str.slice(1,-1) # remove first and last character in string\n",
    "\n",
    "#function to remove apostrophe and expty values\n",
    "def repl(row):\n",
    "    val = row.replace(\"'\",\"\").replace(\" \",\"\") \n",
    "    return val\n",
    "\n",
    "cuisine_array = cuisine_array.apply(lambda x: repl(str(x))) \n",
    "cuisine_array = cuisine_array.apply(lambda x: x.split(\",\"))\n",
    "\n",
    "\n",
    "#create new variable 'cuisine'\n",
    "data['cuisine'] = cuisine_array\n",
    "data.head()"
   ]
  },
  {
   "cell_type": "code",
   "execution_count": 53,
   "metadata": {},
   "outputs": [
    {
     "name": "stdout",
     "output_type": "stream",
     "text": [
      "Counter({'VegetarianFriendly': 14021, 'European': 12561, 'Else': 11590, 'Mediterranean': 7820, 'Italian': 7433, 'VeganOptions': 5684, 'GlutenFreeOptions': 5185, 'Bar': 4094, 'French': 3970, 'Asian': 3786, 'Pizza': 3502, 'Spanish': 3456, 'Pub': 3058, 'Cafe': 2883, 'FastFood': 2122, 'British': 1992, 'International': 1966, 'Seafood': 1878, 'Japanese': 1860, 'CentralEuropean': 1727, 'American': 1642, 'Sushi': 1450, 'Chinese': 1446, 'Portuguese': 1385, 'Indian': 1328, 'MiddleEastern': 980, 'Thai': 923, 'WineBar': 877, 'German': 820, 'Halal': 773, 'Greek': 768, 'Healthy': 758, 'Fusion': 748, 'Czech': 745, 'Steakhouse': 729, 'Barbecue': 710, 'Contemporary': 652, 'Soups': 630, 'EasternEuropean': 629, 'Vietnamese': 622, 'Grill': 617, 'Gastropub': 608, 'Turkish': 574, 'Mexican': 572, 'SouthAmerican': 490, 'Delicatessen': 473, 'Austrian': 462, 'Polish': 453, 'Scandinavian': 449, 'Hungarian': 444, 'Lebanese': 397, 'Diner': 375, 'Latin': 373, 'Dutch': 368, 'Irish': 352, 'StreetFood': 336, 'Belgian': 335, 'BrewPub': 299, 'Danish': 225, 'Swiss': 223, 'Swedish': 223, 'Argentinean': 214, 'Korean': 206, 'Scottish': 199, 'African': 193, 'Moroccan': 173, 'CentralAmerican': 168, 'Brazilian': 152, 'Pakistani': 140, 'Peruvian': 130, 'Caribbean': 124, 'Nepali': 121, 'Balti': 104, 'Bangladeshi': 100, 'Norwegian': 96, 'Israeli': 90, 'Slovenian': 85, 'Persian': 77, 'Indonesian': 71, 'Russian': 66, 'Arabic': 58, 'Kosher': 56, 'Ethiopian': 51, 'Venezuelan': 51, 'Malaysian': 38, 'Australian': 36, 'Jamaican': 36, 'Croatian': 33, 'Cuban': 32, 'Colombian': 30, 'SriLankan': 30, 'Taiwanese': 30, 'Tibetan': 29, 'Afghani': 27, 'Cajun&Creole': 27, 'Southwestern': 24, 'Egyptian': 24, 'Tunisian': 23, 'Hawaiian': 23, 'Cambodian': 22, 'Singaporean': 21, 'Mongolian': 20, 'Ukrainian': 20, 'Georgian': 18, 'Armenian': 17, 'Filipino': 17, 'Chilean': 16, 'Romanian': 13, 'MinorityChinese': 12, 'CentralAsian': 12, 'Ecuadorean': 8, 'Albanian': 8, 'Canadian': 7, 'NewZealand': 7, 'NativeAmerican': 5, 'Uzbek': 5, 'Caucasian': 4, 'Welsh': 3, 'Azerbaijani': 3, 'Yunnan': 2, 'Polynesian': 2, 'Fujian': 2, 'Salvadoran': 1, 'Xinjiang': 1, 'Burmese': 1, 'Latvian': 1})\n"
     ]
    }
   ],
   "source": [
    "#count single values in array\n",
    "c = collections.Counter()\n",
    "for i in data.index:\n",
    "    for category in cuisine_array[i]:\n",
    "        c[category] += 1\n",
    "print(c)"
   ]
  },
  {
   "cell_type": "code",
   "execution_count": 54,
   "metadata": {},
   "outputs": [
    {
     "name": "stdout",
     "output_type": "stream",
     "text": [
      "2.62532\n"
     ]
    }
   ],
   "source": [
    "#mean number of cuisins in one restaurant\n",
    "mean_cus_lsit = []\n",
    "\n",
    "for i in data.index:\n",
    "\n",
    "    nb = len(cuisine_array[i])\n",
    "    mean_cus_lsit.append(nb)\n",
    "    \n",
    "print(np.mean(mean_cus_lsit))"
   ]
  },
  {
   "cell_type": "code",
   "execution_count": 55,
   "metadata": {},
   "outputs": [
    {
     "data": {
      "text/html": [
       "<div>\n",
       "<style scoped>\n",
       "    .dataframe tbody tr th:only-of-type {\n",
       "        vertical-align: middle;\n",
       "    }\n",
       "\n",
       "    .dataframe tbody tr th {\n",
       "        vertical-align: top;\n",
       "    }\n",
       "\n",
       "    .dataframe thead th {\n",
       "        text-align: right;\n",
       "    }\n",
       "</style>\n",
       "<table border=\"1\" class=\"dataframe\">\n",
       "  <thead>\n",
       "    <tr style=\"text-align: right;\">\n",
       "      <th></th>\n",
       "      <th>Restaurant_id</th>\n",
       "      <th>City</th>\n",
       "      <th>CuisineStyle</th>\n",
       "      <th>Ranking</th>\n",
       "      <th>PriceRange</th>\n",
       "      <th>NumberofReviews</th>\n",
       "      <th>Reviews</th>\n",
       "      <th>URL_TA</th>\n",
       "      <th>ID_TA</th>\n",
       "      <th>sample</th>\n",
       "      <th>Rating</th>\n",
       "      <th>CityByRanking</th>\n",
       "      <th>Сountry</th>\n",
       "      <th>СityPopulation</th>\n",
       "      <th>RankingCityPop</th>\n",
       "      <th>CityNbRest</th>\n",
       "      <th>RankingCityDist</th>\n",
       "      <th>Number_of_Reviews_isNAN</th>\n",
       "      <th>cuisine</th>\n",
       "      <th>cuisine_nb</th>\n",
       "    </tr>\n",
       "  </thead>\n",
       "  <tbody>\n",
       "    <tr>\n",
       "      <th>0</th>\n",
       "      <td>id_0</td>\n",
       "      <td>Paris</td>\n",
       "      <td>['Bar', 'Pub']</td>\n",
       "      <td>12963.0</td>\n",
       "      <td>$$ - $$$</td>\n",
       "      <td>4.0</td>\n",
       "      <td>[[], []]</td>\n",
       "      <td>/Restaurant_Review-g187147-d10746918-Reviews-L...</td>\n",
       "      <td>d10746918</td>\n",
       "      <td>0</td>\n",
       "      <td>0.0</td>\n",
       "      <td>4</td>\n",
       "      <td>France</td>\n",
       "      <td>12278</td>\n",
       "      <td>1.055791</td>\n",
       "      <td>6108</td>\n",
       "      <td>2.122299</td>\n",
       "      <td>0</td>\n",
       "      <td>[Bar, Pub]</td>\n",
       "      <td>2</td>\n",
       "    </tr>\n",
       "    <tr>\n",
       "      <th>1</th>\n",
       "      <td>id_1</td>\n",
       "      <td>Helsinki</td>\n",
       "      <td>['European', 'Scandinavian', 'Gluten Free Opti...</td>\n",
       "      <td>106.0</td>\n",
       "      <td>$$ - $$$</td>\n",
       "      <td>97.0</td>\n",
       "      <td>[['Very good reviews!', 'Fine dining in Hakani...</td>\n",
       "      <td>/Restaurant_Review-g189934-d6674944-Reviews-Ra...</td>\n",
       "      <td>d6674944</td>\n",
       "      <td>0</td>\n",
       "      <td>0.0</td>\n",
       "      <td>1</td>\n",
       "      <td>Finland</td>\n",
       "      <td>1305</td>\n",
       "      <td>0.081226</td>\n",
       "      <td>475</td>\n",
       "      <td>0.223158</td>\n",
       "      <td>0</td>\n",
       "      <td>[European, Scandinavian, GlutenFreeOptions, Ve...</td>\n",
       "      <td>5</td>\n",
       "    </tr>\n",
       "    <tr>\n",
       "      <th>2</th>\n",
       "      <td>id_2</td>\n",
       "      <td>Edinburgh</td>\n",
       "      <td>['Vegetarian Friendly']</td>\n",
       "      <td>810.0</td>\n",
       "      <td>$$ - $$$</td>\n",
       "      <td>28.0</td>\n",
       "      <td>[['Better than the Links', 'Ivy Black'], ['12/...</td>\n",
       "      <td>/Restaurant_Review-g186525-d13129638-Reviews-B...</td>\n",
       "      <td>d13129638</td>\n",
       "      <td>0</td>\n",
       "      <td>0.0</td>\n",
       "      <td>2</td>\n",
       "      <td>Scotland</td>\n",
       "      <td>537</td>\n",
       "      <td>1.508380</td>\n",
       "      <td>745</td>\n",
       "      <td>1.087248</td>\n",
       "      <td>0</td>\n",
       "      <td>[VegetarianFriendly]</td>\n",
       "      <td>1</td>\n",
       "    </tr>\n",
       "    <tr>\n",
       "      <th>3</th>\n",
       "      <td>id_3</td>\n",
       "      <td>London</td>\n",
       "      <td>['Italian', 'Mediterranean', 'European', 'Vege...</td>\n",
       "      <td>1669.0</td>\n",
       "      <td>$$$$</td>\n",
       "      <td>202.0</td>\n",
       "      <td>[['Most exquisite', 'Delicious and authentic']...</td>\n",
       "      <td>/Restaurant_Review-g186338-d680417-Reviews-Qui...</td>\n",
       "      <td>d680417</td>\n",
       "      <td>0</td>\n",
       "      <td>0.0</td>\n",
       "      <td>3</td>\n",
       "      <td>England</td>\n",
       "      <td>9304</td>\n",
       "      <td>0.179385</td>\n",
       "      <td>7193</td>\n",
       "      <td>0.232031</td>\n",
       "      <td>0</td>\n",
       "      <td>[Italian, Mediterranean, European, VegetarianF...</td>\n",
       "      <td>5</td>\n",
       "    </tr>\n",
       "    <tr>\n",
       "      <th>4</th>\n",
       "      <td>id_4</td>\n",
       "      <td>Bratislava</td>\n",
       "      <td>['Italian', 'Mediterranean', 'European', 'Seaf...</td>\n",
       "      <td>37.0</td>\n",
       "      <td>$$$$</td>\n",
       "      <td>162.0</td>\n",
       "      <td>[['Always the best in bratislava', 'Very good ...</td>\n",
       "      <td>/Restaurant_Review-g274924-d1112354-Reviews-Ma...</td>\n",
       "      <td>d1112354</td>\n",
       "      <td>0</td>\n",
       "      <td>0.0</td>\n",
       "      <td>1</td>\n",
       "      <td>Slovakia</td>\n",
       "      <td>435</td>\n",
       "      <td>0.085057</td>\n",
       "      <td>380</td>\n",
       "      <td>0.097368</td>\n",
       "      <td>0</td>\n",
       "      <td>[Italian, Mediterranean, European, Seafood, Ve...</td>\n",
       "      <td>6</td>\n",
       "    </tr>\n",
       "  </tbody>\n",
       "</table>\n",
       "</div>"
      ],
      "text/plain": [
       "  Restaurant_id        City  \\\n",
       "0          id_0       Paris   \n",
       "1          id_1    Helsinki   \n",
       "2          id_2   Edinburgh   \n",
       "3          id_3      London   \n",
       "4          id_4  Bratislava   \n",
       "\n",
       "                                        CuisineStyle  Ranking PriceRange  \\\n",
       "0                                     ['Bar', 'Pub']  12963.0   $$ - $$$   \n",
       "1  ['European', 'Scandinavian', 'Gluten Free Opti...    106.0   $$ - $$$   \n",
       "2                            ['Vegetarian Friendly']    810.0   $$ - $$$   \n",
       "3  ['Italian', 'Mediterranean', 'European', 'Vege...   1669.0       $$$$   \n",
       "4  ['Italian', 'Mediterranean', 'European', 'Seaf...     37.0       $$$$   \n",
       "\n",
       "   NumberofReviews                                            Reviews  \\\n",
       "0              4.0                                           [[], []]   \n",
       "1             97.0  [['Very good reviews!', 'Fine dining in Hakani...   \n",
       "2             28.0  [['Better than the Links', 'Ivy Black'], ['12/...   \n",
       "3            202.0  [['Most exquisite', 'Delicious and authentic']...   \n",
       "4            162.0  [['Always the best in bratislava', 'Very good ...   \n",
       "\n",
       "                                              URL_TA      ID_TA  sample  \\\n",
       "0  /Restaurant_Review-g187147-d10746918-Reviews-L...  d10746918       0   \n",
       "1  /Restaurant_Review-g189934-d6674944-Reviews-Ra...   d6674944       0   \n",
       "2  /Restaurant_Review-g186525-d13129638-Reviews-B...  d13129638       0   \n",
       "3  /Restaurant_Review-g186338-d680417-Reviews-Qui...    d680417       0   \n",
       "4  /Restaurant_Review-g274924-d1112354-Reviews-Ma...   d1112354       0   \n",
       "\n",
       "   Rating  CityByRanking   Сountry  СityPopulation  RankingCityPop  \\\n",
       "0     0.0              4    France           12278        1.055791   \n",
       "1     0.0              1   Finland            1305        0.081226   \n",
       "2     0.0              2  Scotland             537        1.508380   \n",
       "3     0.0              3   England            9304        0.179385   \n",
       "4     0.0              1  Slovakia             435        0.085057   \n",
       "\n",
       "   CityNbRest  RankingCityDist  Number_of_Reviews_isNAN  \\\n",
       "0        6108         2.122299                        0   \n",
       "1         475         0.223158                        0   \n",
       "2         745         1.087248                        0   \n",
       "3        7193         0.232031                        0   \n",
       "4         380         0.097368                        0   \n",
       "\n",
       "                                             cuisine  cuisine_nb  \n",
       "0                                         [Bar, Pub]           2  \n",
       "1  [European, Scandinavian, GlutenFreeOptions, Ve...           5  \n",
       "2                               [VegetarianFriendly]           1  \n",
       "3  [Italian, Mediterranean, European, VegetarianF...           5  \n",
       "4  [Italian, Mediterranean, European, Seafood, Ve...           6  "
      ]
     },
     "execution_count": 55,
     "metadata": {},
     "output_type": "execute_result"
    }
   ],
   "source": [
    "#creste new column with number of cuisine in restarant\n",
    "data['cuisine_nb'] = mean_cus_lsit\n",
    "data.head()"
   ]
  },
  {
   "cell_type": "code",
   "execution_count": 56,
   "metadata": {},
   "outputs": [
    {
     "data": {
      "text/plain": [
       "Text(0, 0.5, 'cuisine_nb')"
      ]
     },
     "execution_count": 56,
     "metadata": {},
     "output_type": "execute_result"
    },
    {
     "data": {
      "image/png": "[encoded data removed]",
      "text/plain": [
       "<Figure size 432x288 with 1 Axes>"
      ]
     },
     "metadata": {
      "needs_background": "light"
     },
     "output_type": "display_data"
    }
   ],
   "source": [
    "# build boxplot to see the number of cuisines distribution in each rating score\n",
    "fig = plt.figure()\n",
    "axes = fig.add_axes([0, 0, 1, 1])\n",
    "axes.set_ylim(0,8.5)\n",
    "sns.boxplot(x = data['Rating'], y = data['cuisine_nb'])\n",
    "# Добавим поясняющие подписи\n",
    "axes.set_xlabel('Rating')\n",
    "axes.set_ylabel('cuisine_nb')"
   ]
  },
  {
   "cell_type": "code",
   "execution_count": 57,
   "metadata": {},
   "outputs": [
    {
     "data": {
      "text/plain": [
       "0.12005927610873016"
      ]
     },
     "execution_count": 57,
     "metadata": {},
     "output_type": "execute_result"
    }
   ],
   "source": [
    "data[data['sample']==1].cuisine_nb.corr(data[data['sample']==1].Rating)"
   ]
  },
  {
   "cell_type": "markdown",
   "metadata": {},
   "source": [
    "you can see on the boxplot, that there are some differences between rating score and number of cuisins. Restaurants with high rating have in average higher number of cuisins. You can consider that in median and IQR.\n",
    "\n",
    "As next step we will build new dummy variables and cluster cuisines into groups "
   ]
  },
  {
   "cell_type": "code",
   "execution_count": 58,
   "metadata": {},
   "outputs": [],
   "source": [
    "\n",
    "######################\n",
    "healthy = []\n",
    "\n",
    "for cuisine in cuisine_array:\n",
    "    if len(set(cuisine) & set(list(['VegetarianFriendly', 'GlutenFreeOptions', 'Healthy', 'VeganOptions']))) !=0:\n",
    "           healthy.append(1)\n",
    "    else: healthy.append(0)\n",
    "\n",
    "data['healthy'] = healthy \n",
    "\n",
    "\n",
    "#######################\n",
    "taboo = []\n",
    "\n",
    "for cuisine in cuisine_array:\n",
    "    if len(set(cuisine) & set(list(['Halal', 'Kosher']))) !=0:\n",
    "           taboo.append(1)\n",
    "    else: taboo.append(0)\n",
    "\n",
    "data['taboo'] = taboo \n",
    "\n",
    "#########                                    \n",
    "seafood = []\n",
    "\n",
    "for cuisine in cuisine_array:\n",
    "    if len(set(cuisine) & set(list(['Seafood']))) !=0:\n",
    "           seafood.append(1)\n",
    "    else: seafood.append(0)\n",
    "\n",
    "data['seafood'] = seafood\n",
    "\n",
    "###########\n",
    "alco = []\n",
    "\n",
    "for cuisine in cuisine_array:\n",
    "    if len(set(cuisine) & set(list(['Bar', 'Pub', 'WineBar', 'Gastropub', 'BrewPub']))) !=0:\n",
    "           alco.append(1)\n",
    "    else: alco.append(0)\n",
    "\n",
    "data['alco'] = alco\n",
    "\n",
    "############\n",
    "\n",
    "fast = []\n",
    "\n",
    "for cuisine in cuisine_array:\n",
    "    if len(set(cuisine) & set(list(['Cafe', 'FastFood', 'Diner', 'StreetFood']))) !=0:\n",
    "           fast.append(1)\n",
    "    else: fast.append(0)\n",
    "\n",
    "data['fast'] = fast\n",
    "\n",
    " #############\n",
    "    \n",
    "other = []\n",
    "\n",
    "for cuisine in cuisine_array:\n",
    "    if len(set(cuisine) & set(list(['International', 'Fusion', 'Contemporary', 'Delicatessen']))) !=0:\n",
    "           other.append(1)\n",
    "    else: other.append(0)\n",
    "\n",
    "data['other'] = other\n",
    "\n",
    "#############\n",
    "italian = []\n",
    "\n",
    "for cuisine in cuisine_array:\n",
    "    if len(set(cuisine) & set(list(['Italian', 'Pizza']))) !=0:\n",
    "           italian.append(1)\n",
    "    else: italian.append(0)\n",
    "\n",
    "data['italian'] = italian\n",
    "\n",
    "####################\n",
    "european = []\n",
    "\n",
    "for cuisine in cuisine_array:\n",
    "    if len(set(cuisine) & set(list(['European', 'Mediterranean', 'Italian', 'French', 'Spanish', 'British', 'CentralEuropean', 'Portuguese',\\\n",
    "           'German', 'Greek', 'Czech', 'EasternEuropean', 'Austrian', 'Polish', 'Scandinavian', 'Hungarian',\\\n",
    "           'Dutch', 'Irish', 'Belgian', 'Danish', 'Swiss', 'Swedish', 'Scottish', 'Norwegian']))) !=0:\n",
    "           european.append(1)\n",
    "    else: european.append(0)\n",
    "\n",
    "data['european'] = european\n",
    "\n",
    "##############\n",
    "\n",
    "asian = []\n",
    "\n",
    "for cuisine in cuisine_array:\n",
    "    if len(set(cuisine) & set(list(['Asian', 'Japanese', 'Sushi', 'Chinese', 'Indian',  'Thai', 'Vietnamese', 'Korean', 'Pakistani', 'Nepali'\\\n",
    "         , 'Balti', 'Bangladeshi', 'Indonesian', 'Malaysian', 'Sri Lankan', 'Taiwanese', 'Tibetan',\\\n",
    "         'Cambodian', 'Singaporean', 'Mongolian', 'Filipino', 'Minority Chinese', 'Central Asian', 'Yunnan', \\\n",
    "         'Xinjiang']))) !=0:\n",
    "           asian.append(1)\n",
    "    else: asian.append(0)\n",
    "\n",
    "data['asian'] = asian\n",
    "\n",
    "###########\n",
    "    \n",
    "steak = []\n",
    "\n",
    "for cuisine in cuisine_array:\n",
    "    if len(set(cuisine) & set(list(['Steakhouse', 'Barbecue', 'Grill']))) !=0:\n",
    "           steak.append(1)\n",
    "    else: steak.append(0)\n",
    "\n",
    "data['steak'] = steak   \n",
    "    \n",
    "############\n",
    "\n",
    "eastern = []\n",
    "\n",
    "for cuisine in cuisine_array:\n",
    "    if len(set(cuisine) & set(list(['MiddleEastern', 'Turkish', 'Lebanese', 'Israeli', 'Persian', 'Arabic', 'Afghani', 'Uzbek']))) !=0:\n",
    "           eastern.append(1)\n",
    "    else: eastern.append(0)\n",
    "\n",
    "data['eastern'] = eastern  \n",
    "\n",
    "#############\n",
    "\n",
    "african = []\n",
    "\n",
    "for cuisine in cuisine_array:\n",
    "    if len(set(cuisine) & set(list(['African', 'Moroccan', 'Ethiopian', 'Egyptian', 'Tunisian']))) !=0:\n",
    "           african.append(1)\n",
    "    else: african.append(0)\n",
    "\n",
    "data['african'] = african  \n",
    "\n",
    "###############\n",
    "\n",
    "\n",
    "australian = []\n",
    "\n",
    "for cuisine in cuisine_array:\n",
    "    if len(set(cuisine) & set(list(['Australian', 'New Zealand']))) !=0:\n",
    "           australian.append(1)\n",
    "    else: australian.append(0)\n",
    "\n",
    "data['australian'] = australian  \n",
    "\n",
    "###############\n",
    "\n",
    "american = []\n",
    "\n",
    "for cuisine in cuisine_array:\n",
    "    if len(set(cuisine) & set(list(['American', 'Canadian']))) !=0:\n",
    "           american.append(1)\n",
    "    else: american.append(0)\n",
    "\n",
    "data['american'] = american  \n",
    "\n",
    "###############\n",
    "\n",
    "\n",
    "latamerican = []\n",
    "\n",
    "for cuisine in cuisine_array:\n",
    "    if len(set(cuisine) & set(list(['Mexican', 'South American', 'Latin', 'Argentinean', 'CentralAmerican', 'Brazilian', 'Peruvian',\\\n",
    "               'Venezuelan', 'Jamaican', 'Cuban', 'Colombian', 'Cajun & Creole', 'Southwestern',\\\n",
    "               'Chilean', 'Ecuadorean', 'NativeAmerican', 'Salvadoran']))) !=0:\n",
    "           latamerican.append(1)\n",
    "    else: latamerican.append(0)\n",
    "\n",
    "data['latamerican'] = latamerican  \n",
    "\n",
    "###############\n",
    "\n",
    "\n",
    "exotic = []\n",
    "\n",
    "for cuisine in cuisine_array:\n",
    "    if len(set(cuisine) & set(list(['Hawaiian', 'Polynesian', 'Jamaican', 'Cuban', 'Fujian', 'Burmese', 'Caribbean']))) !=0:\n",
    "           exotic.append(1)\n",
    "    else: exotic.append(0)\n",
    "\n",
    "data['exotic'] = exotic  \n",
    "\n",
    "###############\n",
    "\n",
    "\n",
    "сaucas = []\n",
    "\n",
    "for cuisine in cuisine_array:\n",
    "    if len(set(cuisine) & set(list(['Georgian', 'Armenian', 'Caucasian', 'Azerbaijani']))) !=0:\n",
    "           сaucas.append(1)\n",
    "    else: сaucas.append(0)\n",
    "\n",
    "data['сaucas'] = сaucas  \n",
    "\n",
    "###############\n",
    "\n",
    "\n",
    "    "
   ]
  },
  {
   "cell_type": "markdown",
   "metadata": {},
   "source": [
    "### Comments\n",
    "- at the beginning we cleaned the cuisine style variable, removes ', ' '. \n",
    "- created an array with unoque number of cuisine and counted the\n",
    "- we created come new variables, like cuisine count per restaurant and cuisne grous \n"
   ]
  },
  {
   "cell_type": "markdown",
   "metadata": {},
   "source": [
    "## 7. Price Range"
   ]
  },
  {
   "cell_type": "code",
   "execution_count": 59,
   "metadata": {},
   "outputs": [
    {
     "name": "stdout",
     "output_type": "stream",
     "text": [
      "Number of non empty entries in PriceRange is 32639\n",
      "it makes 34.72 %\n",
      "unique values  ['$$ - $$$' '$$$$' '$' nan]\n"
     ]
    }
   ],
   "source": [
    "#check null entries in \"PriceRange\"\n",
    "print('Number of non empty entries in PriceRange is', len(data)-data.PriceRange.isnull().sum())\n",
    "print('it makes', round(data.PriceRange.isnull().sum()/len(data)*100,2), '%')\n",
    "print('unique values ',data.PriceRange.unique())"
   ]
  },
  {
   "cell_type": "code",
   "execution_count": 60,
   "metadata": {},
   "outputs": [],
   "source": [
    "data['PriceRange'] = data['PriceRange'].fillna(0)"
   ]
  },
  {
   "cell_type": "code",
   "execution_count": 61,
   "metadata": {},
   "outputs": [],
   "source": [
    "#function to recode price segment\n",
    "def recode_price(row):\n",
    "    if row['PriceRange'] == '$':\n",
    "        return 1\n",
    "    elif row['PriceRange'] == '$$ - $$$':\n",
    "        return 2\n",
    "    elif row['PriceRange'] == '$$$$':\n",
    "        return 3\n",
    "    else: return 0"
   ]
  },
  {
   "cell_type": "code",
   "execution_count": 62,
   "metadata": {},
   "outputs": [
    {
     "data": {
      "text/plain": [
       "PriceRange  PriceCat\n",
       "0           0           17361\n",
       "$           1            7816\n",
       "$$ - $$$    2           23041\n",
       "$$$$        3            1782\n",
       "Name: PriceRange, dtype: int64"
      ]
     },
     "execution_count": 62,
     "metadata": {},
     "output_type": "execute_result"
    }
   ],
   "source": [
    "#apply recode function to price range column and create new price column which we will recode to dummy variable\n",
    "data['PriceCat'] = data.apply(recode_price, axis = 1)\n",
    "data.groupby(['PriceRange', 'PriceCat'])['PriceRange'].count()\n"
   ]
  },
  {
   "cell_type": "markdown",
   "metadata": {},
   "source": [
    "### 8. Reviews\n",
    "### 8.1 Review content"
   ]
  },
  {
   "cell_type": "code",
   "execution_count": 63,
   "metadata": {},
   "outputs": [
    {
     "data": {
      "text/plain": [
       "1        ['very', 'good', 'reviews'', ''fine', 'dining'...\n",
       "2        ['better', 'than', 'the', 'links'', ''ivy', 'b...\n",
       "3        ['most', 'exquisite'', ''delicious', 'and', 'a...\n",
       "4        ['always', 'the', 'best', 'in', 'bratislava'',...\n",
       "5        ['lunch', 'break'', ''good', 'to', 'quick', 'b...\n",
       "                               ...                        \n",
       "49995    ['the', 'real', 'italian', 'experience'', ''wo...\n",
       "49996    ['parisian', 'atmosphere'', ''bit', 'pricey', ...\n",
       "49997    ['good', 'by', 'swedish', 'standards'', ''a', ...\n",
       "49998    ['underground', 'restaurant'', ''oldest', 'res...\n",
       "49999    ['average'', ''nice', 'an', 'informal'', ''01/...\n",
       "Name: Reviews, Length: 49999, dtype: object"
      ]
     },
     "execution_count": 63,
     "metadata": {},
     "output_type": "execute_result"
    }
   ],
   "source": [
    "review_array = data['Reviews']\n",
    "review_array = review_array.str.slice(1,-1)\n",
    "def repl(row):\n",
    "    val = row.replace(\"' \",\"\")\\\n",
    "             .replace('[', '')\\\n",
    "             .replace(']', '')\\\n",
    "             .replace(',', '')\\\n",
    "             .replace('.', '')\\\n",
    "             .replace('?', '')\\\n",
    "             .replace('!', '')\\\n",
    "             .replace(\" \", \"' '\")\\\n",
    "             .replace('\"', '')\\\n",
    "             .lower()\n",
    "    return val\n",
    "\n",
    "review_array = review_array.apply(lambda x: repl(str(x))) \n",
    "review_array = review_array.apply(lambda x: x.split(\" \"))\n",
    "\n",
    "\n",
    "\n",
    "review_array[1:]"
   ]
  },
  {
   "cell_type": "code",
   "execution_count": 64,
   "metadata": {},
   "outputs": [],
   "source": [
    "data['positive_review'] = data.Reviews.str.contains('excited|ecstatic|honest|to be pleased|serious\\\n",
    "                                                    |joyful|pleasant|friendly|glad|fair|happy|good\\\n",
    "                                                    |interested|concentrated|brave|nice|curious|optimistic\\\n",
    "                                                    |fantastic|quiet|clever|great|blissful|surprised|innocent\\\n",
    "                                                    |love|lovestruck|mediative|sensible|careful|cautious\\\n",
    "                                                    |wonderful|satisfied|confident|tasty\\\n",
    "                                                    |agreeable|blessed|congenial|darling|delectable|delicious|delightful|enjoyable|good|grateful\\\n",
    "                                                    |heavenly|pleasant|pleasurable|pretty').fillna(0).astype(int)\n",
    "\n",
    "\n",
    "data['negative_review'] = data.Reviews.str.contains('aggressive|disgusted|arrogant|grieving|upset\\\n",
    "                                                    |stupid|mischievous|silly|smug|lonely|miserable\\\n",
    "                                                    |horrified|disappointed|exhausted|enraged|frustrated\\\n",
    "                                                    |bored|nasty|agonized|shocked|indifferent|helpless\\\n",
    "                                                    |hysterical|idiotic|confused|lovesick|suspicious|nervous\\\n",
    "                                                    |bad|terrible|awful|guilty|strange|sad|sorry|disbelieving\\\n",
    "                                                    |frightened|annoyed|puzzled|hangover|sheepish|hurt|crazy\\\n",
    "                                                    |mad|angry').fillna(0).astype(int)\n",
    "\n",
    "\n",
    "def netr_func(row):\n",
    "    if (row['negative_review'] + row['positive_review']) == 0 | (row['negative_review'] + row['positive_review']) == 2:\n",
    "        val = 1\n",
    "    else: val = 0\n",
    "    return val\n",
    "data['neutral_review'] = data.apply(netr_func, axis=1)\n"
   ]
  },
  {
   "cell_type": "markdown",
   "metadata": {},
   "source": [
    "### COMMENTS\n",
    "- we created three new features with positive, negative and neutral (not postove and not negative or both)\n",
    "- as next step we will analye the date between reviews \n",
    "\n"
   ]
  },
  {
   "cell_type": "code",
   "execution_count": 65,
   "metadata": {},
   "outputs": [
    {
     "data": {
      "text/html": [
       "<div>\n",
       "<style scoped>\n",
       "    .dataframe tbody tr th:only-of-type {\n",
       "        vertical-align: middle;\n",
       "    }\n",
       "\n",
       "    .dataframe tbody tr th {\n",
       "        vertical-align: top;\n",
       "    }\n",
       "\n",
       "    .dataframe thead th {\n",
       "        text-align: right;\n",
       "    }\n",
       "</style>\n",
       "<table border=\"1\" class=\"dataframe\">\n",
       "  <thead>\n",
       "    <tr style=\"text-align: right;\">\n",
       "      <th></th>\n",
       "      <th>Ranking</th>\n",
       "      <th>NumberofReviews</th>\n",
       "      <th>sample</th>\n",
       "      <th>Rating</th>\n",
       "      <th>CityByRanking</th>\n",
       "      <th>СityPopulation</th>\n",
       "      <th>RankingCityPop</th>\n",
       "      <th>CityNbRest</th>\n",
       "      <th>RankingCityDist</th>\n",
       "      <th>cuisine_nb</th>\n",
       "      <th>...</th>\n",
       "      <th>african</th>\n",
       "      <th>australian</th>\n",
       "      <th>american</th>\n",
       "      <th>latamerican</th>\n",
       "      <th>exotic</th>\n",
       "      <th>сaucas</th>\n",
       "      <th>PriceCat</th>\n",
       "      <th>positive_review</th>\n",
       "      <th>negative_review</th>\n",
       "      <th>neutral_review</th>\n",
       "    </tr>\n",
       "  </thead>\n",
       "  <tbody>\n",
       "    <tr>\n",
       "      <th>0</th>\n",
       "      <td>12963.0</td>\n",
       "      <td>4.0</td>\n",
       "      <td>0</td>\n",
       "      <td>0.0</td>\n",
       "      <td>4</td>\n",
       "      <td>12278</td>\n",
       "      <td>1.055791</td>\n",
       "      <td>6108</td>\n",
       "      <td>2.122299</td>\n",
       "      <td>2</td>\n",
       "      <td>...</td>\n",
       "      <td>0</td>\n",
       "      <td>0</td>\n",
       "      <td>0</td>\n",
       "      <td>0</td>\n",
       "      <td>0</td>\n",
       "      <td>0</td>\n",
       "      <td>2</td>\n",
       "      <td>0</td>\n",
       "      <td>0</td>\n",
       "      <td>0</td>\n",
       "    </tr>\n",
       "    <tr>\n",
       "      <th>1</th>\n",
       "      <td>106.0</td>\n",
       "      <td>97.0</td>\n",
       "      <td>0</td>\n",
       "      <td>0.0</td>\n",
       "      <td>1</td>\n",
       "      <td>1305</td>\n",
       "      <td>0.081226</td>\n",
       "      <td>475</td>\n",
       "      <td>0.223158</td>\n",
       "      <td>5</td>\n",
       "      <td>...</td>\n",
       "      <td>0</td>\n",
       "      <td>0</td>\n",
       "      <td>0</td>\n",
       "      <td>0</td>\n",
       "      <td>0</td>\n",
       "      <td>0</td>\n",
       "      <td>2</td>\n",
       "      <td>1</td>\n",
       "      <td>0</td>\n",
       "      <td>0</td>\n",
       "    </tr>\n",
       "  </tbody>\n",
       "</table>\n",
       "<p>2 rows × 31 columns</p>\n",
       "</div>"
      ],
      "text/plain": [
       "   Ranking  NumberofReviews  sample  Rating  CityByRanking  СityPopulation  \\\n",
       "0  12963.0              4.0       0     0.0              4           12278   \n",
       "1    106.0             97.0       0     0.0              1            1305   \n",
       "\n",
       "   RankingCityPop  CityNbRest  RankingCityDist  cuisine_nb  ...  african  \\\n",
       "0        1.055791        6108         2.122299           2  ...        0   \n",
       "1        0.081226         475         0.223158           5  ...        0   \n",
       "\n",
       "   australian  american  latamerican  exotic  сaucas  PriceCat  \\\n",
       "0           0         0            0       0       0         2   \n",
       "1           0         0            0       0       0         2   \n",
       "\n",
       "   positive_review  negative_review  neutral_review  \n",
       "0                0                0               0  \n",
       "1                1                0               0  \n",
       "\n",
       "[2 rows x 31 columns]"
      ]
     },
     "execution_count": 65,
     "metadata": {},
     "output_type": "execute_result"
    }
   ],
   "source": [
    "#drop all columns which we do not need for modeling \n",
    "data_for_model = data.drop(['Restaurant_id', 'Number_of_Reviews_isNAN','City', 'CuisineStyle','PriceRange','Reviews', 'URL_TA', 'ID_TA','cuisine','Сountry'], axis = 1)\n",
    "data_for_model.head(2)"
   ]
  },
  {
   "cell_type": "code",
   "execution_count": 66,
   "metadata": {},
   "outputs": [],
   "source": [
    "def StandardScaler_column(d_col):\n",
    "    scaler = StandardScaler()\n",
    "    scaler.fit(data_for_model[[d_col]])\n",
    "    return scaler.transform(data_for_model[[d_col]])\n",
    "# стандартизируем все столбцы кроме целевой и Sample\n",
    "for i  in list(data_for_model.columns):\n",
    "    if i not in ['Rating','sample']:\n",
    "        data_for_model[i] = StandardScaler_column(i)\n",
    "        if len(data_for_model[data_for_model[i].isna()]) < len(data_for_model):\n",
    "            data_for_model[i] = data_for_model[i].fillna(0)"
   ]
  },
  {
   "cell_type": "markdown",
   "metadata": {},
   "source": [
    "### И один из моих любимых - [корреляция признаков](https://ru.wikipedia.org/wiki/Корреляция)\n",
    "На этом графике уже сейчас вы сможете заметить, как признаки связаны между собой и с целевой переменной."
   ]
  },
  {
   "cell_type": "code",
   "execution_count": 67,
   "metadata": {},
   "outputs": [
    {
     "data": {
      "text/plain": [
       "<matplotlib.axes._subplots.AxesSubplot at 0x7f5930f74d30>"
      ]
     },
     "execution_count": 67,
     "metadata": {},
     "output_type": "execute_result"
    },
    {
     "data": {
      "image/png": "[encoded data removed]",
      "text/plain": [
       "<Figure size 1080x720 with 2 Axes>"
      ]
     },
     "metadata": {
      "needs_background": "light"
     },
     "output_type": "display_data"
    }
   ],
   "source": [
    "plt.rcParams['figure.figsize'] = (15,10)\n",
    "sns.heatmap(data_for_model.drop(['sample'], axis=1).corr(),)"
   ]
  },
  {
   "cell_type": "code",
   "execution_count": 68,
   "metadata": {},
   "outputs": [
    {
     "data": {
      "text/html": [
       "<div>\n",
       "<style scoped>\n",
       "    .dataframe tbody tr th:only-of-type {\n",
       "        vertical-align: middle;\n",
       "    }\n",
       "\n",
       "    .dataframe tbody tr th {\n",
       "        vertical-align: top;\n",
       "    }\n",
       "\n",
       "    .dataframe thead th {\n",
       "        text-align: right;\n",
       "    }\n",
       "</style>\n",
       "<table border=\"1\" class=\"dataframe\">\n",
       "  <thead>\n",
       "    <tr style=\"text-align: right;\">\n",
       "      <th></th>\n",
       "      <th>RankingCityDist</th>\n",
       "      <th>NumberofReviews</th>\n",
       "      <th>Rating</th>\n",
       "      <th>Ranking</th>\n",
       "      <th>СityPopulation</th>\n",
       "      <th>RankingCityPop</th>\n",
       "      <th>CityNbRest</th>\n",
       "      <th>cuisine_nb</th>\n",
       "      <th>PriceCat</th>\n",
       "      <th>european</th>\n",
       "      <th>positive_review</th>\n",
       "      <th>sample</th>\n",
       "    </tr>\n",
       "  </thead>\n",
       "  <tbody>\n",
       "    <tr>\n",
       "      <th>0</th>\n",
       "      <td>2.122299</td>\n",
       "      <td>4.0</td>\n",
       "      <td>0.0</td>\n",
       "      <td>12963.0</td>\n",
       "      <td>12278</td>\n",
       "      <td>1.055791</td>\n",
       "      <td>6108</td>\n",
       "      <td>2</td>\n",
       "      <td>2</td>\n",
       "      <td>0</td>\n",
       "      <td>0</td>\n",
       "      <td>0</td>\n",
       "    </tr>\n",
       "    <tr>\n",
       "      <th>1</th>\n",
       "      <td>0.223158</td>\n",
       "      <td>97.0</td>\n",
       "      <td>0.0</td>\n",
       "      <td>106.0</td>\n",
       "      <td>1305</td>\n",
       "      <td>0.081226</td>\n",
       "      <td>475</td>\n",
       "      <td>5</td>\n",
       "      <td>2</td>\n",
       "      <td>1</td>\n",
       "      <td>1</td>\n",
       "      <td>0</td>\n",
       "    </tr>\n",
       "    <tr>\n",
       "      <th>2</th>\n",
       "      <td>1.087248</td>\n",
       "      <td>28.0</td>\n",
       "      <td>0.0</td>\n",
       "      <td>810.0</td>\n",
       "      <td>537</td>\n",
       "      <td>1.508380</td>\n",
       "      <td>745</td>\n",
       "      <td>1</td>\n",
       "      <td>2</td>\n",
       "      <td>0</td>\n",
       "      <td>0</td>\n",
       "      <td>0</td>\n",
       "    </tr>\n",
       "    <tr>\n",
       "      <th>3</th>\n",
       "      <td>0.232031</td>\n",
       "      <td>202.0</td>\n",
       "      <td>0.0</td>\n",
       "      <td>1669.0</td>\n",
       "      <td>9304</td>\n",
       "      <td>0.179385</td>\n",
       "      <td>7193</td>\n",
       "      <td>5</td>\n",
       "      <td>3</td>\n",
       "      <td>1</td>\n",
       "      <td>0</td>\n",
       "      <td>0</td>\n",
       "    </tr>\n",
       "    <tr>\n",
       "      <th>4</th>\n",
       "      <td>0.097368</td>\n",
       "      <td>162.0</td>\n",
       "      <td>0.0</td>\n",
       "      <td>37.0</td>\n",
       "      <td>435</td>\n",
       "      <td>0.085057</td>\n",
       "      <td>380</td>\n",
       "      <td>6</td>\n",
       "      <td>3</td>\n",
       "      <td>1</td>\n",
       "      <td>1</td>\n",
       "      <td>0</td>\n",
       "    </tr>\n",
       "    <tr>\n",
       "      <th>...</th>\n",
       "      <td>...</td>\n",
       "      <td>...</td>\n",
       "      <td>...</td>\n",
       "      <td>...</td>\n",
       "      <td>...</td>\n",
       "      <td>...</td>\n",
       "      <td>...</td>\n",
       "      <td>...</td>\n",
       "      <td>...</td>\n",
       "      <td>...</td>\n",
       "      <td>...</td>\n",
       "      <td>...</td>\n",
       "    </tr>\n",
       "    <tr>\n",
       "      <th>49995</th>\n",
       "      <td>0.185598</td>\n",
       "      <td>79.0</td>\n",
       "      <td>4.5</td>\n",
       "      <td>500.0</td>\n",
       "      <td>3140</td>\n",
       "      <td>0.159236</td>\n",
       "      <td>2694</td>\n",
       "      <td>4</td>\n",
       "      <td>2</td>\n",
       "      <td>1</td>\n",
       "      <td>1</td>\n",
       "      <td>1</td>\n",
       "    </tr>\n",
       "    <tr>\n",
       "      <th>49996</th>\n",
       "      <td>1.038147</td>\n",
       "      <td>542.0</td>\n",
       "      <td>3.5</td>\n",
       "      <td>6341.0</td>\n",
       "      <td>12278</td>\n",
       "      <td>0.516452</td>\n",
       "      <td>6108</td>\n",
       "      <td>5</td>\n",
       "      <td>2</td>\n",
       "      <td>1</td>\n",
       "      <td>1</td>\n",
       "      <td>1</td>\n",
       "    </tr>\n",
       "    <tr>\n",
       "      <th>49997</th>\n",
       "      <td>1.599226</td>\n",
       "      <td>4.0</td>\n",
       "      <td>4.5</td>\n",
       "      <td>1652.0</td>\n",
       "      <td>1633</td>\n",
       "      <td>1.011635</td>\n",
       "      <td>1033</td>\n",
       "      <td>2</td>\n",
       "      <td>0</td>\n",
       "      <td>0</td>\n",
       "      <td>0</td>\n",
       "      <td>1</td>\n",
       "    </tr>\n",
       "    <tr>\n",
       "      <th>49998</th>\n",
       "      <td>0.692973</td>\n",
       "      <td>70.0</td>\n",
       "      <td>4.0</td>\n",
       "      <td>641.0</td>\n",
       "      <td>1783</td>\n",
       "      <td>0.359506</td>\n",
       "      <td>925</td>\n",
       "      <td>5</td>\n",
       "      <td>2</td>\n",
       "      <td>1</td>\n",
       "      <td>0</td>\n",
       "      <td>1</td>\n",
       "    </tr>\n",
       "    <tr>\n",
       "      <th>49999</th>\n",
       "      <td>1.791759</td>\n",
       "      <td>260.0</td>\n",
       "      <td>3.0</td>\n",
       "      <td>4827.0</td>\n",
       "      <td>3140</td>\n",
       "      <td>1.537261</td>\n",
       "      <td>2694</td>\n",
       "      <td>1</td>\n",
       "      <td>2</td>\n",
       "      <td>1</td>\n",
       "      <td>0</td>\n",
       "      <td>1</td>\n",
       "    </tr>\n",
       "  </tbody>\n",
       "</table>\n",
       "<p>50000 rows × 12 columns</p>\n",
       "</div>"
      ],
      "text/plain": [
       "       RankingCityDist  NumberofReviews  Rating  Ranking  СityPopulation  \\\n",
       "0             2.122299              4.0     0.0  12963.0           12278   \n",
       "1             0.223158             97.0     0.0    106.0            1305   \n",
       "2             1.087248             28.0     0.0    810.0             537   \n",
       "3             0.232031            202.0     0.0   1669.0            9304   \n",
       "4             0.097368            162.0     0.0     37.0             435   \n",
       "...                ...              ...     ...      ...             ...   \n",
       "49995         0.185598             79.0     4.5    500.0            3140   \n",
       "49996         1.038147            542.0     3.5   6341.0           12278   \n",
       "49997         1.599226              4.0     4.5   1652.0            1633   \n",
       "49998         0.692973             70.0     4.0    641.0            1783   \n",
       "49999         1.791759            260.0     3.0   4827.0            3140   \n",
       "\n",
       "       RankingCityPop  CityNbRest  cuisine_nb  PriceCat  european  \\\n",
       "0            1.055791        6108           2         2         0   \n",
       "1            0.081226         475           5         2         1   \n",
       "2            1.508380         745           1         2         0   \n",
       "3            0.179385        7193           5         3         1   \n",
       "4            0.085057         380           6         3         1   \n",
       "...               ...         ...         ...       ...       ...   \n",
       "49995        0.159236        2694           4         2         1   \n",
       "49996        0.516452        6108           5         2         1   \n",
       "49997        1.011635        1033           2         0         0   \n",
       "49998        0.359506         925           5         2         1   \n",
       "49999        1.537261        2694           1         2         1   \n",
       "\n",
       "       positive_review  sample  \n",
       "0                    0       0  \n",
       "1                    1       0  \n",
       "2                    0       0  \n",
       "3                    0       0  \n",
       "4                    1       0  \n",
       "...                ...     ...  \n",
       "49995                1       1  \n",
       "49996                1       1  \n",
       "49997                0       1  \n",
       "49998                0       1  \n",
       "49999                0       1  \n",
       "\n",
       "[50000 rows x 12 columns]"
      ]
     },
     "execution_count": 68,
     "metadata": {},
     "output_type": "execute_result"
    }
   ],
   "source": [
    "#the run befor showed that another features do not bring much input for model building\n",
    "data_for_model = data[['RankingCityDist', 'NumberofReviews', 'Rating', 'Ranking', 'СityPopulation', 'RankingCityPop',\n",
    "                'CityNbRest', 'cuisine_nb', 'PriceCat', 'european', 'positive_review', 'sample']]\n",
    "data_for_model"
   ]
  },
  {
   "cell_type": "markdown",
   "metadata": {},
   "source": [
    "# Data Preprocessing\n",
    "Теперь, для удобства и воспроизводимости кода, завернем всю обработку в одну большую функцию."
   ]
  },
  {
   "cell_type": "code",
   "execution_count": 69,
   "metadata": {},
   "outputs": [],
   "source": [
    "# Теперь выделим тестовую часть\n",
    "#train_data = df_preproc.query('sample == 1').drop(['sample'], axis=1)\n",
    "#test_data = df_preproc.query('sample == 0').drop(['sample'], axis=1)\n",
    "\n",
    "train_data = data_for_model.query('sample == 1').drop(['sample'], axis=1)\n",
    "test_data = data_for_model.query('sample == 0').drop(['sample'], axis=1)\n",
    "\n",
    "y = train_data.Rating.values            # наш таргет\n",
    "X = train_data.drop(['Rating'], axis=1)"
   ]
  },
  {
   "cell_type": "code",
   "execution_count": 70,
   "metadata": {},
   "outputs": [],
   "source": [
    "# Воспользуемся специальной функцие train_test_split для разбивки тестовых данных\n",
    "# выделим 20% данных на валидацию (параметр test_size)\n",
    "X_train, X_test, y_train, y_test = train_test_split(X, y, test_size=0.2, random_state=RANDOM_SEED)"
   ]
  },
  {
   "cell_type": "code",
   "execution_count": 71,
   "metadata": {},
   "outputs": [
    {
     "data": {
      "text/plain": [
       "((10000, 11), (40000, 11), (40000, 10), (32000, 10), (8000, 10))"
      ]
     },
     "execution_count": 71,
     "metadata": {},
     "output_type": "execute_result"
    }
   ],
   "source": [
    "# проверяем\n",
    "test_data.shape, train_data.shape, X.shape, X_train.shape, X_test.shape"
   ]
  },
  {
   "cell_type": "markdown",
   "metadata": {},
   "source": [
    "# Model \n",
    "Сам ML"
   ]
  },
  {
   "cell_type": "code",
   "execution_count": 72,
   "metadata": {},
   "outputs": [],
   "source": [
    "# Импортируем необходимые библиотеки:\n",
    "from sklearn.ensemble import RandomForestRegressor # инструмент для создания и обучения модели\n",
    "from sklearn import metrics # инструменты для оценки точности модели"
   ]
  },
  {
   "cell_type": "code",
   "execution_count": 73,
   "metadata": {},
   "outputs": [],
   "source": [
    "# Создаём модель (НАСТРОЙКИ НЕ ТРОГАЕМ)\n",
    "model = RandomForestRegressor(n_estimators=100, verbose=1, n_jobs=-1, random_state=RANDOM_SEED)"
   ]
  },
  {
   "cell_type": "code",
   "execution_count": 74,
   "metadata": {},
   "outputs": [
    {
     "name": "stderr",
     "output_type": "stream",
     "text": [
      "[Parallel(n_jobs=-1)]: Using backend ThreadingBackend with 4 concurrent workers.\n",
      "[Parallel(n_jobs=-1)]: Done  42 tasks      | elapsed:    2.9s\n",
      "[Parallel(n_jobs=-1)]: Done 100 out of 100 | elapsed:    6.6s finished\n",
      "[Parallel(n_jobs=4)]: Using backend ThreadingBackend with 4 concurrent workers.\n",
      "[Parallel(n_jobs=4)]: Done  42 tasks      | elapsed:    0.0s\n",
      "[Parallel(n_jobs=4)]: Done 100 out of 100 | elapsed:    0.1s finished\n"
     ]
    }
   ],
   "source": [
    "# Обучаем модель на тестовом наборе данных\n",
    "model.fit(X_train, y_train)\n",
    "\n",
    "# Используем обученную модель для предсказания рейтинга ресторанов в тестовой выборке.\n",
    "# Предсказанные значения записываем в переменную y_pred\n",
    "y_pred = model.predict(X_test)"
   ]
  },
  {
   "cell_type": "code",
   "execution_count": 75,
   "metadata": {},
   "outputs": [
    {
     "name": "stdout",
     "output_type": "stream",
     "text": [
      "MAE: 0.210928125\n"
     ]
    }
   ],
   "source": [
    "# Сравниваем предсказанные значения (y_pred) с реальными (y_test), и смотрим насколько они в среднем отличаются\n",
    "# Метрика называется Mean Absolute Error (MAE) и показывает среднее отклонение предсказанных значений от фактических.\n",
    "print('MAE:', metrics.mean_absolute_error(y_test, y_pred))"
   ]
  },
  {
   "cell_type": "code",
   "execution_count": 76,
   "metadata": {},
   "outputs": [
    {
     "data": {
      "text/plain": [
       "<matplotlib.axes._subplots.AxesSubplot at 0x7f591901f668>"
      ]
     },
     "execution_count": 76,
     "metadata": {},
     "output_type": "execute_result"
    },
    {
     "data": {
      "image/png": "[encoded data removed]",
      "text/plain": [
       "<Figure size 720x720 with 1 Axes>"
      ]
     },
     "metadata": {
      "needs_background": "light"
     },
     "output_type": "display_data"
    }
   ],
   "source": [
    "## в RandomForestRegressor есть возможность вывести самые важные признаки для модели\n",
    "plt.rcParams['figure.figsize'] = (10,10)\n",
    "feat_importances = pd.Series(model.feature_importances_, index=X.columns)\n",
    "feat_importances.nlargest(20).plot(kind='barh')"
   ]
  },
  {
   "cell_type": "markdown",
   "metadata": {},
   "source": [
    "## SUMMARY\n",
    "- we analysed the data and removed NA's where neeede.\n",
    "- created new feature like:\n",
    "\n",
    "\n",
    "1. we clustered Cities by Ranking. There are some dependencies between City and Ranking\n",
    "2. created new variables based on City population\n",
    "3. clustered the information of cuisine style like helathy food, italian, asian etc. to reduce number of cuines. At leased we created dummy variables based on this information\n",
    "4. recoded Price Range into PriceCat as ordinal variable and puted Na's to 0, like no price range. As we can compare tha numers in Price Category like  3 is higher that 2 we don't need to build dummies based on Prioce Range\n",
    "5. Build some list with positive and negative words, searched for this wird in Review and created new features like positive, negative and neutral reviews\n"
   ]
  },
  {
   "cell_type": "markdown",
   "metadata": {},
   "source": [
    "# Submission\n",
    "Если все устраевает - готовим Submission на кагл"
   ]
  },
  {
   "cell_type": "code",
   "execution_count": 77,
   "metadata": {},
   "outputs": [
    {
     "data": {
      "text/html": [
       "<div>\n",
       "<style scoped>\n",
       "    .dataframe tbody tr th:only-of-type {\n",
       "        vertical-align: middle;\n",
       "    }\n",
       "\n",
       "    .dataframe tbody tr th {\n",
       "        vertical-align: top;\n",
       "    }\n",
       "\n",
       "    .dataframe thead th {\n",
       "        text-align: right;\n",
       "    }\n",
       "</style>\n",
       "<table border=\"1\" class=\"dataframe\">\n",
       "  <thead>\n",
       "    <tr style=\"text-align: right;\">\n",
       "      <th></th>\n",
       "      <th>RankingCityDist</th>\n",
       "      <th>NumberofReviews</th>\n",
       "      <th>Rating</th>\n",
       "      <th>Ranking</th>\n",
       "      <th>СityPopulation</th>\n",
       "      <th>RankingCityPop</th>\n",
       "      <th>CityNbRest</th>\n",
       "      <th>cuisine_nb</th>\n",
       "      <th>PriceCat</th>\n",
       "      <th>european</th>\n",
       "      <th>positive_review</th>\n",
       "    </tr>\n",
       "  </thead>\n",
       "  <tbody>\n",
       "    <tr>\n",
       "      <th>868</th>\n",
       "      <td>2.287671</td>\n",
       "      <td>0.0</td>\n",
       "      <td>0.0</td>\n",
       "      <td>3006.0</td>\n",
       "      <td>208</td>\n",
       "      <td>14.451923</td>\n",
       "      <td>1314</td>\n",
       "      <td>1</td>\n",
       "      <td>0</td>\n",
       "      <td>0</td>\n",
       "      <td>0</td>\n",
       "    </tr>\n",
       "    <tr>\n",
       "      <th>7371</th>\n",
       "      <td>1.808287</td>\n",
       "      <td>5.0</td>\n",
       "      <td>0.0</td>\n",
       "      <td>6895.0</td>\n",
       "      <td>6618</td>\n",
       "      <td>1.041856</td>\n",
       "      <td>3813</td>\n",
       "      <td>1</td>\n",
       "      <td>0</td>\n",
       "      <td>0</td>\n",
       "      <td>0</td>\n",
       "    </tr>\n",
       "    <tr>\n",
       "      <th>8066</th>\n",
       "      <td>2.305009</td>\n",
       "      <td>0.0</td>\n",
       "      <td>0.0</td>\n",
       "      <td>8789.0</td>\n",
       "      <td>6618</td>\n",
       "      <td>1.328045</td>\n",
       "      <td>3813</td>\n",
       "      <td>1</td>\n",
       "      <td>0</td>\n",
       "      <td>0</td>\n",
       "      <td>0</td>\n",
       "    </tr>\n",
       "    <tr>\n",
       "      <th>6262</th>\n",
       "      <td>1.052865</td>\n",
       "      <td>6.0</td>\n",
       "      <td>0.0</td>\n",
       "      <td>2848.0</td>\n",
       "      <td>3562</td>\n",
       "      <td>0.799551</td>\n",
       "      <td>2705</td>\n",
       "      <td>3</td>\n",
       "      <td>0</td>\n",
       "      <td>0</td>\n",
       "      <td>0</td>\n",
       "    </tr>\n",
       "    <tr>\n",
       "      <th>4169</th>\n",
       "      <td>0.494597</td>\n",
       "      <td>113.0</td>\n",
       "      <td>0.0</td>\n",
       "      <td>3021.0</td>\n",
       "      <td>12278</td>\n",
       "      <td>0.246050</td>\n",
       "      <td>6108</td>\n",
       "      <td>2</td>\n",
       "      <td>2</td>\n",
       "      <td>1</td>\n",
       "      <td>0</td>\n",
       "    </tr>\n",
       "    <tr>\n",
       "      <th>643</th>\n",
       "      <td>1.740088</td>\n",
       "      <td>6.0</td>\n",
       "      <td>0.0</td>\n",
       "      <td>3160.0</td>\n",
       "      <td>1306</td>\n",
       "      <td>2.419602</td>\n",
       "      <td>1816</td>\n",
       "      <td>3</td>\n",
       "      <td>0</td>\n",
       "      <td>1</td>\n",
       "      <td>0</td>\n",
       "    </tr>\n",
       "    <tr>\n",
       "      <th>9672</th>\n",
       "      <td>0.607165</td>\n",
       "      <td>48.0</td>\n",
       "      <td>0.0</td>\n",
       "      <td>1000.0</td>\n",
       "      <td>2957</td>\n",
       "      <td>0.338181</td>\n",
       "      <td>1647</td>\n",
       "      <td>3</td>\n",
       "      <td>2</td>\n",
       "      <td>1</td>\n",
       "      <td>0</td>\n",
       "    </tr>\n",
       "    <tr>\n",
       "      <th>9369</th>\n",
       "      <td>2.195564</td>\n",
       "      <td>0.0</td>\n",
       "      <td>0.0</td>\n",
       "      <td>5939.0</td>\n",
       "      <td>3562</td>\n",
       "      <td>1.667322</td>\n",
       "      <td>2705</td>\n",
       "      <td>1</td>\n",
       "      <td>0</td>\n",
       "      <td>0</td>\n",
       "      <td>0</td>\n",
       "    </tr>\n",
       "    <tr>\n",
       "      <th>1558</th>\n",
       "      <td>1.039293</td>\n",
       "      <td>41.0</td>\n",
       "      <td>0.0</td>\n",
       "      <td>6348.0</td>\n",
       "      <td>12278</td>\n",
       "      <td>0.517022</td>\n",
       "      <td>6108</td>\n",
       "      <td>1</td>\n",
       "      <td>2</td>\n",
       "      <td>0</td>\n",
       "      <td>0</td>\n",
       "    </tr>\n",
       "    <tr>\n",
       "      <th>2061</th>\n",
       "      <td>0.384912</td>\n",
       "      <td>90.0</td>\n",
       "      <td>0.0</td>\n",
       "      <td>699.0</td>\n",
       "      <td>1306</td>\n",
       "      <td>0.535222</td>\n",
       "      <td>1816</td>\n",
       "      <td>6</td>\n",
       "      <td>2</td>\n",
       "      <td>0</td>\n",
       "      <td>0</td>\n",
       "    </tr>\n",
       "  </tbody>\n",
       "</table>\n",
       "</div>"
      ],
      "text/plain": [
       "      RankingCityDist  NumberofReviews  Rating  Ranking  СityPopulation  \\\n",
       "868          2.287671              0.0     0.0   3006.0             208   \n",
       "7371         1.808287              5.0     0.0   6895.0            6618   \n",
       "8066         2.305009              0.0     0.0   8789.0            6618   \n",
       "6262         1.052865              6.0     0.0   2848.0            3562   \n",
       "4169         0.494597            113.0     0.0   3021.0           12278   \n",
       "643          1.740088              6.0     0.0   3160.0            1306   \n",
       "9672         0.607165             48.0     0.0   1000.0            2957   \n",
       "9369         2.195564              0.0     0.0   5939.0            3562   \n",
       "1558         1.039293             41.0     0.0   6348.0           12278   \n",
       "2061         0.384912             90.0     0.0    699.0            1306   \n",
       "\n",
       "      RankingCityPop  CityNbRest  cuisine_nb  PriceCat  european  \\\n",
       "868        14.451923        1314           1         0         0   \n",
       "7371        1.041856        3813           1         0         0   \n",
       "8066        1.328045        3813           1         0         0   \n",
       "6262        0.799551        2705           3         0         0   \n",
       "4169        0.246050        6108           2         2         1   \n",
       "643         2.419602        1816           3         0         1   \n",
       "9672        0.338181        1647           3         2         1   \n",
       "9369        1.667322        2705           1         0         0   \n",
       "1558        0.517022        6108           1         2         0   \n",
       "2061        0.535222        1816           6         2         0   \n",
       "\n",
       "      positive_review  \n",
       "868                 0  \n",
       "7371                0  \n",
       "8066                0  \n",
       "6262                0  \n",
       "4169                0  \n",
       "643                 0  \n",
       "9672                0  \n",
       "9369                0  \n",
       "1558                0  \n",
       "2061                0  "
      ]
     },
     "execution_count": 77,
     "metadata": {},
     "output_type": "execute_result"
    }
   ],
   "source": [
    "test_data.sample(10)"
   ]
  },
  {
   "cell_type": "code",
   "execution_count": 78,
   "metadata": {},
   "outputs": [],
   "source": [
    "test_data = test_data.drop(['Rating'], axis=1)"
   ]
  },
  {
   "cell_type": "code",
   "execution_count": 79,
   "metadata": {},
   "outputs": [
    {
     "data": {
      "text/html": [
       "<div>\n",
       "<style scoped>\n",
       "    .dataframe tbody tr th:only-of-type {\n",
       "        vertical-align: middle;\n",
       "    }\n",
       "\n",
       "    .dataframe tbody tr th {\n",
       "        vertical-align: top;\n",
       "    }\n",
       "\n",
       "    .dataframe thead th {\n",
       "        text-align: right;\n",
       "    }\n",
       "</style>\n",
       "<table border=\"1\" class=\"dataframe\">\n",
       "  <thead>\n",
       "    <tr style=\"text-align: right;\">\n",
       "      <th></th>\n",
       "      <th>Restaurant_id</th>\n",
       "      <th>Rating</th>\n",
       "    </tr>\n",
       "  </thead>\n",
       "  <tbody>\n",
       "    <tr>\n",
       "      <th>0</th>\n",
       "      <td>id_0</td>\n",
       "      <td>2.0</td>\n",
       "    </tr>\n",
       "    <tr>\n",
       "      <th>1</th>\n",
       "      <td>id_1</td>\n",
       "      <td>2.5</td>\n",
       "    </tr>\n",
       "    <tr>\n",
       "      <th>2</th>\n",
       "      <td>id_2</td>\n",
       "      <td>4.0</td>\n",
       "    </tr>\n",
       "    <tr>\n",
       "      <th>3</th>\n",
       "      <td>id_3</td>\n",
       "      <td>1.0</td>\n",
       "    </tr>\n",
       "    <tr>\n",
       "      <th>4</th>\n",
       "      <td>id_4</td>\n",
       "      <td>4.0</td>\n",
       "    </tr>\n",
       "    <tr>\n",
       "      <th>...</th>\n",
       "      <td>...</td>\n",
       "      <td>...</td>\n",
       "    </tr>\n",
       "    <tr>\n",
       "      <th>9995</th>\n",
       "      <td>id_9995</td>\n",
       "      <td>3.0</td>\n",
       "    </tr>\n",
       "    <tr>\n",
       "      <th>9996</th>\n",
       "      <td>id_9996</td>\n",
       "      <td>1.5</td>\n",
       "    </tr>\n",
       "    <tr>\n",
       "      <th>9997</th>\n",
       "      <td>id_9997</td>\n",
       "      <td>4.5</td>\n",
       "    </tr>\n",
       "    <tr>\n",
       "      <th>9998</th>\n",
       "      <td>id_9998</td>\n",
       "      <td>1.0</td>\n",
       "    </tr>\n",
       "    <tr>\n",
       "      <th>9999</th>\n",
       "      <td>id_9999</td>\n",
       "      <td>2.5</td>\n",
       "    </tr>\n",
       "  </tbody>\n",
       "</table>\n",
       "<p>10000 rows × 2 columns</p>\n",
       "</div>"
      ],
      "text/plain": [
       "     Restaurant_id  Rating\n",
       "0             id_0     2.0\n",
       "1             id_1     2.5\n",
       "2             id_2     4.0\n",
       "3             id_3     1.0\n",
       "4             id_4     4.0\n",
       "...            ...     ...\n",
       "9995       id_9995     3.0\n",
       "9996       id_9996     1.5\n",
       "9997       id_9997     4.5\n",
       "9998       id_9998     1.0\n",
       "9999       id_9999     2.5\n",
       "\n",
       "[10000 rows x 2 columns]"
      ]
     },
     "execution_count": 79,
     "metadata": {},
     "output_type": "execute_result"
    }
   ],
   "source": [
    "sample_submission"
   ]
  },
  {
   "cell_type": "code",
   "execution_count": 80,
   "metadata": {},
   "outputs": [
    {
     "name": "stderr",
     "output_type": "stream",
     "text": [
      "[Parallel(n_jobs=4)]: Using backend ThreadingBackend with 4 concurrent workers.\n",
      "[Parallel(n_jobs=4)]: Done  42 tasks      | elapsed:    0.0s\n",
      "[Parallel(n_jobs=4)]: Done 100 out of 100 | elapsed:    0.1s finished\n"
     ]
    }
   ],
   "source": [
    "predict_submission = model.predict(test_data)"
   ]
  },
  {
   "cell_type": "code",
   "execution_count": 81,
   "metadata": {},
   "outputs": [
    {
     "data": {
      "text/plain": [
       "array([3.04 , 4.235, 4.385, ..., 3.04 , 4.5  , 4.225])"
      ]
     },
     "execution_count": 81,
     "metadata": {},
     "output_type": "execute_result"
    }
   ],
   "source": [
    "predict_submission"
   ]
  },
  {
   "cell_type": "code",
   "execution_count": 82,
   "metadata": {},
   "outputs": [
    {
     "data": {
      "text/html": [
       "<div>\n",
       "<style scoped>\n",
       "    .dataframe tbody tr th:only-of-type {\n",
       "        vertical-align: middle;\n",
       "    }\n",
       "\n",
       "    .dataframe tbody tr th {\n",
       "        vertical-align: top;\n",
       "    }\n",
       "\n",
       "    .dataframe thead th {\n",
       "        text-align: right;\n",
       "    }\n",
       "</style>\n",
       "<table border=\"1\" class=\"dataframe\">\n",
       "  <thead>\n",
       "    <tr style=\"text-align: right;\">\n",
       "      <th></th>\n",
       "      <th>Restaurant_id</th>\n",
       "      <th>Rating</th>\n",
       "    </tr>\n",
       "  </thead>\n",
       "  <tbody>\n",
       "    <tr>\n",
       "      <th>0</th>\n",
       "      <td>id_0</td>\n",
       "      <td>2.0</td>\n",
       "    </tr>\n",
       "    <tr>\n",
       "      <th>1</th>\n",
       "      <td>id_1</td>\n",
       "      <td>2.5</td>\n",
       "    </tr>\n",
       "    <tr>\n",
       "      <th>2</th>\n",
       "      <td>id_2</td>\n",
       "      <td>4.0</td>\n",
       "    </tr>\n",
       "    <tr>\n",
       "      <th>3</th>\n",
       "      <td>id_3</td>\n",
       "      <td>1.0</td>\n",
       "    </tr>\n",
       "    <tr>\n",
       "      <th>4</th>\n",
       "      <td>id_4</td>\n",
       "      <td>4.0</td>\n",
       "    </tr>\n",
       "    <tr>\n",
       "      <th>...</th>\n",
       "      <td>...</td>\n",
       "      <td>...</td>\n",
       "    </tr>\n",
       "    <tr>\n",
       "      <th>9995</th>\n",
       "      <td>id_9995</td>\n",
       "      <td>3.0</td>\n",
       "    </tr>\n",
       "    <tr>\n",
       "      <th>9996</th>\n",
       "      <td>id_9996</td>\n",
       "      <td>1.5</td>\n",
       "    </tr>\n",
       "    <tr>\n",
       "      <th>9997</th>\n",
       "      <td>id_9997</td>\n",
       "      <td>4.5</td>\n",
       "    </tr>\n",
       "    <tr>\n",
       "      <th>9998</th>\n",
       "      <td>id_9998</td>\n",
       "      <td>1.0</td>\n",
       "    </tr>\n",
       "    <tr>\n",
       "      <th>9999</th>\n",
       "      <td>id_9999</td>\n",
       "      <td>2.5</td>\n",
       "    </tr>\n",
       "  </tbody>\n",
       "</table>\n",
       "<p>10000 rows × 2 columns</p>\n",
       "</div>"
      ],
      "text/plain": [
       "     Restaurant_id  Rating\n",
       "0             id_0     2.0\n",
       "1             id_1     2.5\n",
       "2             id_2     4.0\n",
       "3             id_3     1.0\n",
       "4             id_4     4.0\n",
       "...            ...     ...\n",
       "9995       id_9995     3.0\n",
       "9996       id_9996     1.5\n",
       "9997       id_9997     4.5\n",
       "9998       id_9998     1.0\n",
       "9999       id_9999     2.5\n",
       "\n",
       "[10000 rows x 2 columns]"
      ]
     },
     "execution_count": 82,
     "metadata": {},
     "output_type": "execute_result"
    }
   ],
   "source": [
    "sample_submission"
   ]
  },
  {
   "cell_type": "code",
   "execution_count": 83,
   "metadata": {},
   "outputs": [
    {
     "data": {
      "text/html": [
       "<div>\n",
       "<style scoped>\n",
       "    .dataframe tbody tr th:only-of-type {\n",
       "        vertical-align: middle;\n",
       "    }\n",
       "\n",
       "    .dataframe tbody tr th {\n",
       "        vertical-align: top;\n",
       "    }\n",
       "\n",
       "    .dataframe thead th {\n",
       "        text-align: right;\n",
       "    }\n",
       "</style>\n",
       "<table border=\"1\" class=\"dataframe\">\n",
       "  <thead>\n",
       "    <tr style=\"text-align: right;\">\n",
       "      <th></th>\n",
       "      <th>Restaurant_id</th>\n",
       "      <th>Rating</th>\n",
       "    </tr>\n",
       "  </thead>\n",
       "  <tbody>\n",
       "    <tr>\n",
       "      <th>0</th>\n",
       "      <td>id_0</td>\n",
       "      <td>3.040</td>\n",
       "    </tr>\n",
       "    <tr>\n",
       "      <th>1</th>\n",
       "      <td>id_1</td>\n",
       "      <td>4.235</td>\n",
       "    </tr>\n",
       "    <tr>\n",
       "      <th>2</th>\n",
       "      <td>id_2</td>\n",
       "      <td>4.385</td>\n",
       "    </tr>\n",
       "    <tr>\n",
       "      <th>3</th>\n",
       "      <td>id_3</td>\n",
       "      <td>4.270</td>\n",
       "    </tr>\n",
       "    <tr>\n",
       "      <th>4</th>\n",
       "      <td>id_4</td>\n",
       "      <td>4.410</td>\n",
       "    </tr>\n",
       "    <tr>\n",
       "      <th>5</th>\n",
       "      <td>id_5</td>\n",
       "      <td>4.665</td>\n",
       "    </tr>\n",
       "    <tr>\n",
       "      <th>6</th>\n",
       "      <td>id_6</td>\n",
       "      <td>2.750</td>\n",
       "    </tr>\n",
       "    <tr>\n",
       "      <th>7</th>\n",
       "      <td>id_7</td>\n",
       "      <td>2.135</td>\n",
       "    </tr>\n",
       "    <tr>\n",
       "      <th>8</th>\n",
       "      <td>id_8</td>\n",
       "      <td>4.090</td>\n",
       "    </tr>\n",
       "    <tr>\n",
       "      <th>9</th>\n",
       "      <td>id_9</td>\n",
       "      <td>4.715</td>\n",
       "    </tr>\n",
       "  </tbody>\n",
       "</table>\n",
       "</div>"
      ],
      "text/plain": [
       "  Restaurant_id  Rating\n",
       "0          id_0   3.040\n",
       "1          id_1   4.235\n",
       "2          id_2   4.385\n",
       "3          id_3   4.270\n",
       "4          id_4   4.410\n",
       "5          id_5   4.665\n",
       "6          id_6   2.750\n",
       "7          id_7   2.135\n",
       "8          id_8   4.090\n",
       "9          id_9   4.715"
      ]
     },
     "execution_count": 83,
     "metadata": {},
     "output_type": "execute_result"
    }
   ],
   "source": [
    "sample_submission['Rating'] = predict_submission\n",
    "sample_submission.to_csv('submission.csv', index=False)\n",
    "sample_submission.head(10)"
   ]
  },
  {
   "cell_type": "markdown",
   "metadata": {},
   "source": [
    "# What's next?\n",
    "Или что делать, чтоб улучшить результат:\n",
    "* Обработать оставшиеся признаки в понятный для машины формат\n",
    "* Посмотреть, что еще можно извлечь из признаков\n",
    "* Сгенерировать новые признаки\n",
    "* Подгрузить дополнительные данные, например: по населению или благосостоянию городов\n",
    "* Подобрать состав признаков\n",
    "\n",
    "В общем, процесс творческий и весьма увлекательный! Удачи в соревновании!\n"
   ]
  },
  {
   "cell_type": "code",
   "execution_count": null,
   "metadata": {},
   "outputs": [],
   "source": []
  }
 ],
 "metadata": {
  "kernelspec": {
   "display_name": "Python 3",
   "language": "python",
   "name": "python3"
  },
  "language_info": {
   "codemirror_mode": {
    "name": "ipython",
    "version": 3
   },
   "file_extension": ".py",
   "mimetype": "text/x-python",
   "name": "python",
   "nbconvert_exporter": "python",
   "pygments_lexer": "ipython3",
   "version": "3.6.6"
  }
 },
 "nbformat": 4,
 "nbformat_minor": 4
}

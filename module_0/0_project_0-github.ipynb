{
 "cells": [
  {
   "cell_type": "markdown",
   "metadata": {},
   "source": [
    "# ЗАДAНИЕ\n",
    "## Угадай число!\n",
    "\n",
    "Итак, компьютер загадывает целое число от  до , и нам его нужно угадать.\n",
    "Под «угадать», конечно, подразумевается «написать программу, которая угадывает число»."
   ]
  },
  {
   "cell_type": "code",
   "execution_count": 3,
   "metadata": {},
   "outputs": [],
   "source": [
    "import numpy as np\n",
    "def score_game(game_core):\n",
    "    '''Запускаем игру 1000 раз, чтобы узнать, как быстро игра угадывает число'''\n",
    "    count_ls = []\n",
    "    np.random.seed(1)  # фиксируем RANDOM SEED, чтобы ваш эксперимент был воспроизводим!\n",
    "    random_array = np.random.randint(1,101, size=(1000))\n",
    "    \n",
    "    for number in random_array:\n",
    "        count_ls.append(game_core(number))\n",
    "        \n",
    "    score = int(np.mean(count_ls))\n",
    "    print(f\"Ваш алгоритм угадывает число в среднем за {score} попыток\")\n",
    "    \n",
    "    return(score)"
   ]
  },
  {
   "cell_type": "code",
   "execution_count": 4,
   "metadata": {},
   "outputs": [
    {
     "name": "stdout",
     "output_type": "stream",
     "text": [
      "Ваш алгоритм угадывает число в среднем за 9 попыток\n"
     ]
    },
    {
     "data": {
      "text/plain": [
       "9"
      ]
     },
     "execution_count": 4,
     "metadata": {},
     "output_type": "execute_result"
    }
   ],
   "source": [
    "def game_core_v3(number):\n",
    "    '''Функция, угадывающая число: \n",
    "        - устанавливаем счетчик = 1, \n",
    "        - определяем верхний и нижний пределы от 1 до 100, \n",
    "        - и определяем случайное число от 1 до 100. \n",
    "        \n",
    "        - если прогноз (predict) > чем число (number) -> прогноз равен верхней границе\n",
    "        - если прогноз (predict) < чем число (number) -> прогноз равен нижней границе\n",
    "        \n",
    "        -> сокращается интервал для генератора случайных чисел и уменьшается количество попыток.'''    \n",
    "    count = 1\n",
    "    lower_limit = 1\n",
    "    upper_limit = 100\n",
    "    predict = np.random.randint(1,101)\n",
    "    \n",
    "    while number != predict:\n",
    "        count += 1        \n",
    "        if number > predict:\n",
    "            lower_limit = predict            \n",
    "        elif number < predict:\n",
    "            upper_limit = predict            \n",
    "        predict = np.random.randint(lower_limit, upper_limit+1)\n",
    "        \n",
    "    return(count) # выход из цикла, если угадали\n",
    "\n",
    "\n",
    "score_game(game_core_v3)"
   ]
  }
 ],
 "metadata": {
  "kernelspec": {
   "display_name": "Python 3",
   "language": "python",
   "name": "python3"
  },
  "language_info": {
   "codemirror_mode": {
    "name": "ipython",
    "version": 3
   },
   "file_extension": ".py",
   "mimetype": "text/x-python",
   "name": "python",
   "nbconvert_exporter": "python",
   "pygments_lexer": "ipython3",
   "version": "3.7.6"
  }
 },
 "nbformat": 4,
 "nbformat_minor": 4
}
